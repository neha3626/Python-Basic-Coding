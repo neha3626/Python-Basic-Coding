{
 "cells": [
  {
   "cell_type": "markdown",
   "id": "96f0dfd1",
   "metadata": {},
   "source": [
    "# Map & Filter function in lambda"
   ]
  },
  {
   "cell_type": "markdown",
   "id": "47962fed",
   "metadata": {},
   "source": [
    "map in lambda............it applies on list"
   ]
  },
  {
   "cell_type": "code",
   "execution_count": 1,
   "id": "142d7fef",
   "metadata": {},
   "outputs": [
    {
     "data": {
      "text/plain": [
       "<map at 0x25944c25f40>"
      ]
     },
     "execution_count": 1,
     "metadata": {},
     "output_type": "execute_result"
    }
   ],
   "source": [
    "mylist=[1,2,3,4]\n",
    "map(lambda x : x*2,mylist)"
   ]
  },
  {
   "cell_type": "code",
   "execution_count": 2,
   "id": "d639d274",
   "metadata": {},
   "outputs": [
    {
     "data": {
      "text/plain": [
       "[2, 4, 6, 8]"
      ]
     },
     "execution_count": 2,
     "metadata": {},
     "output_type": "execute_result"
    }
   ],
   "source": [
    "list(map(lambda x : x*2,mylist))"
   ]
  },
  {
   "cell_type": "code",
   "execution_count": 10,
   "id": "e3ee97d3",
   "metadata": {},
   "outputs": [],
   "source": [
    "# convert tempture into celsius\n",
    "\n",
    "c1=[64,62,69,70]\n",
    "c=list(map(lambda x : 5/9*(x-32),c1))"
   ]
  },
  {
   "cell_type": "code",
   "execution_count": 11,
   "id": "ae2f4002",
   "metadata": {},
   "outputs": [
    {
     "data": {
      "text/plain": [
       "[17.77777777777778, 16.666666666666668, 20.555555555555557, 21.11111111111111]"
      ]
     },
     "execution_count": 11,
     "metadata": {},
     "output_type": "execute_result"
    }
   ],
   "source": [
    "c"
   ]
  },
  {
   "cell_type": "code",
   "execution_count": 26,
   "id": "613c8f62",
   "metadata": {},
   "outputs": [],
   "source": [
    "newlist = [round(x,2) for x in c]"
   ]
  },
  {
   "cell_type": "code",
   "execution_count": 27,
   "id": "7b7f7a27",
   "metadata": {},
   "outputs": [
    {
     "data": {
      "text/plain": [
       "[17.78, 16.67, 20.56, 21.11]"
      ]
     },
     "execution_count": 27,
     "metadata": {},
     "output_type": "execute_result"
    }
   ],
   "source": [
    "newlist"
   ]
  },
  {
   "cell_type": "code",
   "execution_count": 30,
   "id": "c80c38ba",
   "metadata": {},
   "outputs": [
    {
     "data": {
      "text/plain": [
       "['17.78', '16.67', '20.56', '21.11']"
      ]
     },
     "execution_count": 30,
     "metadata": {},
     "output_type": "execute_result"
    }
   ],
   "source": [
    "newlist = ['%.2f'% j for j in c]\n",
    "newlist"
   ]
  },
  {
   "cell_type": "code",
   "execution_count": 31,
   "id": "91187b16",
   "metadata": {},
   "outputs": [],
   "source": [
    "# convert tempture into ferhnheit\n",
    "\n",
    "d = [17,20,12,14]\n",
    "\n",
    "f=list(map(lambda x :9/5*x+32,d))"
   ]
  },
  {
   "cell_type": "code",
   "execution_count": 32,
   "id": "e99cc25b",
   "metadata": {},
   "outputs": [
    {
     "data": {
      "text/plain": [
       "[62.6, 68.0, 53.6, 57.2]"
      ]
     },
     "execution_count": 32,
     "metadata": {},
     "output_type": "execute_result"
    }
   ],
   "source": [
    "f"
   ]
  },
  {
   "cell_type": "code",
   "execution_count": 33,
   "id": "aaf44c80",
   "metadata": {},
   "outputs": [],
   "source": [
    "newlist1 = ['%.2f'% i for i in f]"
   ]
  },
  {
   "cell_type": "code",
   "execution_count": 34,
   "id": "71661b77",
   "metadata": {},
   "outputs": [
    {
     "data": {
      "text/plain": [
       "['62.60', '68.00', '53.60', '57.20']"
      ]
     },
     "execution_count": 34,
     "metadata": {},
     "output_type": "execute_result"
    }
   ],
   "source": [
    "newlist1"
   ]
  },
  {
   "cell_type": "markdown",
   "id": "513dfcd7",
   "metadata": {},
   "source": [
    "# Filter Function:"
   ]
  },
  {
   "cell_type": "code",
   "execution_count": 18,
   "id": "6e275324",
   "metadata": {},
   "outputs": [
    {
     "data": {
      "text/plain": [
       "[1]"
      ]
     },
     "execution_count": 18,
     "metadata": {},
     "output_type": "execute_result"
    }
   ],
   "source": [
    "mylist=[1,2,3,4,5]\n",
    "\n",
    "list(filter(lambda x : x<2,mylist))"
   ]
  },
  {
   "cell_type": "code",
   "execution_count": 19,
   "id": "6e3c0009",
   "metadata": {},
   "outputs": [
    {
     "data": {
      "text/plain": [
       "[1, 2, 3]"
      ]
     },
     "execution_count": 19,
     "metadata": {},
     "output_type": "execute_result"
    }
   ],
   "source": [
    "mylist=[1,2,3,4,5]\n",
    "\n",
    "list(filter(lambda x : x<4,mylist))"
   ]
  },
  {
   "cell_type": "code",
   "execution_count": 20,
   "id": "5f3a2c30",
   "metadata": {},
   "outputs": [
    {
     "data": {
      "text/plain": [
       "[3, 4, 5]"
      ]
     },
     "execution_count": 20,
     "metadata": {},
     "output_type": "execute_result"
    }
   ],
   "source": [
    "mylist=[1,2,3,4,5]\n",
    "\n",
    "list(filter(lambda x : x>2,mylist))"
   ]
  },
  {
   "cell_type": "code",
   "execution_count": 21,
   "id": "4c7df5e5",
   "metadata": {},
   "outputs": [
    {
     "data": {
      "text/plain": [
       "[0, 2, 4, 6, 8, 10]"
      ]
     },
     "execution_count": 21,
     "metadata": {},
     "output_type": "execute_result"
    }
   ],
   "source": [
    "even=lambda x:x%2==0\n",
    "\n",
    "list(filter(even,range(12)))"
   ]
  },
  {
   "cell_type": "code",
   "execution_count": 22,
   "id": "8eca79fe",
   "metadata": {},
   "outputs": [
    {
     "data": {
      "text/plain": [
       "[1, 3, 5, 7, 9, 11]"
      ]
     },
     "execution_count": 22,
     "metadata": {},
     "output_type": "execute_result"
    }
   ],
   "source": [
    "odd = lambda x:x%2!=0\n",
    "\n",
    "list(filter(odd,range(12)))"
   ]
  },
  {
   "cell_type": "code",
   "execution_count": 23,
   "id": "1bb3715d",
   "metadata": {},
   "outputs": [
    {
     "data": {
      "text/plain": [
       "[0, 2, 4, 6, 8, 10, 12, 14]"
      ]
     },
     "execution_count": 23,
     "metadata": {},
     "output_type": "execute_result"
    }
   ],
   "source": [
    "even=lambda x:x%2==0\n",
    "\n",
    "list(filter(even,range(15)))"
   ]
  },
  {
   "cell_type": "code",
   "execution_count": 24,
   "id": "26accb5c",
   "metadata": {},
   "outputs": [
    {
     "data": {
      "text/plain": [
       "[0, 2, 4, 6, 8, 10]"
      ]
     },
     "execution_count": 24,
     "metadata": {},
     "output_type": "execute_result"
    }
   ],
   "source": [
    "# you can do it by list comprehence\n",
    "[x for x in range(11) if x%2 ==0]"
   ]
  },
  {
   "cell_type": "code",
   "execution_count": 25,
   "id": "33398865",
   "metadata": {},
   "outputs": [
    {
     "data": {
      "text/plain": [
       "[1, 3, 5, 7, 9, 11, 13, 15]"
      ]
     },
     "execution_count": 25,
     "metadata": {},
     "output_type": "execute_result"
    }
   ],
   "source": [
    "[x for x in range(16) if x%2!=0]"
   ]
  },
  {
   "cell_type": "code",
   "execution_count": null,
   "id": "113c2023",
   "metadata": {},
   "outputs": [],
   "source": []
  }
 ],
 "metadata": {
  "kernelspec": {
   "display_name": "Python 3 (ipykernel)",
   "language": "python",
   "name": "python3"
  },
  "language_info": {
   "codemirror_mode": {
    "name": "ipython",
    "version": 3
   },
   "file_extension": ".py",
   "mimetype": "text/x-python",
   "name": "python",
   "nbconvert_exporter": "python",
   "pygments_lexer": "ipython3",
   "version": "3.9.7"
  }
 },
 "nbformat": 4,
 "nbformat_minor": 5
}
