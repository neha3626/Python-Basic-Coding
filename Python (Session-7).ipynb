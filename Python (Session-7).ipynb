{
 "cells": [
  {
   "cell_type": "markdown",
   "id": "cc29fea5",
   "metadata": {},
   "source": [
    "# String.Format function:"
   ]
  },
  {
   "cell_type": "code",
   "execution_count": 2,
   "id": "e99b6f84",
   "metadata": {},
   "outputs": [
    {
     "name": "stdout",
     "output_type": "stream",
     "text": [
      "i like to eat milk and banana\n"
     ]
    }
   ],
   "source": [
    "print('i like to eat {} and {}'.format('milk','banana'))"
   ]
  },
  {
   "cell_type": "code",
   "execution_count": 6,
   "id": "d4cef57a",
   "metadata": {},
   "outputs": [
    {
     "name": "stdout",
     "output_type": "stream",
     "text": [
      "when i go for lunch i like to eat piza an coke\n"
     ]
    }
   ],
   "source": [
    "print('when i go for lunch i like to eat {0} an {1}'.format('piza','coke'))"
   ]
  },
  {
   "cell_type": "code",
   "execution_count": 8,
   "id": "3e4dfee0",
   "metadata": {},
   "outputs": [
    {
     "name": "stdout",
     "output_type": "stream",
     "text": [
      "her name is neha and age 27\n"
     ]
    }
   ],
   "source": [
    "name='neha'\n",
    "age = 27\n",
    "\n",
    "print('her name is {} and age {}'.format(name,age))"
   ]
  },
  {
   "cell_type": "markdown",
   "id": "b021d9e6",
   "metadata": {},
   "source": [
    "# List Comprehension:"
   ]
  },
  {
   "cell_type": "code",
   "execution_count": 14,
   "id": "440e4afb",
   "metadata": {},
   "outputs": [],
   "source": [
    "p=[i for i in [11,12,13,15]]"
   ]
  },
  {
   "cell_type": "code",
   "execution_count": 15,
   "id": "152a5fc0",
   "metadata": {},
   "outputs": [
    {
     "data": {
      "text/plain": [
       "[11, 12, 13, 15]"
      ]
     },
     "execution_count": 15,
     "metadata": {},
     "output_type": "execute_result"
    }
   ],
   "source": [
    "p"
   ]
  },
  {
   "cell_type": "code",
   "execution_count": 16,
   "id": "5160b94d",
   "metadata": {},
   "outputs": [],
   "source": [
    "k=[i for i in range(0,10)]"
   ]
  },
  {
   "cell_type": "code",
   "execution_count": 17,
   "id": "dc847083",
   "metadata": {},
   "outputs": [
    {
     "data": {
      "text/plain": [
       "[0, 1, 2, 3, 4, 5, 6, 7, 8, 9]"
      ]
     },
     "execution_count": 17,
     "metadata": {},
     "output_type": "execute_result"
    }
   ],
   "source": [
    "k"
   ]
  },
  {
   "cell_type": "code",
   "execution_count": 18,
   "id": "1825d7e7",
   "metadata": {},
   "outputs": [],
   "source": [
    "g=[i for i in range(0,10,2)]"
   ]
  },
  {
   "cell_type": "code",
   "execution_count": 19,
   "id": "e8ba8cda",
   "metadata": {},
   "outputs": [
    {
     "data": {
      "text/plain": [
       "[0, 2, 4, 6, 8]"
      ]
     },
     "execution_count": 19,
     "metadata": {},
     "output_type": "execute_result"
    }
   ],
   "source": [
    "g"
   ]
  },
  {
   "cell_type": "code",
   "execution_count": 20,
   "id": "1beb0716",
   "metadata": {},
   "outputs": [],
   "source": [
    "j=[i for i in range(0,10) if i%2==0]"
   ]
  },
  {
   "cell_type": "code",
   "execution_count": 21,
   "id": "a2b85cc1",
   "metadata": {},
   "outputs": [
    {
     "data": {
      "text/plain": [
       "[0, 2, 4, 6, 8]"
      ]
     },
     "execution_count": 21,
     "metadata": {},
     "output_type": "execute_result"
    }
   ],
   "source": [
    "j"
   ]
  },
  {
   "cell_type": "code",
   "execution_count": 22,
   "id": "8de2349d",
   "metadata": {},
   "outputs": [],
   "source": [
    "j=[i for i in range(0,10) if i%2==1]"
   ]
  },
  {
   "cell_type": "code",
   "execution_count": 23,
   "id": "f4a8e018",
   "metadata": {},
   "outputs": [
    {
     "data": {
      "text/plain": [
       "[1, 3, 5, 7, 9]"
      ]
     },
     "execution_count": 23,
     "metadata": {},
     "output_type": "execute_result"
    }
   ],
   "source": [
    "j"
   ]
  },
  {
   "cell_type": "code",
   "execution_count": null,
   "id": "089bbf95",
   "metadata": {},
   "outputs": [],
   "source": []
  },
  {
   "cell_type": "markdown",
   "id": "2ea33ecd",
   "metadata": {},
   "source": [
    "# Functions-"
   ]
  },
  {
   "cell_type": "markdown",
   "id": "92be843e",
   "metadata": {},
   "source": [
    "there are 3 types of function:\n",
    "    \n",
    "    1. built in/pre-defined function\n",
    "    \n",
    "    2. user-defined function\n",
    "    \n",
    "    3.Lambda function/anonymous function "
   ]
  },
  {
   "cell_type": "markdown",
   "id": "e5ef5e6b",
   "metadata": {},
   "source": [
    "# built in function:"
   ]
  },
  {
   "cell_type": "markdown",
   "id": "a26da5d7",
   "metadata": {},
   "source": [
    "len(),int(),str(),min(),max(),range(),list(),dict(),input(),print()"
   ]
  },
  {
   "cell_type": "code",
   "execution_count": 59,
   "id": "4b8f52ad",
   "metadata": {},
   "outputs": [
    {
     "name": "stdout",
     "output_type": "stream",
     "text": [
      "\n",
      "Welcome to Python 3.9's help utility!\n",
      "\n",
      "If this is your first time using Python, you should definitely check out\n",
      "the tutorial on the Internet at https://docs.python.org/3.9/tutorial/.\n",
      "\n",
      "Enter the name of any module, keyword, or topic to get help on writing\n",
      "Python programs and using Python modules.  To quit this help utility and\n",
      "return to the interpreter, just type \"quit\".\n",
      "\n",
      "To get a list of available modules, keywords, symbols, or topics, type\n",
      "\"modules\", \"keywords\", \"symbols\", or \"topics\".  Each module also comes\n",
      "with a one-line summary of what it does; to list the modules whose name\n",
      "or summary contain a given string such as \"spam\", type \"modules spam\".\n",
      "\n",
      "\n",
      "You are now leaving help and returning to the Python interpreter.\n",
      "If you want to ask for help on a particular object directly from the\n",
      "interpreter, you can type \"help(object)\".  Executing \"help('string')\"\n",
      "has the same effect as typing a particular string at the help> prompt.\n"
     ]
    }
   ],
   "source": [
    "help()"
   ]
  },
  {
   "cell_type": "code",
   "execution_count": 24,
   "id": "f9e8f356",
   "metadata": {},
   "outputs": [
    {
     "name": "stdout",
     "output_type": "stream",
     "text": [
      "Help on built-in function len in module builtins:\n",
      "\n",
      "len(obj, /)\n",
      "    Return the number of items in a container.\n",
      "\n"
     ]
    }
   ],
   "source": [
    "help(len)"
   ]
  },
  {
   "cell_type": "code",
   "execution_count": 25,
   "id": "0249ef56",
   "metadata": {},
   "outputs": [
    {
     "name": "stdout",
     "output_type": "stream",
     "text": [
      "Help on built-in function max in module builtins:\n",
      "\n",
      "max(...)\n",
      "    max(iterable, *[, default=obj, key=func]) -> value\n",
      "    max(arg1, arg2, *args, *[, key=func]) -> value\n",
      "    \n",
      "    With a single iterable argument, return its biggest item. The\n",
      "    default keyword-only argument specifies an object to return if\n",
      "    the provided iterable is empty.\n",
      "    With two or more arguments, return the largest argument.\n",
      "\n"
     ]
    }
   ],
   "source": [
    "help(max)"
   ]
  },
  {
   "cell_type": "code",
   "execution_count": 60,
   "id": "54a658e7",
   "metadata": {},
   "outputs": [
    {
     "name": "stdout",
     "output_type": "stream",
     "text": [
      "Help on built-in function min in module builtins:\n",
      "\n",
      "min(...)\n",
      "    min(iterable, *[, default=obj, key=func]) -> value\n",
      "    min(arg1, arg2, *args, *[, key=func]) -> value\n",
      "    \n",
      "    With a single iterable argument, return its smallest item. The\n",
      "    default keyword-only argument specifies an object to return if\n",
      "    the provided iterable is empty.\n",
      "    With two or more arguments, return the smallest argument.\n",
      "\n"
     ]
    }
   ],
   "source": [
    "help(min)"
   ]
  },
  {
   "cell_type": "code",
   "execution_count": 61,
   "id": "18a3fae2",
   "metadata": {},
   "outputs": [
    {
     "name": "stdout",
     "output_type": "stream",
     "text": [
      "Help on class list in module builtins:\n",
      "\n",
      "class list(object)\n",
      " |  list(iterable=(), /)\n",
      " |  \n",
      " |  Built-in mutable sequence.\n",
      " |  \n",
      " |  If no argument is given, the constructor creates a new empty list.\n",
      " |  The argument must be an iterable if specified.\n",
      " |  \n",
      " |  Methods defined here:\n",
      " |  \n",
      " |  __add__(self, value, /)\n",
      " |      Return self+value.\n",
      " |  \n",
      " |  __contains__(self, key, /)\n",
      " |      Return key in self.\n",
      " |  \n",
      " |  __delitem__(self, key, /)\n",
      " |      Delete self[key].\n",
      " |  \n",
      " |  __eq__(self, value, /)\n",
      " |      Return self==value.\n",
      " |  \n",
      " |  __ge__(self, value, /)\n",
      " |      Return self>=value.\n",
      " |  \n",
      " |  __getattribute__(self, name, /)\n",
      " |      Return getattr(self, name).\n",
      " |  \n",
      " |  __getitem__(...)\n",
      " |      x.__getitem__(y) <==> x[y]\n",
      " |  \n",
      " |  __gt__(self, value, /)\n",
      " |      Return self>value.\n",
      " |  \n",
      " |  __iadd__(self, value, /)\n",
      " |      Implement self+=value.\n",
      " |  \n",
      " |  __imul__(self, value, /)\n",
      " |      Implement self*=value.\n",
      " |  \n",
      " |  __init__(self, /, *args, **kwargs)\n",
      " |      Initialize self.  See help(type(self)) for accurate signature.\n",
      " |  \n",
      " |  __iter__(self, /)\n",
      " |      Implement iter(self).\n",
      " |  \n",
      " |  __le__(self, value, /)\n",
      " |      Return self<=value.\n",
      " |  \n",
      " |  __len__(self, /)\n",
      " |      Return len(self).\n",
      " |  \n",
      " |  __lt__(self, value, /)\n",
      " |      Return self<value.\n",
      " |  \n",
      " |  __mul__(self, value, /)\n",
      " |      Return self*value.\n",
      " |  \n",
      " |  __ne__(self, value, /)\n",
      " |      Return self!=value.\n",
      " |  \n",
      " |  __repr__(self, /)\n",
      " |      Return repr(self).\n",
      " |  \n",
      " |  __reversed__(self, /)\n",
      " |      Return a reverse iterator over the list.\n",
      " |  \n",
      " |  __rmul__(self, value, /)\n",
      " |      Return value*self.\n",
      " |  \n",
      " |  __setitem__(self, key, value, /)\n",
      " |      Set self[key] to value.\n",
      " |  \n",
      " |  __sizeof__(self, /)\n",
      " |      Return the size of the list in memory, in bytes.\n",
      " |  \n",
      " |  append(self, object, /)\n",
      " |      Append object to the end of the list.\n",
      " |  \n",
      " |  clear(self, /)\n",
      " |      Remove all items from list.\n",
      " |  \n",
      " |  copy(self, /)\n",
      " |      Return a shallow copy of the list.\n",
      " |  \n",
      " |  count(self, value, /)\n",
      " |      Return number of occurrences of value.\n",
      " |  \n",
      " |  extend(self, iterable, /)\n",
      " |      Extend list by appending elements from the iterable.\n",
      " |  \n",
      " |  index(self, value, start=0, stop=9223372036854775807, /)\n",
      " |      Return first index of value.\n",
      " |      \n",
      " |      Raises ValueError if the value is not present.\n",
      " |  \n",
      " |  insert(self, index, object, /)\n",
      " |      Insert object before index.\n",
      " |  \n",
      " |  pop(self, index=-1, /)\n",
      " |      Remove and return item at index (default last).\n",
      " |      \n",
      " |      Raises IndexError if list is empty or index is out of range.\n",
      " |  \n",
      " |  remove(self, value, /)\n",
      " |      Remove first occurrence of value.\n",
      " |      \n",
      " |      Raises ValueError if the value is not present.\n",
      " |  \n",
      " |  reverse(self, /)\n",
      " |      Reverse *IN PLACE*.\n",
      " |  \n",
      " |  sort(self, /, *, key=None, reverse=False)\n",
      " |      Sort the list in ascending order and return None.\n",
      " |      \n",
      " |      The sort is in-place (i.e. the list itself is modified) and stable (i.e. the\n",
      " |      order of two equal elements is maintained).\n",
      " |      \n",
      " |      If a key function is given, apply it once to each list item and sort them,\n",
      " |      ascending or descending, according to their function values.\n",
      " |      \n",
      " |      The reverse flag can be set to sort in descending order.\n",
      " |  \n",
      " |  ----------------------------------------------------------------------\n",
      " |  Class methods defined here:\n",
      " |  \n",
      " |  __class_getitem__(...) from builtins.type\n",
      " |      See PEP 585\n",
      " |  \n",
      " |  ----------------------------------------------------------------------\n",
      " |  Static methods defined here:\n",
      " |  \n",
      " |  __new__(*args, **kwargs) from builtins.type\n",
      " |      Create and return a new object.  See help(type) for accurate signature.\n",
      " |  \n",
      " |  ----------------------------------------------------------------------\n",
      " |  Data and other attributes defined here:\n",
      " |  \n",
      " |  __hash__ = None\n",
      "\n"
     ]
    }
   ],
   "source": [
    "help(list)"
   ]
  },
  {
   "cell_type": "code",
   "execution_count": 62,
   "id": "dba39f8b",
   "metadata": {},
   "outputs": [
    {
     "name": "stdout",
     "output_type": "stream",
     "text": [
      "Help on class range in module builtins:\n",
      "\n",
      "class range(object)\n",
      " |  range(stop) -> range object\n",
      " |  range(start, stop[, step]) -> range object\n",
      " |  \n",
      " |  Return an object that produces a sequence of integers from start (inclusive)\n",
      " |  to stop (exclusive) by step.  range(i, j) produces i, i+1, i+2, ..., j-1.\n",
      " |  start defaults to 0, and stop is omitted!  range(4) produces 0, 1, 2, 3.\n",
      " |  These are exactly the valid indices for a list of 4 elements.\n",
      " |  When step is given, it specifies the increment (or decrement).\n",
      " |  \n",
      " |  Methods defined here:\n",
      " |  \n",
      " |  __bool__(self, /)\n",
      " |      self != 0\n",
      " |  \n",
      " |  __contains__(self, key, /)\n",
      " |      Return key in self.\n",
      " |  \n",
      " |  __eq__(self, value, /)\n",
      " |      Return self==value.\n",
      " |  \n",
      " |  __ge__(self, value, /)\n",
      " |      Return self>=value.\n",
      " |  \n",
      " |  __getattribute__(self, name, /)\n",
      " |      Return getattr(self, name).\n",
      " |  \n",
      " |  __getitem__(self, key, /)\n",
      " |      Return self[key].\n",
      " |  \n",
      " |  __gt__(self, value, /)\n",
      " |      Return self>value.\n",
      " |  \n",
      " |  __hash__(self, /)\n",
      " |      Return hash(self).\n",
      " |  \n",
      " |  __iter__(self, /)\n",
      " |      Implement iter(self).\n",
      " |  \n",
      " |  __le__(self, value, /)\n",
      " |      Return self<=value.\n",
      " |  \n",
      " |  __len__(self, /)\n",
      " |      Return len(self).\n",
      " |  \n",
      " |  __lt__(self, value, /)\n",
      " |      Return self<value.\n",
      " |  \n",
      " |  __ne__(self, value, /)\n",
      " |      Return self!=value.\n",
      " |  \n",
      " |  __reduce__(...)\n",
      " |      Helper for pickle.\n",
      " |  \n",
      " |  __repr__(self, /)\n",
      " |      Return repr(self).\n",
      " |  \n",
      " |  __reversed__(...)\n",
      " |      Return a reverse iterator.\n",
      " |  \n",
      " |  count(...)\n",
      " |      rangeobject.count(value) -> integer -- return number of occurrences of value\n",
      " |  \n",
      " |  index(...)\n",
      " |      rangeobject.index(value) -> integer -- return index of value.\n",
      " |      Raise ValueError if the value is not present.\n",
      " |  \n",
      " |  ----------------------------------------------------------------------\n",
      " |  Static methods defined here:\n",
      " |  \n",
      " |  __new__(*args, **kwargs) from builtins.type\n",
      " |      Create and return a new object.  See help(type) for accurate signature.\n",
      " |  \n",
      " |  ----------------------------------------------------------------------\n",
      " |  Data descriptors defined here:\n",
      " |  \n",
      " |  start\n",
      " |  \n",
      " |  step\n",
      " |  \n",
      " |  stop\n",
      "\n"
     ]
    }
   ],
   "source": [
    "help(range)"
   ]
  },
  {
   "cell_type": "code",
   "execution_count": 63,
   "id": "28b7e402",
   "metadata": {},
   "outputs": [
    {
     "name": "stdout",
     "output_type": "stream",
     "text": [
      "Help on method raw_input in module ipykernel.kernelbase:\n",
      "\n",
      "raw_input(prompt='') method of ipykernel.ipkernel.IPythonKernel instance\n",
      "    Forward raw_input to frontends\n",
      "    \n",
      "    Raises\n",
      "    ------\n",
      "    StdinNotImplementedError if active frontend doesn't support stdin.\n",
      "\n"
     ]
    }
   ],
   "source": [
    "help(input)"
   ]
  },
  {
   "cell_type": "code",
   "execution_count": 64,
   "id": "3ef957e5",
   "metadata": {},
   "outputs": [
    {
     "name": "stdout",
     "output_type": "stream",
     "text": [
      "Help on built-in function print in module builtins:\n",
      "\n",
      "print(...)\n",
      "    print(value, ..., sep=' ', end='\\n', file=sys.stdout, flush=False)\n",
      "    \n",
      "    Prints the values to a stream, or to sys.stdout by default.\n",
      "    Optional keyword arguments:\n",
      "    file:  a file-like object (stream); defaults to the current sys.stdout.\n",
      "    sep:   string inserted between values, default a space.\n",
      "    end:   string appended after the last value, default a newline.\n",
      "    flush: whether to forcibly flush the stream.\n",
      "\n"
     ]
    }
   ],
   "source": [
    "help(print)"
   ]
  },
  {
   "cell_type": "code",
   "execution_count": 26,
   "id": "153b659f",
   "metadata": {},
   "outputs": [],
   "source": [
    "k=[10,20,30,40,50]"
   ]
  },
  {
   "cell_type": "code",
   "execution_count": 27,
   "id": "53c9dee8",
   "metadata": {},
   "outputs": [
    {
     "data": {
      "text/plain": [
       "50"
      ]
     },
     "execution_count": 27,
     "metadata": {},
     "output_type": "execute_result"
    }
   ],
   "source": [
    "max(k)"
   ]
  },
  {
   "cell_type": "code",
   "execution_count": 28,
   "id": "a6f16867",
   "metadata": {},
   "outputs": [
    {
     "data": {
      "text/plain": [
       "10"
      ]
     },
     "execution_count": 28,
     "metadata": {},
     "output_type": "execute_result"
    }
   ],
   "source": [
    "min(k)"
   ]
  },
  {
   "cell_type": "markdown",
   "id": "9e0a13d5",
   "metadata": {},
   "source": [
    "user defined function-user can defiend the function "
   ]
  },
  {
   "cell_type": "code",
   "execution_count": 65,
   "id": "d67f11e9",
   "metadata": {},
   "outputs": [],
   "source": [
    "# definiction\n",
    "\n",
    "def function1():\n",
    "    print('learning functions')"
   ]
  },
  {
   "cell_type": "code",
   "execution_count": 66,
   "id": "5a3c0ba2",
   "metadata": {},
   "outputs": [
    {
     "name": "stdout",
     "output_type": "stream",
     "text": [
      "learning functions\n"
     ]
    }
   ],
   "source": [
    "# function calling\n",
    "function1()"
   ]
  },
  {
   "cell_type": "code",
   "execution_count": 70,
   "id": "1d5ec500",
   "metadata": {},
   "outputs": [],
   "source": [
    "def greeting():\n",
    "    \n",
    "    print('hey!good morning')"
   ]
  },
  {
   "cell_type": "code",
   "execution_count": 71,
   "id": "31b5d582",
   "metadata": {},
   "outputs": [
    {
     "name": "stdout",
     "output_type": "stream",
     "text": [
      "hey!good morning\n"
     ]
    }
   ],
   "source": [
    "greeting()"
   ]
  },
  {
   "cell_type": "code",
   "execution_count": 72,
   "id": "00d61c3d",
   "metadata": {},
   "outputs": [],
   "source": [
    "def myfunction():\n",
    "    print(\"learning function2\")"
   ]
  },
  {
   "cell_type": "code",
   "execution_count": 73,
   "id": "2316f320",
   "metadata": {},
   "outputs": [
    {
     "name": "stdout",
     "output_type": "stream",
     "text": [
      "learning function2\n"
     ]
    }
   ],
   "source": [
    "myfunction()"
   ]
  },
  {
   "cell_type": "code",
   "execution_count": 74,
   "id": "bf17a958",
   "metadata": {},
   "outputs": [],
   "source": [
    "def myname():\n",
    "    print('neha')"
   ]
  },
  {
   "cell_type": "code",
   "execution_count": 75,
   "id": "95897fde",
   "metadata": {},
   "outputs": [
    {
     "name": "stdout",
     "output_type": "stream",
     "text": [
      "neha\n"
     ]
    }
   ],
   "source": [
    "myname()"
   ]
  },
  {
   "cell_type": "code",
   "execution_count": 76,
   "id": "8c2b385b",
   "metadata": {},
   "outputs": [],
   "source": [
    "def fruitsname():\n",
    "    print(\"mango\")"
   ]
  },
  {
   "cell_type": "code",
   "execution_count": 77,
   "id": "157f3bea",
   "metadata": {},
   "outputs": [
    {
     "name": "stdout",
     "output_type": "stream",
     "text": [
      "mango\n"
     ]
    }
   ],
   "source": [
    "fruitsname()"
   ]
  },
  {
   "cell_type": "code",
   "execution_count": 78,
   "id": "588ab741",
   "metadata": {},
   "outputs": [],
   "source": [
    "def newfunction():\n",
    "    print('user function')"
   ]
  },
  {
   "cell_type": "code",
   "execution_count": 79,
   "id": "18810981",
   "metadata": {},
   "outputs": [
    {
     "name": "stdout",
     "output_type": "stream",
     "text": [
      "user function\n"
     ]
    }
   ],
   "source": [
    "newfunction()"
   ]
  },
  {
   "cell_type": "code",
   "execution_count": 80,
   "id": "0716cdaf",
   "metadata": {},
   "outputs": [],
   "source": [
    "def addition():\n",
    "    a=10\n",
    "    b=5\n",
    "    c=a+b\n",
    "    print('c =',c)"
   ]
  },
  {
   "cell_type": "code",
   "execution_count": 81,
   "id": "598f4517",
   "metadata": {},
   "outputs": [
    {
     "name": "stdout",
     "output_type": "stream",
     "text": [
      "c = 15\n"
     ]
    }
   ],
   "source": [
    "addition()"
   ]
  },
  {
   "cell_type": "code",
   "execution_count": 82,
   "id": "cccff006",
   "metadata": {},
   "outputs": [],
   "source": [
    "def subtraction():\n",
    "    a=20\n",
    "    b=10\n",
    "    c=a-b\n",
    "    print('c =',c)"
   ]
  },
  {
   "cell_type": "code",
   "execution_count": 83,
   "id": "e857596c",
   "metadata": {},
   "outputs": [
    {
     "name": "stdout",
     "output_type": "stream",
     "text": [
      "c = 10\n"
     ]
    }
   ],
   "source": [
    "subtraction()"
   ]
  },
  {
   "cell_type": "code",
   "execution_count": 84,
   "id": "d26a60dc",
   "metadata": {},
   "outputs": [],
   "source": [
    "def powerfunction():\n",
    "    x=5\n",
    "    print('the square of x =',x,'is',x**2)"
   ]
  },
  {
   "cell_type": "code",
   "execution_count": 85,
   "id": "ddd3ae1d",
   "metadata": {},
   "outputs": [
    {
     "name": "stdout",
     "output_type": "stream",
     "text": [
      "the square of x = 5 is 25\n"
     ]
    }
   ],
   "source": [
    "powerfunction()"
   ]
  },
  {
   "cell_type": "code",
   "execution_count": 86,
   "id": "709602c4",
   "metadata": {},
   "outputs": [],
   "source": [
    "def powerfunction1():\n",
    "    x=5\n",
    "    print('the cube of x =',x,'is',x**3)"
   ]
  },
  {
   "cell_type": "code",
   "execution_count": 87,
   "id": "b22ae73f",
   "metadata": {},
   "outputs": [
    {
     "name": "stdout",
     "output_type": "stream",
     "text": [
      "the square of x = 5 is 25\n"
     ]
    }
   ],
   "source": [
    "powerfunction()"
   ]
  },
  {
   "cell_type": "code",
   "execution_count": 88,
   "id": "349dd25f",
   "metadata": {},
   "outputs": [],
   "source": [
    "def multiply():\n",
    "    x=4\n",
    "    y=2\n",
    "    z=x*y\n",
    "    print('z=',z)"
   ]
  },
  {
   "cell_type": "code",
   "execution_count": 89,
   "id": "17599cf3",
   "metadata": {},
   "outputs": [
    {
     "name": "stdout",
     "output_type": "stream",
     "text": [
      "z= 8\n"
     ]
    }
   ],
   "source": [
    "multiply()"
   ]
  },
  {
   "cell_type": "code",
   "execution_count": 90,
   "id": "018c8d51",
   "metadata": {},
   "outputs": [
    {
     "data": {
      "text/plain": [
       "'44'"
      ]
     },
     "execution_count": 90,
     "metadata": {},
     "output_type": "execute_result"
    }
   ],
   "source": [
    "'4'+'4'"
   ]
  },
  {
   "cell_type": "code",
   "execution_count": 91,
   "id": "2567bb41",
   "metadata": {},
   "outputs": [
    {
     "data": {
      "text/plain": [
       "8"
      ]
     },
     "execution_count": 91,
     "metadata": {},
     "output_type": "execute_result"
    }
   ],
   "source": [
    "4+4"
   ]
  },
  {
   "cell_type": "code",
   "execution_count": 92,
   "id": "e07c8332",
   "metadata": {},
   "outputs": [],
   "source": [
    "def square():\n",
    "    x=8**2\n",
    "    print('x=',x)"
   ]
  },
  {
   "cell_type": "code",
   "execution_count": 93,
   "id": "eee3ad7b",
   "metadata": {},
   "outputs": [
    {
     "name": "stdout",
     "output_type": "stream",
     "text": [
      "x= 64\n"
     ]
    }
   ],
   "source": [
    "square()"
   ]
  },
  {
   "cell_type": "code",
   "execution_count": 94,
   "id": "bc838951",
   "metadata": {},
   "outputs": [],
   "source": [
    "def myaddition():\n",
    "    x=int(input('enter any value'))\n",
    "    y=int(input('enter any value'))\n",
    "    result=x+y\n",
    "    print('the value of result',result)"
   ]
  },
  {
   "cell_type": "code",
   "execution_count": 95,
   "id": "dd5dcfb1",
   "metadata": {},
   "outputs": [
    {
     "name": "stdout",
     "output_type": "stream",
     "text": [
      "enter any value10\n",
      "enter any value15\n",
      "the value of result 25\n"
     ]
    }
   ],
   "source": [
    "myaddition()"
   ]
  },
  {
   "cell_type": "code",
   "execution_count": 96,
   "id": "8bdfa2a4",
   "metadata": {},
   "outputs": [],
   "source": [
    "def area_of_circle():\n",
    "    pi=3.14\n",
    "    #radius=8\n",
    "    radius=int(input('enter any radius'))\n",
    "    area=pi*(radius**2)\n",
    "    print('the area of circle=',round(area,2))"
   ]
  },
  {
   "cell_type": "code",
   "execution_count": 102,
   "id": "c94389f7",
   "metadata": {},
   "outputs": [
    {
     "name": "stdout",
     "output_type": "stream",
     "text": [
      "the area of circle= 452.16\n"
     ]
    }
   ],
   "source": [
    "area_of_circle()"
   ]
  },
  {
   "cell_type": "markdown",
   "id": "8b597446",
   "metadata": {},
   "source": [
    "parametric function"
   ]
  },
  {
   "cell_type": "code",
   "execution_count": 98,
   "id": "cd439b1a",
   "metadata": {},
   "outputs": [],
   "source": [
    "def area_of_circle():\n",
    "    pi=3.14\n",
    "    radius = 12\n",
    "    area = pi*(radius**2)\n",
    "    print('the area of circle=',round(area,2))"
   ]
  },
  {
   "cell_type": "code",
   "execution_count": 101,
   "id": "34bf3ebe",
   "metadata": {},
   "outputs": [
    {
     "name": "stdout",
     "output_type": "stream",
     "text": [
      "the area of circle= 452.16\n"
     ]
    }
   ],
   "source": [
    "area_of_circle()"
   ]
  },
  {
   "cell_type": "code",
   "execution_count": 117,
   "id": "db966247",
   "metadata": {},
   "outputs": [],
   "source": [
    "#parametric function\n",
    "\n",
    "def addition2(a,b):\n",
    "    c=a+b\n",
    "    print('the value of c=',c)"
   ]
  },
  {
   "cell_type": "code",
   "execution_count": 78,
   "id": "51a24467",
   "metadata": {},
   "outputs": [
    {
     "name": "stdout",
     "output_type": "stream",
     "text": [
      "the value of c= 4\n"
     ]
    }
   ],
   "source": [
    "a=2\n",
    "b=2\n",
    "addition2(a,b)"
   ]
  },
  {
   "cell_type": "code",
   "execution_count": 79,
   "id": "9bf18729",
   "metadata": {},
   "outputs": [],
   "source": [
    "def multiply2(a,b):\n",
    "    c=a*b\n",
    "    print('the value of c=',c)"
   ]
  },
  {
   "cell_type": "code",
   "execution_count": 81,
   "id": "aa2ab19e",
   "metadata": {},
   "outputs": [
    {
     "name": "stdout",
     "output_type": "stream",
     "text": [
      "the value of c= 10\n"
     ]
    }
   ],
   "source": [
    "a=2\n",
    "b=5\n",
    "multiply2(a,b)"
   ]
  },
  {
   "cell_type": "code",
   "execution_count": 114,
   "id": "92eed8e0",
   "metadata": {},
   "outputs": [],
   "source": [
    "def multiply3(a,b):\n",
    "    c=a*b\n",
    "    print('the value of c=',c)"
   ]
  },
  {
   "cell_type": "code",
   "execution_count": 116,
   "id": "ab97b108",
   "metadata": {},
   "outputs": [
    {
     "name": "stdout",
     "output_type": "stream",
     "text": [
      "the value of c= 20\n"
     ]
    }
   ],
   "source": [
    "a=10\n",
    "b=2\n",
    "multiply3(a,b)"
   ]
  },
  {
   "cell_type": "code",
   "execution_count": 82,
   "id": "6c2802cb",
   "metadata": {},
   "outputs": [],
   "source": [
    "def areaofcircle(radius):\n",
    "    pi=3.14\n",
    "    area=pi*(radius**2)\n",
    "    print('the area of circle with radius=',radius,'is',area)"
   ]
  },
  {
   "cell_type": "code",
   "execution_count": 85,
   "id": "4c61b5b7",
   "metadata": {},
   "outputs": [
    {
     "name": "stdout",
     "output_type": "stream",
     "text": [
      "enter nay radius value=22\n",
      "the area of circle with radius= 22 is 1519.76\n"
     ]
    }
   ],
   "source": [
    "radius=int(input('enter nay radius value='))\n",
    "areaofcircle(radius)"
   ]
  },
  {
   "cell_type": "code",
   "execution_count": 86,
   "id": "df891971",
   "metadata": {},
   "outputs": [
    {
     "name": "stdout",
     "output_type": "stream",
     "text": [
      "enter any radius5\n",
      "the area of circle= 78.5\n"
     ]
    }
   ],
   "source": [
    "area_of_circle()"
   ]
  },
  {
   "cell_type": "code",
   "execution_count": 87,
   "id": "81f3489c",
   "metadata": {},
   "outputs": [],
   "source": [
    "def area_of_rectangle():\n",
    "    lenght=int(input('enter any length='))\n",
    "    breadth=int(input('enter any breadth'))\n",
    "    area_of_rectangle=lenght*breadth\n",
    "    print('the value of area of rectangle=',area_of_rectangle)"
   ]
  },
  {
   "cell_type": "code",
   "execution_count": 89,
   "id": "535605e8",
   "metadata": {},
   "outputs": [
    {
     "name": "stdout",
     "output_type": "stream",
     "text": [
      "enter any length=55\n",
      "enter any breadth65\n",
      "the value of area of rectangle= 3575\n"
     ]
    }
   ],
   "source": [
    "area_of_rectangle()"
   ]
  },
  {
   "cell_type": "code",
   "execution_count": 100,
   "id": "4411f217",
   "metadata": {},
   "outputs": [],
   "source": [
    "def area_of_rectangle(lenght,breadth):\n",
    "    area=lenght*breadth\n",
    "    print('the area of rectangle=',area)\n",
    "    print('the value of area=',area,'lenght=',lenght,'breadth=',breadth)\n"
   ]
  },
  {
   "cell_type": "code",
   "execution_count": 102,
   "id": "a1af5f9c",
   "metadata": {},
   "outputs": [
    {
     "name": "stdout",
     "output_type": "stream",
     "text": [
      "enter any lenght34\n",
      "enter any breadth50\n",
      "the area of rectangle= 1700\n",
      "the value of area= 1700 lenght= 34 breadth= 50\n"
     ]
    }
   ],
   "source": [
    "#lenght=10\n",
    "#breadth=20\n",
    "\n",
    "lenght=int(input('enter any lenght'))\n",
    "breadth=int(input('enter any breadth'))\n",
    "area_of_rectangle(lenght,breadth)"
   ]
  },
  {
   "cell_type": "code",
   "execution_count": 103,
   "id": "54140195",
   "metadata": {},
   "outputs": [],
   "source": [
    "def runfor_function():\n",
    "    for i in (1,2,3,4,4):\n",
    "        print(i)"
   ]
  },
  {
   "cell_type": "code",
   "execution_count": 104,
   "id": "06ee6d38",
   "metadata": {},
   "outputs": [
    {
     "name": "stdout",
     "output_type": "stream",
     "text": [
      "1\n",
      "2\n",
      "3\n",
      "4\n",
      "4\n"
     ]
    }
   ],
   "source": [
    "runfor_function()"
   ]
  },
  {
   "cell_type": "code",
   "execution_count": 109,
   "id": "25be2eb6",
   "metadata": {},
   "outputs": [],
   "source": [
    "def runfor_function():\n",
    "    for i in range(1,40,5):\n",
    "        print(i)"
   ]
  },
  {
   "cell_type": "code",
   "execution_count": 110,
   "id": "81acb3a6",
   "metadata": {},
   "outputs": [
    {
     "name": "stdout",
     "output_type": "stream",
     "text": [
      "1\n",
      "6\n",
      "11\n",
      "16\n",
      "21\n",
      "26\n",
      "31\n",
      "36\n"
     ]
    }
   ],
   "source": [
    "runfor_function()"
   ]
  },
  {
   "cell_type": "code",
   "execution_count": 103,
   "id": "06f58e1e",
   "metadata": {},
   "outputs": [],
   "source": [
    "def add():\n",
    "    a=10\n",
    "    b=15\n",
    "    c=a*b\n",
    "    return c"
   ]
  },
  {
   "cell_type": "code",
   "execution_count": 104,
   "id": "6dc68c12",
   "metadata": {},
   "outputs": [
    {
     "data": {
      "text/plain": [
       "150"
      ]
     },
     "execution_count": 104,
     "metadata": {},
     "output_type": "execute_result"
    }
   ],
   "source": [
    "add()"
   ]
  },
  {
   "cell_type": "code",
   "execution_count": 105,
   "id": "1f8f42fc",
   "metadata": {},
   "outputs": [],
   "source": [
    "neha=add()"
   ]
  },
  {
   "cell_type": "code",
   "execution_count": 106,
   "id": "649ddebd",
   "metadata": {},
   "outputs": [
    {
     "data": {
      "text/plain": [
       "150"
      ]
     },
     "execution_count": 106,
     "metadata": {},
     "output_type": "execute_result"
    }
   ],
   "source": [
    "neha"
   ]
  },
  {
   "cell_type": "code",
   "execution_count": 107,
   "id": "a84cdca2",
   "metadata": {},
   "outputs": [],
   "source": [
    "def sub(neha):\n",
    "    g=8\n",
    "    value=neha-g\n",
    "    print('the value of sub=',value)"
   ]
  },
  {
   "cell_type": "code",
   "execution_count": 108,
   "id": "b258be14",
   "metadata": {},
   "outputs": [
    {
     "name": "stdout",
     "output_type": "stream",
     "text": [
      "the value of sub= 142\n"
     ]
    }
   ],
   "source": [
    "sub(neha)"
   ]
  },
  {
   "cell_type": "code",
   "execution_count": 109,
   "id": "cc302fc2",
   "metadata": {},
   "outputs": [],
   "source": [
    "def multiply():\n",
    "    a=10\n",
    "    b=2\n",
    "    c=a*b\n",
    "    return c\n",
    "    "
   ]
  },
  {
   "cell_type": "code",
   "execution_count": 110,
   "id": "febe65d0",
   "metadata": {},
   "outputs": [
    {
     "data": {
      "text/plain": [
       "20"
      ]
     },
     "execution_count": 110,
     "metadata": {},
     "output_type": "execute_result"
    }
   ],
   "source": [
    "multiply()"
   ]
  },
  {
   "cell_type": "code",
   "execution_count": 111,
   "id": "14c949f9",
   "metadata": {},
   "outputs": [],
   "source": [
    "n=multiply()"
   ]
  },
  {
   "cell_type": "code",
   "execution_count": 112,
   "id": "a672f2dd",
   "metadata": {},
   "outputs": [],
   "source": [
    "def multiply(n):\n",
    "    g=8\n",
    "    h=n-8\n",
    "    print(h)"
   ]
  },
  {
   "cell_type": "code",
   "execution_count": 113,
   "id": "ce425e0a",
   "metadata": {},
   "outputs": [
    {
     "name": "stdout",
     "output_type": "stream",
     "text": [
      "12\n"
     ]
    }
   ],
   "source": [
    "multiply(n)"
   ]
  },
  {
   "cell_type": "code",
   "execution_count": 118,
   "id": "0b2c2ae2",
   "metadata": {},
   "outputs": [],
   "source": [
    "def myfunct(list1):\n",
    "    for i in list1:\n",
    "        print(i)"
   ]
  },
  {
   "cell_type": "code",
   "execution_count": 119,
   "id": "88a5300d",
   "metadata": {},
   "outputs": [
    {
     "name": "stdout",
     "output_type": "stream",
     "text": [
      "10\n",
      "20\n",
      "30\n",
      "40\n",
      "50\n"
     ]
    }
   ],
   "source": [
    "list1=[10,20,30,40,50]\n",
    "\n",
    "myfunct(list1)"
   ]
  },
  {
   "cell_type": "code",
   "execution_count": 120,
   "id": "031421f7",
   "metadata": {},
   "outputs": [],
   "source": [
    "def myfunction(list2):\n",
    "    for i in list2:\n",
    "        print(i)"
   ]
  },
  {
   "cell_type": "code",
   "execution_count": 121,
   "id": "974a1119",
   "metadata": {},
   "outputs": [
    {
     "name": "stdout",
     "output_type": "stream",
     "text": [
      "1\n",
      "2\n",
      "3\n",
      "4\n",
      "5\n"
     ]
    }
   ],
   "source": [
    "list2=[1,2,3,4,5]\n",
    "\n",
    "myfunction(list2)"
   ]
  },
  {
   "cell_type": "markdown",
   "id": "d89fe0d4",
   "metadata": {},
   "source": [
    "Variable:\n",
    "    \n",
    "    there are two types of variable"
   ]
  },
  {
   "cell_type": "markdown",
   "id": "480a3b28",
   "metadata": {},
   "source": [
    "loacal variable- loacal variables are those variable which are define within the function\n",
    "\n",
    "Global variable - Global variables are those variable which are define out side the function"
   ]
  },
  {
   "cell_type": "code",
   "execution_count": 123,
   "id": "81d0663b",
   "metadata": {},
   "outputs": [],
   "source": [
    "def testf():\n",
    "    p=5 # local variable\n",
    "    print(p)"
   ]
  },
  {
   "cell_type": "code",
   "execution_count": 124,
   "id": "550d9a03",
   "metadata": {},
   "outputs": [
    {
     "name": "stdout",
     "output_type": "stream",
     "text": [
      "5\n"
     ]
    }
   ],
   "source": [
    "testf()"
   ]
  },
  {
   "cell_type": "code",
   "execution_count": 128,
   "id": "259b8c80",
   "metadata": {},
   "outputs": [],
   "source": [
    "# global vaiable\n",
    "\n",
    "marks=100"
   ]
  },
  {
   "cell_type": "code",
   "execution_count": 129,
   "id": "6dafccfb",
   "metadata": {},
   "outputs": [
    {
     "data": {
      "text/plain": [
       "100"
      ]
     },
     "execution_count": 129,
     "metadata": {},
     "output_type": "execute_result"
    }
   ],
   "source": [
    "marks"
   ]
  }
 ],
 "metadata": {
  "kernelspec": {
   "display_name": "Python 3 (ipykernel)",
   "language": "python",
   "name": "python3"
  },
  "language_info": {
   "codemirror_mode": {
    "name": "ipython",
    "version": 3
   },
   "file_extension": ".py",
   "mimetype": "text/x-python",
   "name": "python",
   "nbconvert_exporter": "python",
   "pygments_lexer": "ipython3",
   "version": "3.9.7"
  }
 },
 "nbformat": 4,
 "nbformat_minor": 5
}
