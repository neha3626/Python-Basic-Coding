{
 "cells": [
  {
   "cell_type": "markdown",
   "id": "db72c5ed",
   "metadata": {},
   "source": [
    "# python Basics"
   ]
  },
  {
   "cell_type": "code",
   "execution_count": 1,
   "id": "a28d2a36",
   "metadata": {},
   "outputs": [
    {
     "name": "stdout",
     "output_type": "stream",
     "text": [
      "Enter any country nameIndia\n"
     ]
    }
   ],
   "source": [
    "country=input('Enter any country name')"
   ]
  },
  {
   "cell_type": "code",
   "execution_count": 2,
   "id": "eeaa34db",
   "metadata": {},
   "outputs": [
    {
     "data": {
      "text/plain": [
       "'India'"
      ]
     },
     "execution_count": 2,
     "metadata": {},
     "output_type": "execute_result"
    }
   ],
   "source": [
    "country"
   ]
  },
  {
   "cell_type": "code",
   "execution_count": 3,
   "id": "88822aea",
   "metadata": {},
   "outputs": [
    {
     "name": "stdout",
     "output_type": "stream",
     "text": [
      "enter any food nameBurger\n"
     ]
    }
   ],
   "source": [
    "foodname=input('enter any food name')"
   ]
  },
  {
   "cell_type": "code",
   "execution_count": 4,
   "id": "f2760944",
   "metadata": {},
   "outputs": [
    {
     "data": {
      "text/plain": [
       "'Burger'"
      ]
     },
     "execution_count": 4,
     "metadata": {},
     "output_type": "execute_result"
    }
   ],
   "source": [
    "foodname"
   ]
  },
  {
   "cell_type": "code",
   "execution_count": 7,
   "id": "756813a1",
   "metadata": {},
   "outputs": [
    {
     "name": "stdout",
     "output_type": "stream",
     "text": [
      "enter any book nameNoble\n"
     ]
    }
   ],
   "source": [
    "bookname=input('enter any book name')"
   ]
  },
  {
   "cell_type": "code",
   "execution_count": 8,
   "id": "b74795fd",
   "metadata": {},
   "outputs": [
    {
     "data": {
      "text/plain": [
       "'Noble'"
      ]
     },
     "execution_count": 8,
     "metadata": {},
     "output_type": "execute_result"
    }
   ],
   "source": [
    "bookname"
   ]
  },
  {
   "cell_type": "code",
   "execution_count": 9,
   "id": "61d88b02",
   "metadata": {},
   "outputs": [
    {
     "data": {
      "text/plain": [
       "50"
      ]
     },
     "execution_count": 9,
     "metadata": {},
     "output_type": "execute_result"
    }
   ],
   "source": [
    "a=30\n",
    "b=20\n",
    "c=a+b\n",
    "c"
   ]
  },
  {
   "cell_type": "code",
   "execution_count": 10,
   "id": "be6f74e5",
   "metadata": {},
   "outputs": [
    {
     "name": "stdout",
     "output_type": "stream",
     "text": [
      "enter any number50\n"
     ]
    }
   ],
   "source": [
    "number1=input('enter any number')"
   ]
  },
  {
   "cell_type": "code",
   "execution_count": 11,
   "id": "021a5072",
   "metadata": {},
   "outputs": [
    {
     "data": {
      "text/plain": [
       "'50'"
      ]
     },
     "execution_count": 11,
     "metadata": {},
     "output_type": "execute_result"
    }
   ],
   "source": [
    "number1"
   ]
  },
  {
   "cell_type": "code",
   "execution_count": 12,
   "id": "af994a41",
   "metadata": {},
   "outputs": [
    {
     "name": "stdout",
     "output_type": "stream",
     "text": [
      "enter any number50\n"
     ]
    }
   ],
   "source": [
    "number2=input('enter any number')"
   ]
  },
  {
   "cell_type": "code",
   "execution_count": 13,
   "id": "4fd3be66",
   "metadata": {},
   "outputs": [
    {
     "data": {
      "text/plain": [
       "'50'"
      ]
     },
     "execution_count": 13,
     "metadata": {},
     "output_type": "execute_result"
    }
   ],
   "source": [
    "number2"
   ]
  },
  {
   "cell_type": "code",
   "execution_count": 14,
   "id": "d420d215",
   "metadata": {},
   "outputs": [
    {
     "data": {
      "text/plain": [
       "'5050'"
      ]
     },
     "execution_count": 14,
     "metadata": {},
     "output_type": "execute_result"
    }
   ],
   "source": [
    "number1+number2"
   ]
  },
  {
   "cell_type": "code",
   "execution_count": 15,
   "id": "288737ef",
   "metadata": {},
   "outputs": [
    {
     "data": {
      "text/plain": [
       "str"
      ]
     },
     "execution_count": 15,
     "metadata": {},
     "output_type": "execute_result"
    }
   ],
   "source": [
    "type(number1)"
   ]
  },
  {
   "cell_type": "code",
   "execution_count": 17,
   "id": "10c78abe",
   "metadata": {},
   "outputs": [
    {
     "name": "stdout",
     "output_type": "stream",
     "text": [
      "enter any number56\n"
     ]
    }
   ],
   "source": [
    "number1 = int(input('enter any number'))"
   ]
  },
  {
   "cell_type": "code",
   "execution_count": 18,
   "id": "9a6fa876",
   "metadata": {},
   "outputs": [
    {
     "data": {
      "text/plain": [
       "56"
      ]
     },
     "execution_count": 18,
     "metadata": {},
     "output_type": "execute_result"
    }
   ],
   "source": [
    "number1"
   ]
  },
  {
   "cell_type": "code",
   "execution_count": 19,
   "id": "133916c0",
   "metadata": {},
   "outputs": [
    {
     "data": {
      "text/plain": [
       "int"
      ]
     },
     "execution_count": 19,
     "metadata": {},
     "output_type": "execute_result"
    }
   ],
   "source": [
    "type(number1)"
   ]
  },
  {
   "cell_type": "code",
   "execution_count": 20,
   "id": "39e42f37",
   "metadata": {},
   "outputs": [
    {
     "name": "stdout",
     "output_type": "stream",
     "text": [
      "enter any number100\n"
     ]
    }
   ],
   "source": [
    "number2 = int(input('enter any number'))"
   ]
  },
  {
   "cell_type": "code",
   "execution_count": 21,
   "id": "f084451d",
   "metadata": {},
   "outputs": [
    {
     "data": {
      "text/plain": [
       "int"
      ]
     },
     "execution_count": 21,
     "metadata": {},
     "output_type": "execute_result"
    }
   ],
   "source": [
    "type(number2)"
   ]
  },
  {
   "cell_type": "code",
   "execution_count": 22,
   "id": "899b9523",
   "metadata": {},
   "outputs": [
    {
     "data": {
      "text/plain": [
       "100"
      ]
     },
     "execution_count": 22,
     "metadata": {},
     "output_type": "execute_result"
    }
   ],
   "source": [
    "number2"
   ]
  },
  {
   "cell_type": "markdown",
   "id": "5fce4ba1",
   "metadata": {},
   "source": [
    "# Change the data types:"
   ]
  },
  {
   "cell_type": "code",
   "execution_count": 28,
   "id": "86aedbe4",
   "metadata": {},
   "outputs": [],
   "source": [
    "a = 10"
   ]
  },
  {
   "cell_type": "code",
   "execution_count": 29,
   "id": "6fd51586",
   "metadata": {},
   "outputs": [
    {
     "data": {
      "text/plain": [
       "int"
      ]
     },
     "execution_count": 29,
     "metadata": {},
     "output_type": "execute_result"
    }
   ],
   "source": [
    "type(a)"
   ]
  },
  {
   "cell_type": "code",
   "execution_count": 30,
   "id": "03ab0b48",
   "metadata": {},
   "outputs": [
    {
     "data": {
      "text/plain": [
       "10.0"
      ]
     },
     "execution_count": 30,
     "metadata": {},
     "output_type": "execute_result"
    }
   ],
   "source": [
    "float(a)"
   ]
  },
  {
   "cell_type": "code",
   "execution_count": 31,
   "id": "7253f134",
   "metadata": {},
   "outputs": [
    {
     "data": {
      "text/plain": [
       "float"
      ]
     },
     "execution_count": 31,
     "metadata": {},
     "output_type": "execute_result"
    }
   ],
   "source": [
    "b = 10.50\n",
    "\n",
    "type(b)"
   ]
  },
  {
   "cell_type": "code",
   "execution_count": 34,
   "id": "00597c7b",
   "metadata": {},
   "outputs": [],
   "source": [
    "c = int(b)"
   ]
  },
  {
   "cell_type": "code",
   "execution_count": 35,
   "id": "1c88b17b",
   "metadata": {},
   "outputs": [
    {
     "data": {
      "text/plain": [
       "int"
      ]
     },
     "execution_count": 35,
     "metadata": {},
     "output_type": "execute_result"
    }
   ],
   "source": [
    "type(c)"
   ]
  },
  {
   "cell_type": "code",
   "execution_count": 36,
   "id": "b7b65c39",
   "metadata": {},
   "outputs": [
    {
     "name": "stdout",
     "output_type": "stream",
     "text": [
      "enter any number10\n"
     ]
    }
   ],
   "source": [
    "int1 = int(input('enter any number'))"
   ]
  },
  {
   "cell_type": "code",
   "execution_count": 38,
   "id": "00729319",
   "metadata": {},
   "outputs": [
    {
     "data": {
      "text/plain": [
       "int"
      ]
     },
     "execution_count": 38,
     "metadata": {},
     "output_type": "execute_result"
    }
   ],
   "source": [
    "\n",
    "type(int1)"
   ]
  },
  {
   "cell_type": "code",
   "execution_count": 39,
   "id": "a7178df3",
   "metadata": {},
   "outputs": [
    {
     "data": {
      "text/plain": [
       "10"
      ]
     },
     "execution_count": 39,
     "metadata": {},
     "output_type": "execute_result"
    }
   ],
   "source": [
    "int1\n"
   ]
  },
  {
   "cell_type": "code",
   "execution_count": 40,
   "id": "69351cc7",
   "metadata": {},
   "outputs": [
    {
     "name": "stdout",
     "output_type": "stream",
     "text": [
      "enter any number20\n"
     ]
    }
   ],
   "source": [
    "int2 = int(input('enter any number'))"
   ]
  },
  {
   "cell_type": "code",
   "execution_count": 41,
   "id": "84a5ff34",
   "metadata": {},
   "outputs": [
    {
     "data": {
      "text/plain": [
       "20"
      ]
     },
     "execution_count": 41,
     "metadata": {},
     "output_type": "execute_result"
    }
   ],
   "source": [
    "int2"
   ]
  },
  {
   "cell_type": "code",
   "execution_count": 42,
   "id": "951a5bd3",
   "metadata": {},
   "outputs": [
    {
     "data": {
      "text/plain": [
       "30"
      ]
     },
     "execution_count": 42,
     "metadata": {},
     "output_type": "execute_result"
    }
   ],
   "source": [
    "int1+int2"
   ]
  },
  {
   "cell_type": "code",
   "execution_count": 43,
   "id": "e44fe770",
   "metadata": {},
   "outputs": [],
   "source": [
    "a=10\n",
    "b=30\n",
    "c=a+b"
   ]
  },
  {
   "cell_type": "code",
   "execution_count": 44,
   "id": "6c2198ca",
   "metadata": {},
   "outputs": [
    {
     "data": {
      "text/plain": [
       "40"
      ]
     },
     "execution_count": 44,
     "metadata": {},
     "output_type": "execute_result"
    }
   ],
   "source": [
    "c"
   ]
  },
  {
   "cell_type": "markdown",
   "id": "70b33ad6",
   "metadata": {},
   "source": [
    "what is difference between dynamic and static?\n",
    "\n",
    "dynamic usually means \"capable of action or change,\" while static means \"fixed.\""
   ]
  },
  {
   "cell_type": "markdown",
   "id": "78bcfe8a",
   "metadata": {},
   "source": [
    "# area of rectangle:"
   ]
  },
  {
   "cell_type": "code",
   "execution_count": 46,
   "id": "cb3a48dc",
   "metadata": {},
   "outputs": [
    {
     "name": "stdout",
     "output_type": "stream",
     "text": [
      "enter length20\n",
      "enter breadth10\n",
      "length 20\n",
      "breadth 10\n",
      "200\n",
      "length & breadth of  rectangle 20 & 10\n"
     ]
    }
   ],
   "source": [
    "l = int(input('enter length'))\n",
    "b = int(input('enter breadth'))\n",
    "\n",
    "area = l*b\n",
    "\n",
    "print('length',l)\n",
    "print('breadth',b)\n",
    "\n",
    "print(area)\n",
    "\n",
    "print('length & breadth of  rectangle',l,'&',b)"
   ]
  },
  {
   "cell_type": "markdown",
   "id": "d1b48be8",
   "metadata": {},
   "source": [
    "This method is dynamic method here we can change the input value"
   ]
  },
  {
   "cell_type": "markdown",
   "id": "5062880a",
   "metadata": {},
   "source": [
    "Area of circle:"
   ]
  },
  {
   "cell_type": "code",
   "execution_count": 49,
   "id": "9112174e",
   "metadata": {},
   "outputs": [
    {
     "name": "stdout",
     "output_type": "stream",
     "text": [
      "enter any  pi value3.14\n",
      "enter any radius value10\n",
      "value of pi 3.14\n",
      "value of radius 10\n",
      "the area of circle 314.0\n"
     ]
    }
   ],
   "source": [
    "# dynamic method to find the area of circle\n",
    "\n",
    "pi=float(input('enter any  pi value'))\n",
    "r= int(input('enter any radius value'))\n",
    "\n",
    "print('value of pi',pi)\n",
    "print('value of radius',r)\n",
    "\n",
    "area=pi*(r**2)\n",
    "\n",
    "print('the area of circle',area)"
   ]
  },
  {
   "cell_type": "code",
   "execution_count": 50,
   "id": "a70cc8e4",
   "metadata": {},
   "outputs": [
    {
     "data": {
      "text/plain": [
       "314"
      ]
     },
     "execution_count": 50,
     "metadata": {},
     "output_type": "execute_result"
    }
   ],
   "source": [
    "round(area)"
   ]
  },
  {
   "cell_type": "code",
   "execution_count": 51,
   "id": "17d3b855",
   "metadata": {},
   "outputs": [
    {
     "data": {
      "text/plain": [
       "412.26"
      ]
     },
     "execution_count": 51,
     "metadata": {},
     "output_type": "execute_result"
    }
   ],
   "source": [
    "round(412.256,2)"
   ]
  },
  {
   "cell_type": "code",
   "execution_count": 54,
   "id": "9d21bc24",
   "metadata": {},
   "outputs": [
    {
     "name": "stdout",
     "output_type": "stream",
     "text": [
      "enter any value to find the square root81\n",
      "the square root of  81 is 9.0\n"
     ]
    }
   ],
   "source": [
    "s = int(input('enter any value to find the square root'))\n",
    "\n",
    "p=s**(1/2)\n",
    "\n",
    "print('the square root of ',s,'is',p)"
   ]
  },
  {
   "cell_type": "markdown",
   "id": "8e5ddb76",
   "metadata": {},
   "source": [
    "# Data Structure:"
   ]
  },
  {
   "cell_type": "markdown",
   "id": "1a5f2444",
   "metadata": {},
   "source": [
    "List\n",
    "\n",
    "Tuple\n",
    "\n",
    "Dictionary\n",
    "\n",
    "sets"
   ]
  },
  {
   "cell_type": "code",
   "execution_count": 55,
   "id": "99f27874",
   "metadata": {},
   "outputs": [],
   "source": [
    "list = [10,11,12,13,14,15]"
   ]
  },
  {
   "cell_type": "code",
   "execution_count": 56,
   "id": "8cd208d6",
   "metadata": {},
   "outputs": [
    {
     "data": {
      "text/plain": [
       "[10, 11, 12, 13, 14, 15]"
      ]
     },
     "execution_count": 56,
     "metadata": {},
     "output_type": "execute_result"
    }
   ],
   "source": [
    "list"
   ]
  },
  {
   "cell_type": "code",
   "execution_count": 57,
   "id": "c01e607b",
   "metadata": {},
   "outputs": [],
   "source": [
    "list1 = [10.1,11,1,12.2,13.3,14.4,15.5]"
   ]
  },
  {
   "cell_type": "code",
   "execution_count": 59,
   "id": "3b7da7f5",
   "metadata": {},
   "outputs": [
    {
     "data": {
      "text/plain": [
       "[10.1, 11, 1, 12.2, 13.3, 14.4, 15.5]"
      ]
     },
     "execution_count": 59,
     "metadata": {},
     "output_type": "execute_result"
    }
   ],
   "source": [
    "list1"
   ]
  },
  {
   "cell_type": "code",
   "execution_count": 60,
   "id": "7c88aa9e",
   "metadata": {},
   "outputs": [],
   "source": [
    "list2 = ['Matrix','AVENGERS','TURTLES']"
   ]
  },
  {
   "cell_type": "code",
   "execution_count": 61,
   "id": "b4304190",
   "metadata": {},
   "outputs": [
    {
     "data": {
      "text/plain": [
       "['Matrix', 'AVENGERS', 'TURTLES']"
      ]
     },
     "execution_count": 61,
     "metadata": {},
     "output_type": "execute_result"
    }
   ],
   "source": [
    "list2"
   ]
  },
  {
   "cell_type": "code",
   "execution_count": 63,
   "id": "cc379de4",
   "metadata": {},
   "outputs": [],
   "source": [
    "list3 = ['Matrix','AVENGERS',1,2,True, False]"
   ]
  },
  {
   "cell_type": "code",
   "execution_count": 64,
   "id": "4103e8c7",
   "metadata": {},
   "outputs": [
    {
     "data": {
      "text/plain": [
       "['Matrix', 'AVENGERS', 1, 2, True, False]"
      ]
     },
     "execution_count": 64,
     "metadata": {},
     "output_type": "execute_result"
    }
   ],
   "source": [
    "list3"
   ]
  },
  {
   "cell_type": "markdown",
   "id": "0109dc39",
   "metadata": {},
   "source": [
    "# Indexing:"
   ]
  },
  {
   "cell_type": "markdown",
   "id": "1bc8d338",
   "metadata": {},
   "source": [
    "The Python index() method helps you find the index position of an element or an item in a string of characters or a list of items."
   ]
  },
  {
   "cell_type": "code",
   "execution_count": 65,
   "id": "985a0182",
   "metadata": {},
   "outputs": [],
   "source": [
    "list3 = ['Matrix','AVENGERS',1,2,True, False]"
   ]
  },
  {
   "cell_type": "code",
   "execution_count": 66,
   "id": "1a7ae7b6",
   "metadata": {},
   "outputs": [
    {
     "data": {
      "text/plain": [
       "'Matrix'"
      ]
     },
     "execution_count": 66,
     "metadata": {},
     "output_type": "execute_result"
    }
   ],
   "source": [
    "list3[0]"
   ]
  },
  {
   "cell_type": "code",
   "execution_count": 67,
   "id": "aac07987",
   "metadata": {},
   "outputs": [
    {
     "data": {
      "text/plain": [
       "['Matrix', 'AVENGERS', 1, 2, True, False]"
      ]
     },
     "execution_count": 67,
     "metadata": {},
     "output_type": "execute_result"
    }
   ],
   "source": [
    "list3[:]"
   ]
  },
  {
   "cell_type": "code",
   "execution_count": 78,
   "id": "b65a8a29",
   "metadata": {},
   "outputs": [
    {
     "data": {
      "text/plain": [
       "1"
      ]
     },
     "execution_count": 78,
     "metadata": {},
     "output_type": "execute_result"
    }
   ],
   "source": [
    "list3[2]"
   ]
  },
  {
   "cell_type": "code",
   "execution_count": 79,
   "id": "c857cfac",
   "metadata": {},
   "outputs": [
    {
     "data": {
      "text/plain": [
       "2"
      ]
     },
     "execution_count": 79,
     "metadata": {},
     "output_type": "execute_result"
    }
   ],
   "source": [
    "list3[3]"
   ]
  },
  {
   "cell_type": "code",
   "execution_count": 80,
   "id": "2a73dd69",
   "metadata": {},
   "outputs": [
    {
     "data": {
      "text/plain": [
       "True"
      ]
     },
     "execution_count": 80,
     "metadata": {},
     "output_type": "execute_result"
    }
   ],
   "source": [
    "list3[4]"
   ]
  },
  {
   "cell_type": "code",
   "execution_count": 81,
   "id": "87bf21bc",
   "metadata": {},
   "outputs": [
    {
     "data": {
      "text/plain": [
       "False"
      ]
     },
     "execution_count": 81,
     "metadata": {},
     "output_type": "execute_result"
    }
   ],
   "source": [
    "list3[5]"
   ]
  },
  {
   "cell_type": "code",
   "execution_count": null,
   "id": "94b1b864",
   "metadata": {},
   "outputs": [],
   "source": []
  },
  {
   "cell_type": "code",
   "execution_count": 69,
   "id": "3d77d51d",
   "metadata": {},
   "outputs": [
    {
     "data": {
      "text/plain": [
       "['AVENGERS']"
      ]
     },
     "execution_count": 69,
     "metadata": {},
     "output_type": "execute_result"
    }
   ],
   "source": [
    "list3[1:2]"
   ]
  },
  {
   "cell_type": "code",
   "execution_count": 70,
   "id": "f2794bfe",
   "metadata": {},
   "outputs": [
    {
     "data": {
      "text/plain": [
       "['AVENGERS', 1]"
      ]
     },
     "execution_count": 70,
     "metadata": {},
     "output_type": "execute_result"
    }
   ],
   "source": [
    "list3[1:3]"
   ]
  },
  {
   "cell_type": "code",
   "execution_count": 71,
   "id": "ec2c0ede",
   "metadata": {},
   "outputs": [
    {
     "data": {
      "text/plain": [
       "['Matrix', 'AVENGERS', 1]"
      ]
     },
     "execution_count": 71,
     "metadata": {},
     "output_type": "execute_result"
    }
   ],
   "source": [
    "list3[0:3]"
   ]
  },
  {
   "cell_type": "code",
   "execution_count": 72,
   "id": "640fe5ba",
   "metadata": {},
   "outputs": [
    {
     "data": {
      "text/plain": [
       "['Matrix', 'AVENGERS', 1, 2, True]"
      ]
     },
     "execution_count": 72,
     "metadata": {},
     "output_type": "execute_result"
    }
   ],
   "source": [
    "list3[0:-1]"
   ]
  },
  {
   "cell_type": "code",
   "execution_count": 73,
   "id": "a441065f",
   "metadata": {},
   "outputs": [
    {
     "data": {
      "text/plain": [
       "['Matrix', 'AVENGERS', 1, 2]"
      ]
     },
     "execution_count": 73,
     "metadata": {},
     "output_type": "execute_result"
    }
   ],
   "source": [
    "list3[0:-2]"
   ]
  },
  {
   "cell_type": "code",
   "execution_count": 74,
   "id": "ce51ee7c",
   "metadata": {},
   "outputs": [
    {
     "data": {
      "text/plain": [
       "['Matrix', 'AVENGERS', 1, 2]"
      ]
     },
     "execution_count": 74,
     "metadata": {},
     "output_type": "execute_result"
    }
   ],
   "source": [
    "list3[:-2]"
   ]
  },
  {
   "cell_type": "code",
   "execution_count": 75,
   "id": "229c7979",
   "metadata": {},
   "outputs": [
    {
     "data": {
      "text/plain": [
       "False"
      ]
     },
     "execution_count": 75,
     "metadata": {},
     "output_type": "execute_result"
    }
   ],
   "source": [
    "list3[-1]"
   ]
  },
  {
   "cell_type": "code",
   "execution_count": 85,
   "id": "a5019990",
   "metadata": {},
   "outputs": [
    {
     "data": {
      "text/plain": [
       "['Matrix', 'AVENGERS', 1, 2, True, False]"
      ]
     },
     "execution_count": 85,
     "metadata": {},
     "output_type": "execute_result"
    }
   ],
   "source": [
    "list3"
   ]
  },
  {
   "cell_type": "markdown",
   "id": "0192c4ea",
   "metadata": {},
   "source": [
    "# slicing:"
   ]
  },
  {
   "cell_type": "markdown",
   "id": "64edf8cb",
   "metadata": {},
   "source": [
    "A slice object is used to specify how to slice a sequence. You can specify where to start the slicing, and where to end. "
   ]
  },
  {
   "cell_type": "code",
   "execution_count": 88,
   "id": "fdab3d2f",
   "metadata": {},
   "outputs": [
    {
     "data": {
      "text/plain": [
       "['Matrix', 'AVENGERS', 1, 2]"
      ]
     },
     "execution_count": 88,
     "metadata": {},
     "output_type": "execute_result"
    }
   ],
   "source": [
    "list3[0:4]"
   ]
  },
  {
   "cell_type": "code",
   "execution_count": 89,
   "id": "c2d8ca91",
   "metadata": {},
   "outputs": [
    {
     "data": {
      "text/plain": [
       "['Matrix']"
      ]
     },
     "execution_count": 89,
     "metadata": {},
     "output_type": "execute_result"
    }
   ],
   "source": [
    "list3[0:1]"
   ]
  },
  {
   "cell_type": "code",
   "execution_count": 90,
   "id": "8332576f",
   "metadata": {},
   "outputs": [
    {
     "data": {
      "text/plain": [
       "['Matrix', 'AVENGERS', 1, 2, True]"
      ]
     },
     "execution_count": 90,
     "metadata": {},
     "output_type": "execute_result"
    }
   ],
   "source": [
    "list3[0:5]"
   ]
  },
  {
   "cell_type": "code",
   "execution_count": 91,
   "id": "ce342f37",
   "metadata": {},
   "outputs": [
    {
     "data": {
      "text/plain": [
       "['Matrix', 'AVENGERS', 1, 2, True, False]"
      ]
     },
     "execution_count": 91,
     "metadata": {},
     "output_type": "execute_result"
    }
   ],
   "source": [
    "list3[0:6]"
   ]
  },
  {
   "cell_type": "code",
   "execution_count": 92,
   "id": "3d285e6e",
   "metadata": {},
   "outputs": [
    {
     "data": {
      "text/plain": [
       "[True, False]"
      ]
     },
     "execution_count": 92,
     "metadata": {},
     "output_type": "execute_result"
    }
   ],
   "source": [
    "list3[4:6]"
   ]
  },
  {
   "cell_type": "code",
   "execution_count": 93,
   "id": "27c87359",
   "metadata": {},
   "outputs": [
    {
     "data": {
      "text/plain": [
       "['Matrix', 'AVENGERS', 1, 2, True, False]"
      ]
     },
     "execution_count": 93,
     "metadata": {},
     "output_type": "execute_result"
    }
   ],
   "source": [
    "list3[0:]"
   ]
  },
  {
   "cell_type": "code",
   "execution_count": 95,
   "id": "fe4ac9b0",
   "metadata": {},
   "outputs": [
    {
     "data": {
      "text/plain": [
       "False"
      ]
     },
     "execution_count": 95,
     "metadata": {},
     "output_type": "execute_result"
    }
   ],
   "source": [
    "list3[-1]"
   ]
  },
  {
   "cell_type": "code",
   "execution_count": 96,
   "id": "f0af886c",
   "metadata": {},
   "outputs": [
    {
     "data": {
      "text/plain": [
       "True"
      ]
     },
     "execution_count": 96,
     "metadata": {},
     "output_type": "execute_result"
    }
   ],
   "source": [
    "list3[-2]"
   ]
  },
  {
   "cell_type": "code",
   "execution_count": 97,
   "id": "56749780",
   "metadata": {},
   "outputs": [
    {
     "data": {
      "text/plain": [
       "2"
      ]
     },
     "execution_count": 97,
     "metadata": {},
     "output_type": "execute_result"
    }
   ],
   "source": [
    "list3[-3]"
   ]
  },
  {
   "cell_type": "code",
   "execution_count": 98,
   "id": "e75ebb1b",
   "metadata": {},
   "outputs": [
    {
     "data": {
      "text/plain": [
       "1"
      ]
     },
     "execution_count": 98,
     "metadata": {},
     "output_type": "execute_result"
    }
   ],
   "source": [
    "list3[-4]"
   ]
  },
  {
   "cell_type": "code",
   "execution_count": 99,
   "id": "4fe20b92",
   "metadata": {},
   "outputs": [
    {
     "data": {
      "text/plain": [
       "'AVENGERS'"
      ]
     },
     "execution_count": 99,
     "metadata": {},
     "output_type": "execute_result"
    }
   ],
   "source": [
    "list3[-5]"
   ]
  },
  {
   "cell_type": "code",
   "execution_count": 100,
   "id": "74016871",
   "metadata": {},
   "outputs": [
    {
     "data": {
      "text/plain": [
       "'Matrix'"
      ]
     },
     "execution_count": 100,
     "metadata": {},
     "output_type": "execute_result"
    }
   ],
   "source": [
    "list3[-6]"
   ]
  },
  {
   "cell_type": "code",
   "execution_count": 101,
   "id": "8be51c17",
   "metadata": {},
   "outputs": [
    {
     "data": {
      "text/plain": [
       "[1, 2, True]"
      ]
     },
     "execution_count": 101,
     "metadata": {},
     "output_type": "execute_result"
    }
   ],
   "source": [
    "list3[-4:-1]"
   ]
  },
  {
   "cell_type": "code",
   "execution_count": 102,
   "id": "a2cf4c5b",
   "metadata": {},
   "outputs": [
    {
     "data": {
      "text/plain": [
       "['AVENGERS', 1, 2]"
      ]
     },
     "execution_count": 102,
     "metadata": {},
     "output_type": "execute_result"
    }
   ],
   "source": [
    "list3[-5:-2]"
   ]
  },
  {
   "cell_type": "code",
   "execution_count": 104,
   "id": "97ef2358",
   "metadata": {},
   "outputs": [
    {
     "data": {
      "text/plain": [
       "['Matrix', 'AVENGERS', 1, 2, True]"
      ]
     },
     "execution_count": 104,
     "metadata": {},
     "output_type": "execute_result"
    }
   ],
   "source": [
    "list3[:-1]"
   ]
  },
  {
   "cell_type": "code",
   "execution_count": 105,
   "id": "dd6fd111",
   "metadata": {},
   "outputs": [
    {
     "data": {
      "text/plain": [
       "['AVENGERS', 1, 2, True, False]"
      ]
     },
     "execution_count": 105,
     "metadata": {},
     "output_type": "execute_result"
    }
   ],
   "source": [
    "list3[-5:]"
   ]
  },
  {
   "cell_type": "code",
   "execution_count": null,
   "id": "8a94781d",
   "metadata": {},
   "outputs": [],
   "source": []
  },
  {
   "cell_type": "code",
   "execution_count": null,
   "id": "0e56d06b",
   "metadata": {},
   "outputs": [],
   "source": []
  },
  {
   "cell_type": "code",
   "execution_count": null,
   "id": "b0ebeb39",
   "metadata": {},
   "outputs": [],
   "source": []
  },
  {
   "cell_type": "code",
   "execution_count": null,
   "id": "b8292d06",
   "metadata": {},
   "outputs": [],
   "source": []
  }
 ],
 "metadata": {
  "kernelspec": {
   "display_name": "Python 3 (ipykernel)",
   "language": "python",
   "name": "python3"
  },
  "language_info": {
   "codemirror_mode": {
    "name": "ipython",
    "version": 3
   },
   "file_extension": ".py",
   "mimetype": "text/x-python",
   "name": "python",
   "nbconvert_exporter": "python",
   "pygments_lexer": "ipython3",
   "version": "3.9.7"
  }
 },
 "nbformat": 4,
 "nbformat_minor": 5
}
