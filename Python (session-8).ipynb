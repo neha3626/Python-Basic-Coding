{
 "cells": [
  {
   "cell_type": "code",
   "execution_count": 1,
   "id": "7684b30b",
   "metadata": {},
   "outputs": [],
   "source": [
    "\n",
    "\n",
    "def myfunct(list1):\n",
    "    for i in list1:\n",
    "        print(i)"
   ]
  },
  {
   "cell_type": "code",
   "execution_count": 2,
   "id": "eba9bd9c",
   "metadata": {},
   "outputs": [
    {
     "name": "stdout",
     "output_type": "stream",
     "text": [
      "10\n",
      "20\n",
      "30\n",
      "40\n",
      "50\n"
     ]
    }
   ],
   "source": [
    "list1=[10,20,30,40,50]\n",
    "\n",
    "myfunct(list1)"
   ]
  },
  {
   "cell_type": "code",
   "execution_count": 10,
   "id": "afc2c8fd",
   "metadata": {},
   "outputs": [],
   "source": [
    "def myfunc1(listt):\n",
    "    for i in listt:\n",
    "        print(i)"
   ]
  },
  {
   "cell_type": "code",
   "execution_count": 12,
   "id": "89e92d0b",
   "metadata": {},
   "outputs": [
    {
     "name": "stdout",
     "output_type": "stream",
     "text": [
      "1\n",
      "2\n",
      "3\n",
      "4\n",
      "5\n"
     ]
    }
   ],
   "source": [
    "listt=[1,2,3,4,5]\n",
    "\n",
    "myfunc1(listt)"
   ]
  },
  {
   "cell_type": "code",
   "execution_count": 13,
   "id": "c89c1f86",
   "metadata": {},
   "outputs": [],
   "source": [
    "def myfunction(list2):\n",
    "    for i in list2:\n",
    "        print(i)"
   ]
  },
  {
   "cell_type": "code",
   "execution_count": 14,
   "id": "57d37f75",
   "metadata": {},
   "outputs": [
    {
     "name": "stdout",
     "output_type": "stream",
     "text": [
      "1\n",
      "2\n",
      "3\n",
      "4\n",
      "5\n"
     ]
    }
   ],
   "source": [
    "list2=[1,2,3,4,5]\n",
    "\n",
    "myfunction(list2)"
   ]
  },
  {
   "cell_type": "code",
   "execution_count": 15,
   "id": "56cd6e96",
   "metadata": {},
   "outputs": [],
   "source": [
    "def myfunc(fruitsname):\n",
    "    for j in fruitsname:\n",
    "        print(j)"
   ]
  },
  {
   "cell_type": "code",
   "execution_count": 16,
   "id": "cec4dbfc",
   "metadata": {},
   "outputs": [
    {
     "name": "stdout",
     "output_type": "stream",
     "text": [
      "apple\n",
      "mango\n",
      "grapes\n"
     ]
    }
   ],
   "source": [
    "fruitsname=['apple','mango','grapes']\n",
    "\n",
    "myfunc(fruitsname)"
   ]
  },
  {
   "cell_type": "code",
   "execution_count": 17,
   "id": "88cd5a69",
   "metadata": {},
   "outputs": [],
   "source": [
    "def myfunc2():\n",
    "    for i in range(2,10):\n",
    "        print(i)"
   ]
  },
  {
   "cell_type": "code",
   "execution_count": 18,
   "id": "374d4e58",
   "metadata": {},
   "outputs": [
    {
     "name": "stdout",
     "output_type": "stream",
     "text": [
      "2\n",
      "3\n",
      "4\n",
      "5\n",
      "6\n",
      "7\n",
      "8\n",
      "9\n"
     ]
    }
   ],
   "source": [
    "myfunc2()"
   ]
  },
  {
   "cell_type": "code",
   "execution_count": 19,
   "id": "ee222ff9",
   "metadata": {},
   "outputs": [],
   "source": [
    "def myfunc3():\n",
    "    for i in range(2,21,2):\n",
    "        print(i)"
   ]
  },
  {
   "cell_type": "code",
   "execution_count": 20,
   "id": "9c2bb6e4",
   "metadata": {},
   "outputs": [
    {
     "name": "stdout",
     "output_type": "stream",
     "text": [
      "2\n",
      "4\n",
      "6\n",
      "8\n",
      "10\n",
      "12\n",
      "14\n",
      "16\n",
      "18\n",
      "20\n"
     ]
    }
   ],
   "source": [
    "myfunc3()"
   ]
  },
  {
   "cell_type": "code",
   "execution_count": 23,
   "id": "28523204",
   "metadata": {},
   "outputs": [],
   "source": [
    "def myfunc4(planetlist):\n",
    "    for i in planetlist:\n",
    "        print(i)"
   ]
  },
  {
   "cell_type": "code",
   "execution_count": 24,
   "id": "5179a9df",
   "metadata": {},
   "outputs": [
    {
     "name": "stdout",
     "output_type": "stream",
     "text": [
      "mercury\n",
      "venus\n",
      "earth\n",
      "mars\n"
     ]
    }
   ],
   "source": [
    "planetlist = ['mercury','venus','earth','mars']\n",
    "\n",
    "myfunc4(planetlist)"
   ]
  },
  {
   "cell_type": "code",
   "execution_count": 25,
   "id": "1b8dbca7",
   "metadata": {},
   "outputs": [],
   "source": [
    "# return is a capibility to return the value\n",
    "\n",
    "def testfunction():\n",
    "    for i in range(10):\n",
    "        if(i==5):\n",
    "            return\n",
    "        print(i)"
   ]
  },
  {
   "cell_type": "code",
   "execution_count": 26,
   "id": "1803df0c",
   "metadata": {},
   "outputs": [
    {
     "name": "stdout",
     "output_type": "stream",
     "text": [
      "0\n",
      "1\n",
      "2\n",
      "3\n",
      "4\n"
     ]
    }
   ],
   "source": [
    "testfunction()"
   ]
  },
  {
   "cell_type": "code",
   "execution_count": 27,
   "id": "fe74a763",
   "metadata": {},
   "outputs": [],
   "source": [
    "def myadd():\n",
    "    a=10\n",
    "    b=20\n",
    "    c=a+b\n",
    "    return c"
   ]
  },
  {
   "cell_type": "code",
   "execution_count": 28,
   "id": "c21aa26f",
   "metadata": {},
   "outputs": [],
   "source": [
    "returnedvalue=myadd()"
   ]
  },
  {
   "cell_type": "code",
   "execution_count": 29,
   "id": "10f7e1b2",
   "metadata": {},
   "outputs": [
    {
     "data": {
      "text/plain": [
       "30"
      ]
     },
     "execution_count": 29,
     "metadata": {},
     "output_type": "execute_result"
    }
   ],
   "source": [
    "returnedvalue"
   ]
  },
  {
   "cell_type": "code",
   "execution_count": 30,
   "id": "5df17319",
   "metadata": {},
   "outputs": [],
   "source": [
    "def innerfunction():\n",
    "    print('we are the inner function')"
   ]
  },
  {
   "cell_type": "code",
   "execution_count": 31,
   "id": "5ef8d05d",
   "metadata": {},
   "outputs": [
    {
     "name": "stdout",
     "output_type": "stream",
     "text": [
      "we are the inner function\n"
     ]
    }
   ],
   "source": [
    "innerfunction()"
   ]
  },
  {
   "cell_type": "code",
   "execution_count": 34,
   "id": "42c370c2",
   "metadata": {},
   "outputs": [],
   "source": [
    "def outerfunction():\n",
    "    innerfunction()\n",
    "    print('outer function')"
   ]
  },
  {
   "cell_type": "code",
   "execution_count": 35,
   "id": "5acd7a91",
   "metadata": {},
   "outputs": [
    {
     "name": "stdout",
     "output_type": "stream",
     "text": [
      "we are the inner function\n",
      "outer function\n"
     ]
    }
   ],
   "source": [
    "outerfunction()"
   ]
  },
  {
   "cell_type": "code",
   "execution_count": 36,
   "id": "0e8dd550",
   "metadata": {},
   "outputs": [],
   "source": [
    "def square():\n",
    "    s=2**2\n",
    "    return s"
   ]
  },
  {
   "cell_type": "code",
   "execution_count": 37,
   "id": "c9b14f26",
   "metadata": {},
   "outputs": [],
   "source": [
    "sq=square()"
   ]
  },
  {
   "cell_type": "code",
   "execution_count": 38,
   "id": "2525f790",
   "metadata": {},
   "outputs": [
    {
     "data": {
      "text/plain": [
       "4"
      ]
     },
     "execution_count": 38,
     "metadata": {},
     "output_type": "execute_result"
    }
   ],
   "source": [
    "sq"
   ]
  },
  {
   "cell_type": "code",
   "execution_count": 39,
   "id": "a8c5e2f5",
   "metadata": {},
   "outputs": [],
   "source": [
    "def multiply():\n",
    "    u=2*2\n",
    "    return u"
   ]
  },
  {
   "cell_type": "code",
   "execution_count": 40,
   "id": "1ee50188",
   "metadata": {},
   "outputs": [],
   "source": [
    "m=multiply()"
   ]
  },
  {
   "cell_type": "code",
   "execution_count": 41,
   "id": "a0edffcd",
   "metadata": {},
   "outputs": [
    {
     "data": {
      "text/plain": [
       "4"
      ]
     },
     "execution_count": 41,
     "metadata": {},
     "output_type": "execute_result"
    }
   ],
   "source": [
    "m"
   ]
  },
  {
   "cell_type": "code",
   "execution_count": 42,
   "id": "dbe3f3e4",
   "metadata": {},
   "outputs": [],
   "source": [
    "def square():\n",
    "    s=7*7\n",
    "    return s\n",
    "    print(\"the value of s=\",s)"
   ]
  },
  {
   "cell_type": "code",
   "execution_count": 43,
   "id": "e507a1d3",
   "metadata": {},
   "outputs": [],
   "source": [
    "sq=square()"
   ]
  },
  {
   "cell_type": "code",
   "execution_count": 44,
   "id": "9675618d",
   "metadata": {},
   "outputs": [
    {
     "data": {
      "text/plain": [
       "49"
      ]
     },
     "execution_count": 44,
     "metadata": {},
     "output_type": "execute_result"
    }
   ],
   "source": [
    "sq"
   ]
  },
  {
   "cell_type": "code",
   "execution_count": 50,
   "id": "d12c8ecb",
   "metadata": {},
   "outputs": [
    {
     "name": "stdout",
     "output_type": "stream",
     "text": [
      "0\n",
      "1\n",
      "2\n",
      "3\n",
      "4\n",
      "5\n"
     ]
    }
   ],
   "source": [
    "for i in range(10):\n",
    "    if (i==6):\n",
    "        break\n",
    "    print(i)"
   ]
  },
  {
   "cell_type": "code",
   "execution_count": 84,
   "id": "162bee5d",
   "metadata": {},
   "outputs": [],
   "source": [
    "def returnfunction():\n",
    "    for i in range(10):\n",
    "        if (i==6):\n",
    "            return \n",
    "        "
   ]
  },
  {
   "cell_type": "code",
   "execution_count": 85,
   "id": "e4c870dc",
   "metadata": {},
   "outputs": [],
   "source": [
    "returnfunction()"
   ]
  },
  {
   "cell_type": "code",
   "execution_count": 87,
   "id": "85b4d1e9",
   "metadata": {},
   "outputs": [],
   "source": [
    "def squref():\n",
    "    s=7*7\n",
    "    return s\n",
    "    print(s)"
   ]
  },
  {
   "cell_type": "code",
   "execution_count": 88,
   "id": "c53e587a",
   "metadata": {},
   "outputs": [
    {
     "data": {
      "text/plain": [
       "49"
      ]
     },
     "execution_count": 88,
     "metadata": {},
     "output_type": "execute_result"
    }
   ],
   "source": [
    "squref()"
   ]
  },
  {
   "cell_type": "code",
   "execution_count": 90,
   "id": "c10f9496",
   "metadata": {},
   "outputs": [],
   "source": [
    "sq = squref()"
   ]
  },
  {
   "cell_type": "code",
   "execution_count": 91,
   "id": "df0c403f",
   "metadata": {},
   "outputs": [
    {
     "data": {
      "text/plain": [
       "49"
      ]
     },
     "execution_count": 91,
     "metadata": {},
     "output_type": "execute_result"
    }
   ],
   "source": [
    "sq"
   ]
  },
  {
   "cell_type": "code",
   "execution_count": 92,
   "id": "1333b73f",
   "metadata": {},
   "outputs": [],
   "source": [
    "def squref():\n",
    "    s=7*7\n",
    "    return\n",
    "    print(s)"
   ]
  },
  {
   "cell_type": "code",
   "execution_count": 93,
   "id": "f9c4444c",
   "metadata": {},
   "outputs": [],
   "source": [
    "squref()"
   ]
  },
  {
   "cell_type": "markdown",
   "id": "003ab931",
   "metadata": {},
   "source": [
    "Gloabal and local variable"
   ]
  },
  {
   "cell_type": "code",
   "execution_count": 106,
   "id": "15598df0",
   "metadata": {},
   "outputs": [],
   "source": [
    "p=900 # gloabal variable"
   ]
  },
  {
   "cell_type": "code",
   "execution_count": 107,
   "id": "5c3b2b57",
   "metadata": {},
   "outputs": [],
   "source": [
    "def testvar():\n",
    "    global p\n",
    "    print(p)\n",
    "    p=70   #<---------local variable\n",
    "    print(p)"
   ]
  },
  {
   "cell_type": "code",
   "execution_count": 108,
   "id": "6dd43dfc",
   "metadata": {},
   "outputs": [
    {
     "name": "stdout",
     "output_type": "stream",
     "text": [
      "900\n",
      "70\n"
     ]
    }
   ],
   "source": [
    "testvar()"
   ]
  },
  {
   "cell_type": "code",
   "execution_count": 109,
   "id": "5e8ed5ad",
   "metadata": {},
   "outputs": [],
   "source": [
    "def add1(a,b):\n",
    "    result=a+b\n",
    "    print(result)\n",
    "    "
   ]
  },
  {
   "cell_type": "code",
   "execution_count": 110,
   "id": "a4f6e7e9",
   "metadata": {},
   "outputs": [
    {
     "name": "stdout",
     "output_type": "stream",
     "text": [
      "40\n"
     ]
    }
   ],
   "source": [
    "\n",
    "add1(10,30)"
   ]
  },
  {
   "cell_type": "code",
   "execution_count": 111,
   "id": "a0f25185",
   "metadata": {},
   "outputs": [],
   "source": [
    "def add2(a,b,c):\n",
    "    result=a+b+c\n",
    "    print(result)"
   ]
  },
  {
   "cell_type": "code",
   "execution_count": 112,
   "id": "14696542",
   "metadata": {},
   "outputs": [
    {
     "name": "stdout",
     "output_type": "stream",
     "text": [
      "120\n"
     ]
    }
   ],
   "source": [
    "add2(30,40,50)"
   ]
  },
  {
   "cell_type": "markdown",
   "id": "caedd183",
   "metadata": {},
   "source": [
    "Variable number of arguments"
   ]
  },
  {
   "cell_type": "code",
   "execution_count": 113,
   "id": "408f75d5",
   "metadata": {},
   "outputs": [],
   "source": [
    "def plusfunction(*args):\n",
    "    return sum(args)"
   ]
  },
  {
   "cell_type": "code",
   "execution_count": 105,
   "id": "c40dfbac",
   "metadata": {},
   "outputs": [
    {
     "data": {
      "text/plain": [
       "60"
      ]
     },
     "execution_count": 105,
     "metadata": {},
     "output_type": "execute_result"
    }
   ],
   "source": [
    "# calling a function\n",
    "plusfunction(10,20,30)"
   ]
  },
  {
   "cell_type": "code",
   "execution_count": 114,
   "id": "4f2343b6",
   "metadata": {},
   "outputs": [
    {
     "data": {
      "text/plain": [
       "15"
      ]
     },
     "execution_count": 114,
     "metadata": {},
     "output_type": "execute_result"
    }
   ],
   "source": [
    "plusfunction(2,3,4,5,1)"
   ]
  },
  {
   "cell_type": "code",
   "execution_count": 115,
   "id": "613539e2",
   "metadata": {},
   "outputs": [],
   "source": [
    "def maxfunction(*args):\n",
    "    return max(args)"
   ]
  },
  {
   "cell_type": "code",
   "execution_count": 116,
   "id": "2232c3c3",
   "metadata": {},
   "outputs": [
    {
     "data": {
      "text/plain": [
       "50"
      ]
     },
     "execution_count": 116,
     "metadata": {},
     "output_type": "execute_result"
    }
   ],
   "source": [
    "maxfunction(10,20,30,40,50)"
   ]
  },
  {
   "cell_type": "code",
   "execution_count": 117,
   "id": "b851464f",
   "metadata": {},
   "outputs": [
    {
     "data": {
      "text/plain": [
       "50"
      ]
     },
     "execution_count": 117,
     "metadata": {},
     "output_type": "execute_result"
    }
   ],
   "source": [
    "maxfunction(40,50)"
   ]
  },
  {
   "cell_type": "code",
   "execution_count": 118,
   "id": "521b1121",
   "metadata": {},
   "outputs": [
    {
     "data": {
      "text/plain": [
       "200"
      ]
     },
     "execution_count": 118,
     "metadata": {},
     "output_type": "execute_result"
    }
   ],
   "source": [
    "maxfunction(50,100,150,200)"
   ]
  },
  {
   "cell_type": "code",
   "execution_count": 119,
   "id": "4b0046ef",
   "metadata": {},
   "outputs": [],
   "source": [
    "def minfunction(*args):\n",
    "    return min(args)"
   ]
  },
  {
   "cell_type": "code",
   "execution_count": 120,
   "id": "8f50dcf7",
   "metadata": {},
   "outputs": [
    {
     "data": {
      "text/plain": [
       "5"
      ]
     },
     "execution_count": 120,
     "metadata": {},
     "output_type": "execute_result"
    }
   ],
   "source": [
    "minfunction(5,10,15,20)"
   ]
  },
  {
   "cell_type": "code",
   "execution_count": 121,
   "id": "e5633c02",
   "metadata": {},
   "outputs": [
    {
     "data": {
      "text/plain": [
       "90"
      ]
     },
     "execution_count": 121,
     "metadata": {},
     "output_type": "execute_result"
    }
   ],
   "source": [
    "minfunction(100,150,95,90,180)"
   ]
  },
  {
   "cell_type": "code",
   "execution_count": 122,
   "id": "472693f2",
   "metadata": {},
   "outputs": [
    {
     "data": {
      "text/plain": [
       "15"
      ]
     },
     "execution_count": 122,
     "metadata": {},
     "output_type": "execute_result"
    }
   ],
   "source": [
    "minfunction(100,15)"
   ]
  },
  {
   "cell_type": "code",
   "execution_count": 112,
   "id": "2440160e",
   "metadata": {},
   "outputs": [],
   "source": [
    "# s=s+n     for s+=n\n",
    "\n",
    "def sumfunc(*numbers):\n",
    "    s=0\n",
    "    for n in numbers:\n",
    "        s+=n\n",
    "    return s"
   ]
  },
  {
   "cell_type": "code",
   "execution_count": 113,
   "id": "7b3373e8",
   "metadata": {},
   "outputs": [
    {
     "name": "stdout",
     "output_type": "stream",
     "text": [
      "3\n"
     ]
    }
   ],
   "source": [
    "print(sumfunc(1,2))"
   ]
  },
  {
   "cell_type": "code",
   "execution_count": 114,
   "id": "b605a22b",
   "metadata": {},
   "outputs": [
    {
     "name": "stdout",
     "output_type": "stream",
     "text": [
      "16\n"
     ]
    }
   ],
   "source": [
    "print(sumfunc(1,5,10))"
   ]
  },
  {
   "cell_type": "code",
   "execution_count": 115,
   "id": "a2461fbb",
   "metadata": {},
   "outputs": [
    {
     "name": "stdout",
     "output_type": "stream",
     "text": [
      "60\n"
     ]
    }
   ],
   "source": [
    "print(sumfunc(10,20,30))"
   ]
  },
  {
   "cell_type": "markdown",
   "id": "50c641d4",
   "metadata": {},
   "source": [
    "# lambda function:\n",
    "\n",
    "A lambda function  is a small anonymous function. A lambda function can take any number of arguments, but can only have one expression.\n",
    "\n",
    "lambda function used whenever we are need to work with a small expression , single line expression."
   ]
  },
  {
   "cell_type": "code",
   "execution_count": 124,
   "id": "7b772270",
   "metadata": {},
   "outputs": [
    {
     "data": {
      "text/plain": [
       "20"
      ]
     },
     "execution_count": 124,
     "metadata": {},
     "output_type": "execute_result"
    }
   ],
   "source": [
    "test=lambda x:x*2\n",
    "test(10)"
   ]
  },
  {
   "cell_type": "code",
   "execution_count": 125,
   "id": "ae981efd",
   "metadata": {},
   "outputs": [
    {
     "data": {
      "text/plain": [
       "40"
      ]
     },
     "execution_count": 125,
     "metadata": {},
     "output_type": "execute_result"
    }
   ],
   "source": [
    "test(20)"
   ]
  },
  {
   "cell_type": "code",
   "execution_count": 126,
   "id": "c0d2c591",
   "metadata": {},
   "outputs": [
    {
     "data": {
      "text/plain": [
       "30"
      ]
     },
     "execution_count": 126,
     "metadata": {},
     "output_type": "execute_result"
    }
   ],
   "source": [
    "test2=lambda x,y:x+y\n",
    "test2(10,20)"
   ]
  },
  {
   "cell_type": "code",
   "execution_count": 127,
   "id": "38c09a6d",
   "metadata": {},
   "outputs": [
    {
     "data": {
      "text/plain": [
       "200"
      ]
     },
     "execution_count": 127,
     "metadata": {},
     "output_type": "execute_result"
    }
   ],
   "source": [
    "test2=lambda x,y:x*y\n",
    "test2(10,20)"
   ]
  },
  {
   "cell_type": "code",
   "execution_count": 128,
   "id": "5267d21f",
   "metadata": {},
   "outputs": [
    {
     "data": {
      "text/plain": [
       "6000"
      ]
     },
     "execution_count": 128,
     "metadata": {},
     "output_type": "execute_result"
    }
   ],
   "source": [
    "test2=lambda x,y,z:x*y*z\n",
    "test2(10,20,30)"
   ]
  },
  {
   "cell_type": "code",
   "execution_count": 129,
   "id": "c62e30c1",
   "metadata": {},
   "outputs": [
    {
     "data": {
      "text/plain": [
       "60"
      ]
     },
     "execution_count": 129,
     "metadata": {},
     "output_type": "execute_result"
    }
   ],
   "source": [
    "test2=lambda x,y,z:x+y+z\n",
    "test2(10,20,30)"
   ]
  },
  {
   "cell_type": "code",
   "execution_count": 130,
   "id": "171451de",
   "metadata": {},
   "outputs": [
    {
     "data": {
      "text/plain": [
       "5.0"
      ]
     },
     "execution_count": 130,
     "metadata": {},
     "output_type": "execute_result"
    }
   ],
   "source": [
    "test2=lambda x,y:x/y\n",
    "test2(10,2)"
   ]
  },
  {
   "cell_type": "code",
   "execution_count": 131,
   "id": "40a42b7c",
   "metadata": {},
   "outputs": [
    {
     "data": {
      "text/plain": [
       "64"
      ]
     },
     "execution_count": 131,
     "metadata": {},
     "output_type": "execute_result"
    }
   ],
   "source": [
    "# find square\n",
    "\n",
    "test3=lambda x:x**2\n",
    "test3(8)"
   ]
  },
  {
   "cell_type": "code",
   "execution_count": 132,
   "id": "f6ef5259",
   "metadata": {},
   "outputs": [
    {
     "data": {
      "text/plain": [
       "49"
      ]
     },
     "execution_count": 132,
     "metadata": {},
     "output_type": "execute_result"
    }
   ],
   "source": [
    "\n",
    "test3=lambda x:x**2\n",
    "test3(7)"
   ]
  },
  {
   "cell_type": "code",
   "execution_count": 133,
   "id": "7dd36e82",
   "metadata": {},
   "outputs": [
    {
     "data": {
      "text/plain": [
       "7.0"
      ]
     },
     "execution_count": 133,
     "metadata": {},
     "output_type": "execute_result"
    }
   ],
   "source": [
    "# find squareroot\n",
    "\n",
    "sqroot=lambda x:x**(1/2)\n",
    "sqroot(49)"
   ]
  },
  {
   "cell_type": "code",
   "execution_count": 134,
   "id": "f6c2d2a2",
   "metadata": {},
   "outputs": [
    {
     "data": {
      "text/plain": [
       "9.0"
      ]
     },
     "execution_count": 134,
     "metadata": {},
     "output_type": "execute_result"
    }
   ],
   "source": [
    "sqroot=lambda x:x**(1/2)\n",
    "sqroot(81)"
   ]
  },
  {
   "cell_type": "code",
   "execution_count": 135,
   "id": "16a93bfd",
   "metadata": {},
   "outputs": [
    {
     "data": {
      "text/plain": [
       "8.0"
      ]
     },
     "execution_count": 135,
     "metadata": {},
     "output_type": "execute_result"
    }
   ],
   "source": [
    "sqroot=lambda x:x**(1/2)\n",
    "sqroot(64)"
   ]
  },
  {
   "cell_type": "code",
   "execution_count": 136,
   "id": "76a595fc",
   "metadata": {},
   "outputs": [
    {
     "data": {
      "text/plain": [
       "27"
      ]
     },
     "execution_count": 136,
     "metadata": {},
     "output_type": "execute_result"
    }
   ],
   "source": [
    "# find cube\n",
    "\n",
    "cube=lambda x:x**3\n",
    "cube(3)"
   ]
  },
  {
   "cell_type": "code",
   "execution_count": 137,
   "id": "a62935e0",
   "metadata": {},
   "outputs": [
    {
     "data": {
      "text/plain": [
       "3.0"
      ]
     },
     "execution_count": 137,
     "metadata": {},
     "output_type": "execute_result"
    }
   ],
   "source": [
    "cbroot=lambda x:x**(1/3)\n",
    "cbroot(27)"
   ]
  },
  {
   "cell_type": "code",
   "execution_count": 138,
   "id": "c3e594e0",
   "metadata": {},
   "outputs": [
    {
     "data": {
      "text/plain": [
       "3.9999999999999996"
      ]
     },
     "execution_count": 138,
     "metadata": {},
     "output_type": "execute_result"
    }
   ],
   "source": [
    "cbroot=lambda x:x**(1/3)\n",
    "cbroot(64)"
   ]
  },
  {
   "cell_type": "code",
   "execution_count": 139,
   "id": "dfcf4d0c",
   "metadata": {},
   "outputs": [
    {
     "data": {
      "text/plain": [
       "8.0"
      ]
     },
     "execution_count": 139,
     "metadata": {},
     "output_type": "execute_result"
    }
   ],
   "source": [
    "sqroot(64)"
   ]
  },
  {
   "cell_type": "code",
   "execution_count": 140,
   "id": "98cf6e42",
   "metadata": {},
   "outputs": [
    {
     "data": {
      "text/plain": [
       "3.0"
      ]
     },
     "execution_count": 140,
     "metadata": {},
     "output_type": "execute_result"
    }
   ],
   "source": [
    "cbroot(27)"
   ]
  },
  {
   "cell_type": "code",
   "execution_count": 141,
   "id": "9f71a541",
   "metadata": {},
   "outputs": [
    {
     "name": "stdout",
     "output_type": "stream",
     "text": [
      "the value of total= 15\n",
      "the value of total= 25\n"
     ]
    }
   ],
   "source": [
    "addvar=lambda arg1,arg2:arg1+arg2\n",
    "print('the value of total=',addvar(10,5))\n",
    "print('the value of total=',addvar(20,5))"
   ]
  },
  {
   "cell_type": "code",
   "execution_count": 143,
   "id": "de1c922e",
   "metadata": {},
   "outputs": [
    {
     "data": {
      "text/plain": [
       "100"
      ]
     },
     "execution_count": 143,
     "metadata": {},
     "output_type": "execute_result"
    }
   ],
   "source": [
    "testt=lambda x:x*x\n",
    "testt(10)"
   ]
  },
  {
   "cell_type": "code",
   "execution_count": 144,
   "id": "65be5c79",
   "metadata": {},
   "outputs": [
    {
     "data": {
      "text/plain": [
       "20"
      ]
     },
     "execution_count": 144,
     "metadata": {},
     "output_type": "execute_result"
    }
   ],
   "source": [
    "testt1=lambda x,y:x*y\n",
    "testt1(10,2)"
   ]
  },
  {
   "cell_type": "code",
   "execution_count": 145,
   "id": "60282eb4",
   "metadata": {},
   "outputs": [
    {
     "data": {
      "text/plain": [
       "40"
      ]
     },
     "execution_count": 145,
     "metadata": {},
     "output_type": "execute_result"
    }
   ],
   "source": [
    "testt2=lambda x,y,z:x*y*z\n",
    "testt2(10,2,2)"
   ]
  },
  {
   "cell_type": "code",
   "execution_count": 146,
   "id": "04135c22",
   "metadata": {},
   "outputs": [
    {
     "data": {
      "text/plain": [
       "14"
      ]
     },
     "execution_count": 146,
     "metadata": {},
     "output_type": "execute_result"
    }
   ],
   "source": [
    "testt3=lambda x,y,z:x+y+z\n",
    "testt3(10,2,2)"
   ]
  },
  {
   "cell_type": "code",
   "execution_count": 149,
   "id": "51fa7298",
   "metadata": {},
   "outputs": [
    {
     "data": {
      "text/plain": [
       "9.0"
      ]
     },
     "execution_count": 149,
     "metadata": {},
     "output_type": "execute_result"
    }
   ],
   "source": [
    "# find squareroot\n",
    "\n",
    "sqroott=lambda x:x**(1/2)\n",
    "sqroott(81)"
   ]
  },
  {
   "cell_type": "code",
   "execution_count": 150,
   "id": "a0ca7510",
   "metadata": {},
   "outputs": [
    {
     "data": {
      "text/plain": [
       "4.3267487109222245"
      ]
     },
     "execution_count": 150,
     "metadata": {},
     "output_type": "execute_result"
    }
   ],
   "source": [
    "cqroott=lambda x:x**(1/3)\n",
    "cqroott(81)"
   ]
  },
  {
   "cell_type": "code",
   "execution_count": 152,
   "id": "7c142ab6",
   "metadata": {},
   "outputs": [
    {
     "name": "stdout",
     "output_type": "stream",
     "text": [
      "the value of total= 25\n",
      "the value of total= 30\n"
     ]
    }
   ],
   "source": [
    "addvar=lambda arg1,arg2:arg1+arg2\n",
    "print('the value of total=',addvar(20,5))\n",
    "print('the value of total=',addvar(25,5))"
   ]
  },
  {
   "cell_type": "code",
   "execution_count": 153,
   "id": "d37426f4",
   "metadata": {},
   "outputs": [
    {
     "data": {
      "text/plain": [
       "27"
      ]
     },
     "execution_count": 153,
     "metadata": {},
     "output_type": "execute_result"
    }
   ],
   "source": [
    "#cube\n",
    "\n",
    "cube=lambda x:x**3\n",
    "cube(3)"
   ]
  }
 ],
 "metadata": {
  "kernelspec": {
   "display_name": "Python 3 (ipykernel)",
   "language": "python",
   "name": "python3"
  },
  "language_info": {
   "codemirror_mode": {
    "name": "ipython",
    "version": 3
   },
   "file_extension": ".py",
   "mimetype": "text/x-python",
   "name": "python",
   "nbconvert_exporter": "python",
   "pygments_lexer": "ipython3",
   "version": "3.9.7"
  }
 },
 "nbformat": 4,
 "nbformat_minor": 5
}
