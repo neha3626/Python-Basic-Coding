{
 "cells": [
  {
   "cell_type": "markdown",
   "id": "5726dda7",
   "metadata": {},
   "source": [
    "Modules/Libraries"
   ]
  },
  {
   "cell_type": "code",
   "execution_count": 2,
   "id": "321cc9a6",
   "metadata": {},
   "outputs": [],
   "source": [
    "# import modulename"
   ]
  },
  {
   "cell_type": "code",
   "execution_count": 3,
   "id": "a113ee1b",
   "metadata": {},
   "outputs": [],
   "source": [
    "import keyword"
   ]
  },
  {
   "cell_type": "code",
   "execution_count": 4,
   "id": "8f2a4914",
   "metadata": {},
   "outputs": [
    {
     "name": "stdout",
     "output_type": "stream",
     "text": [
      "['False', 'None', 'True', '__peg_parser__', 'and', 'as', 'assert', 'async', 'await', 'break', 'class', 'continue', 'def', 'del', 'elif', 'else', 'except', 'finally', 'for', 'from', 'global', 'if', 'import', 'in', 'is', 'lambda', 'nonlocal', 'not', 'or', 'pass', 'raise', 'return', 'try', 'while', 'with', 'yield']\n"
     ]
    }
   ],
   "source": [
    "print(keyword.kwlist)"
   ]
  },
  {
   "cell_type": "markdown",
   "id": "17639671",
   "metadata": {},
   "source": [
    "python module search path"
   ]
  },
  {
   "cell_type": "code",
   "execution_count": 5,
   "id": "314d84f7",
   "metadata": {},
   "outputs": [],
   "source": [
    "import sys"
   ]
  },
  {
   "cell_type": "code",
   "execution_count": 18,
   "id": "334edb1b",
   "metadata": {},
   "outputs": [
    {
     "data": {
      "text/plain": [
       "['C:\\\\Users\\\\HP',\n",
       " 'C:\\\\Users\\\\HP\\\\anaconda3\\\\python39.zip',\n",
       " 'C:\\\\Users\\\\HP\\\\anaconda3\\\\DLLs',\n",
       " 'C:\\\\Users\\\\HP\\\\anaconda3\\\\lib',\n",
       " 'C:\\\\Users\\\\HP\\\\anaconda3',\n",
       " '',\n",
       " 'C:\\\\Users\\\\HP\\\\AppData\\\\Roaming\\\\Python\\\\Python39\\\\site-packages',\n",
       " 'C:\\\\Users\\\\HP\\\\anaconda3\\\\lib\\\\site-packages',\n",
       " 'C:\\\\Users\\\\HP\\\\anaconda3\\\\lib\\\\site-packages\\\\locket-0.2.1-py3.9.egg',\n",
       " 'C:\\\\Users\\\\HP\\\\anaconda3\\\\lib\\\\site-packages\\\\win32',\n",
       " 'C:\\\\Users\\\\HP\\\\anaconda3\\\\lib\\\\site-packages\\\\win32\\\\lib',\n",
       " 'C:\\\\Users\\\\HP\\\\anaconda3\\\\lib\\\\site-packages\\\\Pythonwin',\n",
       " 'C:\\\\Users\\\\HP\\\\anaconda3\\\\lib\\\\site-packages\\\\IPython\\\\extensions',\n",
       " 'C:\\\\Users\\\\HP\\\\.ipython']"
      ]
     },
     "execution_count": 18,
     "metadata": {},
     "output_type": "execute_result"
    }
   ],
   "source": [
    "sys.path"
   ]
  },
  {
   "cell_type": "code",
   "execution_count": 19,
   "id": "bf1811d9",
   "metadata": {},
   "outputs": [],
   "source": [
    "# get current working directry"
   ]
  },
  {
   "cell_type": "code",
   "execution_count": 20,
   "id": "6ed5bf53",
   "metadata": {},
   "outputs": [],
   "source": [
    "import os"
   ]
  },
  {
   "cell_type": "code",
   "execution_count": 21,
   "id": "222b666b",
   "metadata": {},
   "outputs": [
    {
     "data": {
      "text/plain": [
       "'C:\\\\Users\\\\HP'"
      ]
     },
     "execution_count": 21,
     "metadata": {},
     "output_type": "execute_result"
    }
   ],
   "source": [
    "os.getcwd()"
   ]
  },
  {
   "cell_type": "code",
   "execution_count": 22,
   "id": "ab5ec0a5",
   "metadata": {},
   "outputs": [],
   "source": [
    "# changing directry\n",
    "# we can change the current working directry using the chdir() method\n",
    "# os.chdir()\n",
    "# os.getdir()"
   ]
  },
  {
   "cell_type": "code",
   "execution_count": 23,
   "id": "c4367d16",
   "metadata": {},
   "outputs": [],
   "source": [
    "os.chdir('C:\\\\Users\\\\HP')"
   ]
  },
  {
   "cell_type": "code",
   "execution_count": 24,
   "id": "58bac45e",
   "metadata": {},
   "outputs": [
    {
     "data": {
      "text/plain": [
       "'C:\\\\Users\\\\HP'"
      ]
     },
     "execution_count": 24,
     "metadata": {},
     "output_type": "execute_result"
    }
   ],
   "source": [
    "os.getcwd()"
   ]
  },
  {
   "cell_type": "code",
   "execution_count": 13,
   "id": "e2d01ba9",
   "metadata": {},
   "outputs": [
    {
     "data": {
      "text/plain": [
       "['.anaconda',\n",
       " '.cisco',\n",
       " '.conda',\n",
       " '.condarc',\n",
       " '.continuum',\n",
       " '.ipynb_checkpoints',\n",
       " '.ipython',\n",
       " '.jupyter',\n",
       " '.matplotlib',\n",
       " 'Abalone Dataset.csv',\n",
       " 'abalone.csv',\n",
       " 'agedata1.csv',\n",
       " 'agedata1.tsv',\n",
       " 'age_salary.csv',\n",
       " 'anaconda3',\n",
       " 'AppData',\n",
       " 'Application Data',\n",
       " 'Baseball_Case_Study.csv',\n",
       " 'brainsize1.csv',\n",
       " 'brain_size.csv',\n",
       " 'cancerfile.csv',\n",
       " 'cancerMinMax.csv',\n",
       " 'cancerstandard.csv',\n",
       " 'Car Price  Scraping.ipynb',\n",
       " 'Car Price Prediction.ipynb',\n",
       " 'Census Income Project - (Evaluation Project - 5).ipynb',\n",
       " 'Census_model.pickle',\n",
       " 'churn.pkl',\n",
       " 'Class - 25 (statistic).ipynb',\n",
       " 'Class - 27 (Statistics).ipynb',\n",
       " 'Class - 28 (statistics).ipynb',\n",
       " 'Class - 30 (Machine Learning).ipynb',\n",
       " 'Class - 31 (Machine learning) 2.ipynb',\n",
       " 'Class - 31 (Machine learning).ipynb',\n",
       " 'Class - 33(machine learning).ipynb',\n",
       " 'Class - 34 (Machine Learning).ipynb',\n",
       " 'Class - 40 (Clustering).ipynb',\n",
       " 'Class- 29 (Statistices).ipynb',\n",
       " 'class-18,pandas.ipynb',\n",
       " 'class-19 (pandas).ipynb',\n",
       " 'Class-20 (pandas).ipynb',\n",
       " 'Class-21 (Pandas).ipynb',\n",
       " 'Class-22 (  Data Visualization Using Matplotlib ).ipynb',\n",
       " 'class-24 (statistics).ipynb',\n",
       " 'class-26, (scipy (statistics).ipynb',\n",
       " 'class-32 (Machine learning).ipynb',\n",
       " 'class=12.ipynb',\n",
       " 'Class=23(Data Visualization Using Matplotlib).ipynb',\n",
       " 'Concrete_data.csv',\n",
       " 'Contacts',\n",
       " 'Cookies',\n",
       " 'Customer_retention.ipynb',\n",
       " 'cust_churn.csv',\n",
       " 'database.db',\n",
       " 'demo-1.ipynb',\n",
       " 'Desktop',\n",
       " 'Diabetes Dataset.ipynb',\n",
       " 'Diabetes Project-1.ipynb',\n",
       " 'diabetes.csv',\n",
       " 'Documents',\n",
       " 'Downloads',\n",
       " 'dtrmodel.obj',\n",
       " 'emp1test.html',\n",
       " 'empl.csv',\n",
       " 'employee database.db',\n",
       " 'Employee10.db',\n",
       " 'employee5_database.db',\n",
       " 'employee5_database.db-journal',\n",
       " 'Employee8.db',\n",
       " 'Employee8.db-journal',\n",
       " 'emptest.csv',\n",
       " 'Encoding Scaling (Machine Learning) 3-sep-2022.ipynb',\n",
       " 'ENSEMBLE METHOD (Machine Learning)-10-sep-2022.ipynb',\n",
       " 'Evaluation Project - 1 (Baseball Case Study).ipynb',\n",
       " 'Evaluation Project - 10 (Zomato Restaurant Project).ipynb',\n",
       " 'Evaluation Project - 2 - (Avacado Project).ipynb',\n",
       " 'Evaluation Project - 6 (Loan Application Status Prediction).ipynb',\n",
       " 'Evaluation Project - 7 (Customer Churn Analysis).ipynb',\n",
       " 'Evaluation Project - 8 (Rainfall Prediction - Weather Forecasting).ipynb',\n",
       " 'Evaluation Project - 9 (Insurance Claims- Fraud Detection).ipynb',\n",
       " 'Excercise -2 (sqlite3).ipynb',\n",
       " 'Fake News Project.ipynb',\n",
       " 'fake.csv',\n",
       " 'Favorites',\n",
       " 'filekmeans_group2.csv',\n",
       " 'finalkmeans.pickle',\n",
       " 'flower',\n",
       " 'flower.obj',\n",
       " 'games.txt',\n",
       " 'Gloabal_power.pickle',\n",
       " 'Global Power Plant Database (Evaluation Project - 4).ipynb',\n",
       " 'happiness_score.ipynb',\n",
       " 'happiness_score_dataset.csv',\n",
       " 'heatmap.png',\n",
       " 'house_pred_submission.csv',\n",
       " 'house_price_data_median.csv',\n",
       " 'house_price_submission.csv',\n",
       " 'Housing Project.ipynb',\n",
       " 'HR Analytics Project- Understanding the Attrition in HR -  (Evaluation Project - 3).ipynb',\n",
       " 'hrtable.csv',\n",
       " 'hrtable_modified.csv',\n",
       " 'HR_attrition_rate.csv',\n",
       " 'IMDb Top Movies.csv',\n",
       " 'inhouse diabetes.pkl',\n",
       " 'IntelGraphicsProfiles',\n",
       " 'iris.csv',\n",
       " 'jupyter.ipynb',\n",
       " 'Lambda (map & filter function).ipynb',\n",
       " 'Links',\n",
       " 'lm.png',\n",
       " 'Local Settings',\n",
       " 'lr.png',\n",
       " 'Machine Learning (17th aug ) - Logistic Regression.ipynb',\n",
       " 'Machine Learning (Classification) (20-Aug-2022).ipynb',\n",
       " 'Machine Learning (Cross Validation) 28-Aug-2022.ipynb',\n",
       " 'Machine Learning (SMOTE, PCA)- 4-sep-2022.ipynb',\n",
       " 'Machine Learning _revision(From 7th Aug  to 13th aug ).ipynb',\n",
       " 'Malignant-Comments-Classifier - project.ipynb',\n",
       " 'Malignant_comments_classifier.pkl',\n",
       " 'Mall_customers.csv',\n",
       " 'Mall_customer_Clusterfile.csv',\n",
       " 'model.sav',\n",
       " 'Music',\n",
       " 'My Documents',\n",
       " 'NetHood',\n",
       " 'news details.csv',\n",
       " 'nofdvd.ipynb',\n",
       " 'NTUSER.DAT',\n",
       " 'ntuser.dat.LOG1',\n",
       " 'ntuser.dat.LOG2',\n",
       " 'NTUSER.DAT{1c2b59c5-c5f5-11eb-bacb-000d3a96488e}.TxR.0.regtrans-ms',\n",
       " 'NTUSER.DAT{1c2b59c5-c5f5-11eb-bacb-000d3a96488e}.TxR.1.regtrans-ms',\n",
       " 'NTUSER.DAT{1c2b59c5-c5f5-11eb-bacb-000d3a96488e}.TxR.2.regtrans-ms',\n",
       " 'NTUSER.DAT{1c2b59c5-c5f5-11eb-bacb-000d3a96488e}.TxR.blf',\n",
       " 'NTUSER.DAT{1c2b59c6-c5f5-11eb-bacb-000d3a96488e}.TM.blf',\n",
       " 'NTUSER.DAT{1c2b59c6-c5f5-11eb-bacb-000d3a96488e}.TMContainer00000000000000000001.regtrans-ms',\n",
       " 'NTUSER.DAT{1c2b59c6-c5f5-11eb-bacb-000d3a96488e}.TMContainer00000000000000000002.regtrans-ms',\n",
       " 'ntuser.ini',\n",
       " 'Numpy-class-17.ipynb',\n",
       " 'OneDrive',\n",
       " 'pairplot.png',\n",
       " 'pickledtcfile.pkl',\n",
       " 'Pictures',\n",
       " 'pima_indian_diabetes.csv',\n",
       " 'pip install pyppeteer.ipynb',\n",
       " 'practice assignment.ipynb',\n",
       " 'Practice Project - (Salary Project).ipynb',\n",
       " 'Practice Project - 1 (World Happiness Report).ipynb',\n",
       " 'Practice Project - 3 (Red Wine Quality Prediction).ipynb',\n",
       " 'Practice Project - 4 (Abalone Case Study).ipynb',\n",
       " 'Practice Project - 5 (Titanic Project).ipynb',\n",
       " 'Practice Project - 6 (Advertising Sales Channel Prediction).ipynb',\n",
       " 'practice.ipynb',\n",
       " 'Predicted_test_output.csv',\n",
       " 'preprocessed_1.csv',\n",
       " 'presedent of india.csv',\n",
       " 'president_heights.csv',\n",
       " 'PrintHood',\n",
       " 'Project - 7 (Big Data Mart Sales Problem).ipynb',\n",
       " 'Python (Session-10) oops.ipynb',\n",
       " 'Python (session-11).ipynb',\n",
       " 'Python (Session-4).ipynb',\n",
       " 'Python (Session-5).ipynb',\n",
       " 'Python (Session-6).ipynb',\n",
       " 'Python (Session-7).ipynb',\n",
       " 'Python (session-8).ipynb',\n",
       " 'Python (session-9).ipynb',\n",
       " 'Python Session-1.ipynb',\n",
       " 'Python session-2 .ipynb',\n",
       " 'Python session-3..ipynb',\n",
       " 'python typecasting.ipynb',\n",
       " 'Recent',\n",
       " 'Regularization- (Machine Learning)-27-Aug-2022.ipynb',\n",
       " 'restaurant_dataset.csv',\n",
       " 'Restaurant_details.csv',\n",
       " 'Results.png',\n",
       " 'Revession.ipynb',\n",
       " 'role_website.csv',\n",
       " 'Salaries.csv',\n",
       " 'Salary Project.ipynb',\n",
       " 'salary.pkl',\n",
       " 'Saved Games',\n",
       " 'scores3_file.csv',\n",
       " 'scores_database.db',\n",
       " 'seaborn-data',\n",
       " 'Searches',\n",
       " 'SendTo',\n",
       " 'session of typecasting.ipynb',\n",
       " 'session-2  list indexing, slicing.ipynb',\n",
       " 'session-2, list, indexing, slicing.ipynb',\n",
       " 'sonar.csv',\n",
       " 'Sonar.ipynb',\n",
       " 'Sqlite - (Excercise - 1)  class-13 stating.ipynb',\n",
       " 'Start Menu',\n",
       " 'statistics revision (from 17 july).ipynb',\n",
       " 'students_marks.csv',\n",
       " 'student_database.db',\n",
       " 'student_marks.csv',\n",
       " 'Submission.csv',\n",
       " 'svc.prediction.csv',\n",
       " 'svcfile.obj',\n",
       " 'Telecom Churn.ipynb',\n",
       " 'Telecom_customer_churn.csv',\n",
       " 'Templates',\n",
       " 'testdatabase.db',\n",
       " 'testdatabase.db-journal',\n",
       " 'test_dataset_predictions2.csv',\n",
       " 'the_cancerfile.csv',\n",
       " 'Titanic Project.pkl',\n",
       " 'titanic_train.csv',\n",
       " 'Total_sales.pkl',\n",
       " 'user = input.ipynb',\n",
       " 'Videos',\n",
       " 'Web Scraping (BeautifulSoup).ipynb',\n",
       " 'Web scraping assignment - 1.ipynb',\n",
       " 'WEB SCRAPING – ASSIGNMENT 4.ipynb',\n",
       " 'webscraping assignment - 2.ipynb',\n",
       " 'winequality-red.csv',\n",
       " 'zomato.csv']"
      ]
     },
     "execution_count": 13,
     "metadata": {},
     "output_type": "execute_result"
    }
   ],
   "source": [
    "os.listdir()"
   ]
  },
  {
   "cell_type": "code",
   "execution_count": 14,
   "id": "1c22ff34",
   "metadata": {},
   "outputs": [],
   "source": [
    "# show the list of files and folders in current working directry "
   ]
  },
  {
   "cell_type": "code",
   "execution_count": 15,
   "id": "306a2ea0",
   "metadata": {},
   "outputs": [
    {
     "data": {
      "text/plain": [
       "['.anaconda',\n",
       " '.cisco',\n",
       " '.conda',\n",
       " '.condarc',\n",
       " '.continuum',\n",
       " '.ipynb_checkpoints',\n",
       " '.ipython',\n",
       " '.jupyter',\n",
       " '.matplotlib',\n",
       " 'Abalone Dataset.csv',\n",
       " 'abalone.csv',\n",
       " 'agedata1.csv',\n",
       " 'agedata1.tsv',\n",
       " 'age_salary.csv',\n",
       " 'anaconda3',\n",
       " 'AppData',\n",
       " 'Application Data',\n",
       " 'Baseball_Case_Study.csv',\n",
       " 'brainsize1.csv',\n",
       " 'brain_size.csv',\n",
       " 'cancerfile.csv',\n",
       " 'cancerMinMax.csv',\n",
       " 'cancerstandard.csv',\n",
       " 'Car Price  Scraping.ipynb',\n",
       " 'Car Price Prediction.ipynb',\n",
       " 'Census Income Project - (Evaluation Project - 5).ipynb',\n",
       " 'Census_model.pickle',\n",
       " 'churn.pkl',\n",
       " 'Class - 25 (statistic).ipynb',\n",
       " 'Class - 27 (Statistics).ipynb',\n",
       " 'Class - 28 (statistics).ipynb',\n",
       " 'Class - 30 (Machine Learning).ipynb',\n",
       " 'Class - 31 (Machine learning) 2.ipynb',\n",
       " 'Class - 31 (Machine learning).ipynb',\n",
       " 'Class - 33(machine learning).ipynb',\n",
       " 'Class - 34 (Machine Learning).ipynb',\n",
       " 'Class - 40 (Clustering).ipynb',\n",
       " 'Class- 29 (Statistices).ipynb',\n",
       " 'class-18,pandas.ipynb',\n",
       " 'class-19 (pandas).ipynb',\n",
       " 'Class-20 (pandas).ipynb',\n",
       " 'Class-21 (Pandas).ipynb',\n",
       " 'Class-22 (  Data Visualization Using Matplotlib ).ipynb',\n",
       " 'class-24 (statistics).ipynb',\n",
       " 'class-26, (scipy (statistics).ipynb',\n",
       " 'class-32 (Machine learning).ipynb',\n",
       " 'class=12.ipynb',\n",
       " 'Class=23(Data Visualization Using Matplotlib).ipynb',\n",
       " 'Concrete_data.csv',\n",
       " 'Contacts',\n",
       " 'Cookies',\n",
       " 'Customer_retention.ipynb',\n",
       " 'cust_churn.csv',\n",
       " 'database.db',\n",
       " 'demo-1.ipynb',\n",
       " 'Desktop',\n",
       " 'Diabetes Dataset.ipynb',\n",
       " 'Diabetes Project-1.ipynb',\n",
       " 'diabetes.csv',\n",
       " 'Documents',\n",
       " 'Downloads',\n",
       " 'dtrmodel.obj',\n",
       " 'emp1test.html',\n",
       " 'empl.csv',\n",
       " 'employee database.db',\n",
       " 'Employee10.db',\n",
       " 'employee5_database.db',\n",
       " 'employee5_database.db-journal',\n",
       " 'Employee8.db',\n",
       " 'Employee8.db-journal',\n",
       " 'emptest.csv',\n",
       " 'Encoding Scaling (Machine Learning) 3-sep-2022.ipynb',\n",
       " 'ENSEMBLE METHOD (Machine Learning)-10-sep-2022.ipynb',\n",
       " 'Evaluation Project - 1 (Baseball Case Study).ipynb',\n",
       " 'Evaluation Project - 10 (Zomato Restaurant Project).ipynb',\n",
       " 'Evaluation Project - 2 - (Avacado Project).ipynb',\n",
       " 'Evaluation Project - 6 (Loan Application Status Prediction).ipynb',\n",
       " 'Evaluation Project - 7 (Customer Churn Analysis).ipynb',\n",
       " 'Evaluation Project - 8 (Rainfall Prediction - Weather Forecasting).ipynb',\n",
       " 'Evaluation Project - 9 (Insurance Claims- Fraud Detection).ipynb',\n",
       " 'Excercise -2 (sqlite3).ipynb',\n",
       " 'Fake News Project.ipynb',\n",
       " 'fake.csv',\n",
       " 'Favorites',\n",
       " 'filekmeans_group2.csv',\n",
       " 'finalkmeans.pickle',\n",
       " 'flower',\n",
       " 'flower.obj',\n",
       " 'games.txt',\n",
       " 'Gloabal_power.pickle',\n",
       " 'Global Power Plant Database (Evaluation Project - 4).ipynb',\n",
       " 'happiness_score.ipynb',\n",
       " 'happiness_score_dataset.csv',\n",
       " 'heatmap.png',\n",
       " 'house_pred_submission.csv',\n",
       " 'house_price_data_median.csv',\n",
       " 'house_price_submission.csv',\n",
       " 'Housing Project.ipynb',\n",
       " 'HR Analytics Project- Understanding the Attrition in HR -  (Evaluation Project - 3).ipynb',\n",
       " 'hrtable.csv',\n",
       " 'hrtable_modified.csv',\n",
       " 'HR_attrition_rate.csv',\n",
       " 'IMDb Top Movies.csv',\n",
       " 'inhouse diabetes.pkl',\n",
       " 'IntelGraphicsProfiles',\n",
       " 'iris.csv',\n",
       " 'jupyter.ipynb',\n",
       " 'Lambda (map & filter function).ipynb',\n",
       " 'Links',\n",
       " 'lm.png',\n",
       " 'Local Settings',\n",
       " 'lr.png',\n",
       " 'Machine Learning (17th aug ) - Logistic Regression.ipynb',\n",
       " 'Machine Learning (Classification) (20-Aug-2022).ipynb',\n",
       " 'Machine Learning (Cross Validation) 28-Aug-2022.ipynb',\n",
       " 'Machine Learning (SMOTE, PCA)- 4-sep-2022.ipynb',\n",
       " 'Machine Learning _revision(From 7th Aug  to 13th aug ).ipynb',\n",
       " 'Malignant-Comments-Classifier - project.ipynb',\n",
       " 'Malignant_comments_classifier.pkl',\n",
       " 'Mall_customers.csv',\n",
       " 'Mall_customer_Clusterfile.csv',\n",
       " 'model.sav',\n",
       " 'Music',\n",
       " 'My Documents',\n",
       " 'NetHood',\n",
       " 'news details.csv',\n",
       " 'nofdvd.ipynb',\n",
       " 'NTUSER.DAT',\n",
       " 'ntuser.dat.LOG1',\n",
       " 'ntuser.dat.LOG2',\n",
       " 'NTUSER.DAT{1c2b59c5-c5f5-11eb-bacb-000d3a96488e}.TxR.0.regtrans-ms',\n",
       " 'NTUSER.DAT{1c2b59c5-c5f5-11eb-bacb-000d3a96488e}.TxR.1.regtrans-ms',\n",
       " 'NTUSER.DAT{1c2b59c5-c5f5-11eb-bacb-000d3a96488e}.TxR.2.regtrans-ms',\n",
       " 'NTUSER.DAT{1c2b59c5-c5f5-11eb-bacb-000d3a96488e}.TxR.blf',\n",
       " 'NTUSER.DAT{1c2b59c6-c5f5-11eb-bacb-000d3a96488e}.TM.blf',\n",
       " 'NTUSER.DAT{1c2b59c6-c5f5-11eb-bacb-000d3a96488e}.TMContainer00000000000000000001.regtrans-ms',\n",
       " 'NTUSER.DAT{1c2b59c6-c5f5-11eb-bacb-000d3a96488e}.TMContainer00000000000000000002.regtrans-ms',\n",
       " 'ntuser.ini',\n",
       " 'Numpy-class-17.ipynb',\n",
       " 'OneDrive',\n",
       " 'pairplot.png',\n",
       " 'pickledtcfile.pkl',\n",
       " 'Pictures',\n",
       " 'pima_indian_diabetes.csv',\n",
       " 'pip install pyppeteer.ipynb',\n",
       " 'practice assignment.ipynb',\n",
       " 'Practice Project - (Salary Project).ipynb',\n",
       " 'Practice Project - 1 (World Happiness Report).ipynb',\n",
       " 'Practice Project - 3 (Red Wine Quality Prediction).ipynb',\n",
       " 'Practice Project - 4 (Abalone Case Study).ipynb',\n",
       " 'Practice Project - 5 (Titanic Project).ipynb',\n",
       " 'Practice Project - 6 (Advertising Sales Channel Prediction).ipynb',\n",
       " 'practice.ipynb',\n",
       " 'Predicted_test_output.csv',\n",
       " 'preprocessed_1.csv',\n",
       " 'presedent of india.csv',\n",
       " 'president_heights.csv',\n",
       " 'PrintHood',\n",
       " 'Project - 7 (Big Data Mart Sales Problem).ipynb',\n",
       " 'Python (Session-10) oops.ipynb',\n",
       " 'Python (session-11).ipynb',\n",
       " 'Python (Session-4).ipynb',\n",
       " 'Python (Session-5).ipynb',\n",
       " 'Python (Session-6).ipynb',\n",
       " 'Python (Session-7).ipynb',\n",
       " 'Python (session-8).ipynb',\n",
       " 'Python (session-9).ipynb',\n",
       " 'Python Session-1.ipynb',\n",
       " 'Python session-2 .ipynb',\n",
       " 'Python session-3..ipynb',\n",
       " 'python typecasting.ipynb',\n",
       " 'Recent',\n",
       " 'Regularization- (Machine Learning)-27-Aug-2022.ipynb',\n",
       " 'restaurant_dataset.csv',\n",
       " 'Restaurant_details.csv',\n",
       " 'Results.png',\n",
       " 'Revession.ipynb',\n",
       " 'role_website.csv',\n",
       " 'Salaries.csv',\n",
       " 'Salary Project.ipynb',\n",
       " 'salary.pkl',\n",
       " 'Saved Games',\n",
       " 'scores3_file.csv',\n",
       " 'scores_database.db',\n",
       " 'seaborn-data',\n",
       " 'Searches',\n",
       " 'SendTo',\n",
       " 'session of typecasting.ipynb',\n",
       " 'session-2  list indexing, slicing.ipynb',\n",
       " 'session-2, list, indexing, slicing.ipynb',\n",
       " 'sonar.csv',\n",
       " 'Sonar.ipynb',\n",
       " 'Sqlite - (Excercise - 1)  class-13 stating.ipynb',\n",
       " 'Start Menu',\n",
       " 'statistics revision (from 17 july).ipynb',\n",
       " 'students_marks.csv',\n",
       " 'student_database.db',\n",
       " 'student_marks.csv',\n",
       " 'Submission.csv',\n",
       " 'svc.prediction.csv',\n",
       " 'svcfile.obj',\n",
       " 'Telecom Churn.ipynb',\n",
       " 'Telecom_customer_churn.csv',\n",
       " 'Templates',\n",
       " 'testdatabase.db',\n",
       " 'testdatabase.db-journal',\n",
       " 'test_dataset_predictions2.csv',\n",
       " 'the_cancerfile.csv',\n",
       " 'Titanic Project.pkl',\n",
       " 'titanic_train.csv',\n",
       " 'Total_sales.pkl',\n",
       " 'user = input.ipynb',\n",
       " 'Videos',\n",
       " 'Web Scraping (BeautifulSoup).ipynb',\n",
       " 'Web scraping assignment - 1.ipynb',\n",
       " 'WEB SCRAPING – ASSIGNMENT 4.ipynb',\n",
       " 'webscraping assignment - 2.ipynb',\n",
       " 'winequality-red.csv',\n",
       " 'zomato.csv']"
      ]
     },
     "execution_count": 15,
     "metadata": {},
     "output_type": "execute_result"
    }
   ],
   "source": [
    "os.listdir()"
   ]
  },
  {
   "cell_type": "code",
   "execution_count": 25,
   "id": "962d201f",
   "metadata": {},
   "outputs": [],
   "source": [
    "import math"
   ]
  },
  {
   "cell_type": "code",
   "execution_count": 26,
   "id": "c233bf17",
   "metadata": {},
   "outputs": [
    {
     "data": {
      "text/plain": [
       "3.141592653589793"
      ]
     },
     "execution_count": 26,
     "metadata": {},
     "output_type": "execute_result"
    }
   ],
   "source": [
    "math.pi"
   ]
  },
  {
   "cell_type": "code",
   "execution_count": 27,
   "id": "ac004ffe",
   "metadata": {},
   "outputs": [
    {
     "data": {
      "text/plain": [
       "8.0"
      ]
     },
     "execution_count": 27,
     "metadata": {},
     "output_type": "execute_result"
    }
   ],
   "source": [
    "math.sqrt(64)"
   ]
  },
  {
   "cell_type": "code",
   "execution_count": 28,
   "id": "57a81b52",
   "metadata": {},
   "outputs": [
    {
     "data": {
      "text/plain": [
       "25.0"
      ]
     },
     "execution_count": 28,
     "metadata": {},
     "output_type": "execute_result"
    }
   ],
   "source": [
    "math.pow(5,2)"
   ]
  },
  {
   "cell_type": "code",
   "execution_count": 29,
   "id": "e7a13849",
   "metadata": {},
   "outputs": [
    {
     "data": {
      "text/plain": [
       "9.0"
      ]
     },
     "execution_count": 29,
     "metadata": {},
     "output_type": "execute_result"
    }
   ],
   "source": [
    "math.sqrt(81)"
   ]
  },
  {
   "cell_type": "code",
   "execution_count": 30,
   "id": "8e5b68b0",
   "metadata": {},
   "outputs": [],
   "source": [
    "import math as mt"
   ]
  },
  {
   "cell_type": "code",
   "execution_count": 31,
   "id": "b2f1b67e",
   "metadata": {},
   "outputs": [
    {
     "data": {
      "text/plain": [
       "25.0"
      ]
     },
     "execution_count": 31,
     "metadata": {},
     "output_type": "execute_result"
    }
   ],
   "source": [
    "mt.pow(5,2)"
   ]
  },
  {
   "cell_type": "code",
   "execution_count": 32,
   "id": "f042f5f7",
   "metadata": {},
   "outputs": [],
   "source": [
    "from math import sqrt "
   ]
  },
  {
   "cell_type": "code",
   "execution_count": 33,
   "id": "e2c0fecc",
   "metadata": {},
   "outputs": [
    {
     "data": {
      "text/plain": [
       "8.0"
      ]
     },
     "execution_count": 33,
     "metadata": {},
     "output_type": "execute_result"
    }
   ],
   "source": [
    "sqrt(64)"
   ]
  },
  {
   "cell_type": "code",
   "execution_count": 34,
   "id": "ba18f83f",
   "metadata": {},
   "outputs": [],
   "source": [
    "from math import pi"
   ]
  },
  {
   "cell_type": "code",
   "execution_count": 35,
   "id": "24edec37",
   "metadata": {},
   "outputs": [
    {
     "data": {
      "text/plain": [
       "3.141592653589793"
      ]
     },
     "execution_count": 35,
     "metadata": {},
     "output_type": "execute_result"
    }
   ],
   "source": [
    "pi"
   ]
  },
  {
   "cell_type": "code",
   "execution_count": 36,
   "id": "d0dbb953",
   "metadata": {},
   "outputs": [],
   "source": [
    "import math\n",
    "    \n",
    "def areaofcircle(r):\n",
    "    area=math.pi*(r**2)\n",
    "    print(area)"
   ]
  },
  {
   "cell_type": "code",
   "execution_count": 37,
   "id": "b5b352c8",
   "metadata": {},
   "outputs": [
    {
     "name": "stdout",
     "output_type": "stream",
     "text": [
      "enter any radius value5\n",
      "78.53981633974483\n"
     ]
    }
   ],
   "source": [
    "r=int(input(\"enter any radius value\"))\n",
    "areaofcircle(r)"
   ]
  },
  {
   "cell_type": "code",
   "execution_count": 38,
   "id": "d5784a28",
   "metadata": {},
   "outputs": [],
   "source": [
    "from math import pi"
   ]
  },
  {
   "cell_type": "code",
   "execution_count": 39,
   "id": "4113fb70",
   "metadata": {},
   "outputs": [
    {
     "name": "stdout",
     "output_type": "stream",
     "text": [
      "the value of pi= 3.141592653589793\n"
     ]
    }
   ],
   "source": [
    "print('the value of pi=',pi)"
   ]
  },
  {
   "cell_type": "code",
   "execution_count": 40,
   "id": "83079ba3",
   "metadata": {},
   "outputs": [],
   "source": [
    "from math import sqrt"
   ]
  },
  {
   "cell_type": "code",
   "execution_count": 62,
   "id": "484be283",
   "metadata": {},
   "outputs": [
    {
     "name": "stdout",
     "output_type": "stream",
     "text": [
      "the value of sqrt= 8.0\n"
     ]
    }
   ],
   "source": [
    "sqrt(64)\n",
    "\n",
    "print('the value of sqrt=',sqrt(64))"
   ]
  },
  {
   "cell_type": "code",
   "execution_count": 63,
   "id": "248fc734",
   "metadata": {},
   "outputs": [
    {
     "data": {
      "text/plain": [
       "dict_keys(['__name__', '__doc__', '__package__', '__loader__', '__spec__', 'acos', 'acosh', 'asin', 'asinh', 'atan', 'atan2', 'atanh', 'ceil', 'copysign', 'cos', 'cosh', 'degrees', 'dist', 'erf', 'erfc', 'exp', 'expm1', 'fabs', 'factorial', 'floor', 'fmod', 'frexp', 'fsum', 'gamma', 'gcd', 'hypot', 'isclose', 'isfinite', 'isinf', 'isnan', 'isqrt', 'lcm', 'ldexp', 'lgamma', 'log', 'log1p', 'log10', 'log2', 'modf', 'pow', 'radians', 'remainder', 'sin', 'sinh', 'sqrt', 'tan', 'tanh', 'trunc', 'prod', 'perm', 'comb', 'nextafter', 'ulp', 'pi', 'e', 'tau', 'inf', 'nan'])"
      ]
     },
     "execution_count": 63,
     "metadata": {},
     "output_type": "execute_result"
    }
   ],
   "source": [
    "math.__dict__.keys()"
   ]
  },
  {
   "cell_type": "code",
   "execution_count": 64,
   "id": "2dbf5842",
   "metadata": {},
   "outputs": [],
   "source": [
    "# get current date and time"
   ]
  },
  {
   "cell_type": "code",
   "execution_count": 65,
   "id": "ef09758b",
   "metadata": {},
   "outputs": [],
   "source": [
    "import datetime"
   ]
  },
  {
   "cell_type": "code",
   "execution_count": 66,
   "id": "275a5ecd",
   "metadata": {},
   "outputs": [],
   "source": [
    "dt=datetime.datetime.now()"
   ]
  },
  {
   "cell_type": "code",
   "execution_count": 67,
   "id": "b3b2c139",
   "metadata": {},
   "outputs": [
    {
     "data": {
      "text/plain": [
       "datetime.datetime(2023, 1, 19, 18, 17, 50, 909168)"
      ]
     },
     "execution_count": 67,
     "metadata": {},
     "output_type": "execute_result"
    }
   ],
   "source": [
    "dt"
   ]
  },
  {
   "cell_type": "code",
   "execution_count": 68,
   "id": "2be20210",
   "metadata": {},
   "outputs": [],
   "source": [
    "# get current date"
   ]
  },
  {
   "cell_type": "code",
   "execution_count": 69,
   "id": "98a3cc45",
   "metadata": {},
   "outputs": [
    {
     "data": {
      "text/plain": [
       "datetime.date(2023, 1, 19)"
      ]
     },
     "execution_count": 69,
     "metadata": {},
     "output_type": "execute_result"
    }
   ],
   "source": [
    "date=datetime.date.today()\n",
    "date"
   ]
  },
  {
   "cell_type": "code",
   "execution_count": 82,
   "id": "ff37ff27",
   "metadata": {},
   "outputs": [],
   "source": [
    "# commonly used classes in the datetime module are \n",
    "#date class\n",
    "#time class\n",
    "#datetime class\n",
    "#timedelta class"
   ]
  },
  {
   "cell_type": "code",
   "execution_count": 71,
   "id": "a2bf71d6",
   "metadata": {},
   "outputs": [],
   "source": [
    "import datetime\n"
   ]
  },
  {
   "cell_type": "code",
   "execution_count": 72,
   "id": "2b38c9f3",
   "metadata": {},
   "outputs": [],
   "source": [
    "d=datetime.date(2021,2,25)"
   ]
  },
  {
   "cell_type": "code",
   "execution_count": 52,
   "id": "01092428",
   "metadata": {},
   "outputs": [
    {
     "data": {
      "text/plain": [
       "datetime.date(2021, 2, 25)"
      ]
     },
     "execution_count": 52,
     "metadata": {},
     "output_type": "execute_result"
    }
   ],
   "source": [
    "d"
   ]
  },
  {
   "cell_type": "code",
   "execution_count": 53,
   "id": "be6f06b4",
   "metadata": {},
   "outputs": [],
   "source": [
    "from datetime import date"
   ]
  },
  {
   "cell_type": "code",
   "execution_count": 54,
   "id": "0982a8f8",
   "metadata": {},
   "outputs": [
    {
     "data": {
      "text/plain": [
       "datetime.date(2023, 1, 19)"
      ]
     },
     "execution_count": 54,
     "metadata": {},
     "output_type": "execute_result"
    }
   ],
   "source": [
    "date.today()"
   ]
  },
  {
   "cell_type": "code",
   "execution_count": 73,
   "id": "9d20dae4",
   "metadata": {},
   "outputs": [],
   "source": [
    "from datetime import datetime"
   ]
  },
  {
   "cell_type": "code",
   "execution_count": 74,
   "id": "5691b071",
   "metadata": {},
   "outputs": [
    {
     "data": {
      "text/plain": [
       "datetime.datetime(2023, 1, 19, 18, 21, 0, 51886)"
      ]
     },
     "execution_count": 74,
     "metadata": {},
     "output_type": "execute_result"
    }
   ],
   "source": [
    "datetime.now()"
   ]
  },
  {
   "cell_type": "code",
   "execution_count": 75,
   "id": "e6a76aa6",
   "metadata": {},
   "outputs": [],
   "source": [
    "# get current date\n",
    "d=date.today()"
   ]
  },
  {
   "cell_type": "code",
   "execution_count": 76,
   "id": "84dc1525",
   "metadata": {},
   "outputs": [
    {
     "data": {
      "text/plain": [
       "datetime.date(2023, 1, 19)"
      ]
     },
     "execution_count": 76,
     "metadata": {},
     "output_type": "execute_result"
    }
   ],
   "source": [
    "d"
   ]
  },
  {
   "cell_type": "code",
   "execution_count": 77,
   "id": "fdd714dc",
   "metadata": {},
   "outputs": [
    {
     "name": "stdout",
     "output_type": "stream",
     "text": [
      "year 2023\n",
      "month 1\n",
      "date 19\n"
     ]
    }
   ],
   "source": [
    "print('year',d.year)\n",
    "print(\"month\",d.month)\n",
    "print(\"date\",d.day)"
   ]
  },
  {
   "cell_type": "code",
   "execution_count": 79,
   "id": "dfb6836b",
   "metadata": {},
   "outputs": [
    {
     "name": "stdout",
     "output_type": "stream",
     "text": [
      "00:00:00\n",
      "11:30:50\n"
     ]
    }
   ],
   "source": [
    "from datetime import time\n",
    "\n",
    "t=time()\n",
    "print(t)\n",
    "\n",
    "# time(hrs,mint,sec)\n",
    "b=time(11,30,50)\n",
    "print(b)"
   ]
  },
  {
   "cell_type": "code",
   "execution_count": 61,
   "id": "7c90a39a",
   "metadata": {},
   "outputs": [
    {
     "name": "stdout",
     "output_type": "stream",
     "text": [
      "hours 11\n",
      "minute= 30\n",
      "second= 50\n"
     ]
    }
   ],
   "source": [
    "print(\"hours\",b.hour)\n",
    "print('minute=',b.minute)\n",
    "print(\"second=\",b.second)"
   ]
  },
  {
   "cell_type": "code",
   "execution_count": 81,
   "id": "180da33b",
   "metadata": {},
   "outputs": [
    {
     "data": {
      "text/plain": [
       "datetime.datetime(2023, 1, 19, 2, 50, 30)"
      ]
     },
     "execution_count": 81,
     "metadata": {},
     "output_type": "execute_result"
    }
   ],
   "source": [
    "#datetime(year,month,day,hour,minute,second)\n",
    "\n",
    "c=datetime(2023,1,19,2,50,30)\n",
    "c"
   ]
  },
  {
   "cell_type": "raw",
   "id": "25f51770",
   "metadata": {},
   "source": [
    "python files i/o operations\n",
    "\n",
    "# what is a file\n",
    "# how to open a file\n",
    "# how to read file in python\n",
    "# how to write to files using python\n",
    "# how to close file using python\n",
    "\n",
    "w=write \n",
    "\n",
    "r=read\n",
    "\n",
    "a=append\n",
    "\n",
    "modes of operation\n",
    "\n",
    "y= open a file for reading\n",
    "\n",
    "w= open a file for writing or create a new file\n",
    "\n",
    "x= open a file for exclusive creation\n",
    "\n",
    "'a' = open for appending at the end of the file without truncating it, create a new file if it does not exits\n",
    "\n",
    "'t' = open in text mode\n",
    "\n",
    "'b' = open in binary mode\n",
    "\n",
    "'+' = open a file for updating(reading and writing)\n"
   ]
  },
  {
   "cell_type": "code",
   "execution_count": 100,
   "id": "c4fdbb16",
   "metadata": {},
   "outputs": [],
   "source": [
    "savefile=open('C:\\\\python\\\\nehafile.txt','w')"
   ]
  },
  {
   "cell_type": "code",
   "execution_count": 101,
   "id": "e4410f7d",
   "metadata": {},
   "outputs": [
    {
     "data": {
      "text/plain": [
       "46"
      ]
     },
     "execution_count": 101,
     "metadata": {},
     "output_type": "execute_result"
    }
   ],
   "source": [
    "savefile.write('we are learning file inptut output operations.')"
   ]
  },
  {
   "cell_type": "code",
   "execution_count": 102,
   "id": "8a2e7b5a",
   "metadata": {},
   "outputs": [],
   "source": [
    "savefile.close()"
   ]
  },
  {
   "cell_type": "code",
   "execution_count": 103,
   "id": "154723a6",
   "metadata": {},
   "outputs": [],
   "source": [
    "readme=open('C:\\\\python\\\\nehafile.txt','r')"
   ]
  },
  {
   "cell_type": "code",
   "execution_count": 104,
   "id": "f2bb0bc3",
   "metadata": {},
   "outputs": [
    {
     "name": "stdout",
     "output_type": "stream",
     "text": [
      "we are learning file inptut output operations.\n"
     ]
    }
   ],
   "source": [
    "print(readme.read())"
   ]
  },
  {
   "cell_type": "code",
   "execution_count": 105,
   "id": "20d8be50",
   "metadata": {},
   "outputs": [],
   "source": [
    "readme.close()"
   ]
  },
  {
   "cell_type": "code",
   "execution_count": 106,
   "id": "955ae28c",
   "metadata": {},
   "outputs": [],
   "source": [
    "appendfile=open('C:\\\\python\\\\nehafile.txt','a')"
   ]
  },
  {
   "cell_type": "code",
   "execution_count": 107,
   "id": "7a052829",
   "metadata": {},
   "outputs": [
    {
     "data": {
      "text/plain": [
       "39"
      ]
     },
     "execution_count": 107,
     "metadata": {},
     "output_type": "execute_result"
    }
   ],
   "source": [
    "appendfile.write(\"\\n Now for testing i am adding new line.\")"
   ]
  },
  {
   "cell_type": "code",
   "execution_count": 108,
   "id": "124f4695",
   "metadata": {},
   "outputs": [
    {
     "data": {
      "text/plain": [
       "37"
      ]
     },
     "execution_count": 108,
     "metadata": {},
     "output_type": "execute_result"
    }
   ],
   "source": [
    "appendfile.write(\"Now for testing i am adding new line.\")"
   ]
  },
  {
   "cell_type": "code",
   "execution_count": 109,
   "id": "bf57665d",
   "metadata": {},
   "outputs": [],
   "source": [
    "appendfile.close()"
   ]
  },
  {
   "cell_type": "code",
   "execution_count": 110,
   "id": "b414fcb2",
   "metadata": {},
   "outputs": [],
   "source": [
    "readme=open('C:\\\\python\\\\nehafile.txt','r')"
   ]
  },
  {
   "cell_type": "code",
   "execution_count": 111,
   "id": "ce5d24fa",
   "metadata": {},
   "outputs": [
    {
     "name": "stdout",
     "output_type": "stream",
     "text": [
      "we are learning file inptut output operations.\n",
      " Now for testing i am adding new line.Now for testing i am adding new line.\n"
     ]
    }
   ],
   "source": [
    "print(readme.read())"
   ]
  },
  {
   "cell_type": "code",
   "execution_count": 117,
   "id": "f21315b5",
   "metadata": {},
   "outputs": [],
   "source": [
    "appendfile2=open('C:\\\\python\\\\nehafile2.txt','a')"
   ]
  },
  {
   "cell_type": "code",
   "execution_count": 118,
   "id": "2d2e4e72",
   "metadata": {},
   "outputs": [
    {
     "data": {
      "text/plain": [
       "20"
      ]
     },
     "execution_count": 118,
     "metadata": {},
     "output_type": "execute_result"
    }
   ],
   "source": [
    "appendfile2.write('we have learn python')"
   ]
  },
  {
   "cell_type": "code",
   "execution_count": 119,
   "id": "19339cc1",
   "metadata": {},
   "outputs": [],
   "source": [
    "appendfile2.close()"
   ]
  },
  {
   "cell_type": "code",
   "execution_count": 120,
   "id": "5c0bff3b",
   "metadata": {},
   "outputs": [],
   "source": [
    "readme=open('C:\\\\python\\\\nehafile2.txt','r')"
   ]
  },
  {
   "cell_type": "code",
   "execution_count": 121,
   "id": "171eea1c",
   "metadata": {},
   "outputs": [],
   "source": [
    "readme=open('C:\\\\python\\\\nehafile.txt','r')"
   ]
  },
  {
   "cell_type": "code",
   "execution_count": 122,
   "id": "157158bb",
   "metadata": {},
   "outputs": [],
   "source": [
    "#open file for write mode\n",
    "\n",
    "\n",
    "savefile=open('C:\\\\python\\\\nehafile5.txt','w')"
   ]
  },
  {
   "cell_type": "code",
   "execution_count": 123,
   "id": "e6ca9f65",
   "metadata": {},
   "outputs": [
    {
     "data": {
      "text/plain": [
       "15"
      ]
     },
     "execution_count": 123,
     "metadata": {},
     "output_type": "execute_result"
    }
   ],
   "source": [
    "savefile.write('hello,how r you')"
   ]
  },
  {
   "cell_type": "code",
   "execution_count": 124,
   "id": "8f35627e",
   "metadata": {},
   "outputs": [],
   "source": [
    "savefile.close()"
   ]
  },
  {
   "cell_type": "code",
   "execution_count": 125,
   "id": "d85a6fd7",
   "metadata": {},
   "outputs": [],
   "source": [
    "# open file with read mode\n",
    "\n",
    "read=open('C:\\\\python\\\\nehafile5.txt','r')"
   ]
  },
  {
   "cell_type": "code",
   "execution_count": 126,
   "id": "5ec5754a",
   "metadata": {},
   "outputs": [
    {
     "name": "stdout",
     "output_type": "stream",
     "text": [
      "hello,how r you\n"
     ]
    }
   ],
   "source": [
    "print(read.read())"
   ]
  },
  {
   "cell_type": "code",
   "execution_count": 129,
   "id": "d339b56e",
   "metadata": {},
   "outputs": [],
   "source": [
    "#open file for append mode\n",
    "\n",
    "appendfile=open('C:\\\\python\\\\nehafile5.txt','a')"
   ]
  },
  {
   "cell_type": "code",
   "execution_count": 130,
   "id": "def311d2",
   "metadata": {},
   "outputs": [
    {
     "data": {
      "text/plain": [
       "20"
      ]
     },
     "execution_count": 130,
     "metadata": {},
     "output_type": "execute_result"
    }
   ],
   "source": [
    "appendfile.write('we have learn python')"
   ]
  },
  {
   "cell_type": "code",
   "execution_count": 131,
   "id": "926f4199",
   "metadata": {},
   "outputs": [],
   "source": [
    "appendfile.close()"
   ]
  },
  {
   "cell_type": "code",
   "execution_count": 132,
   "id": "50854330",
   "metadata": {},
   "outputs": [],
   "source": [
    "#open file for read mode\n",
    "\n",
    "readme=open('C:\\\\python\\\\nehafile5.txt','r')"
   ]
  },
  {
   "cell_type": "code",
   "execution_count": 133,
   "id": "60d64079",
   "metadata": {},
   "outputs": [
    {
     "name": "stdout",
     "output_type": "stream",
     "text": [
      "hello,how r youwe have learn python\n"
     ]
    }
   ],
   "source": [
    "print(readme.read())"
   ]
  },
  {
   "cell_type": "code",
   "execution_count": null,
   "id": "17167733",
   "metadata": {},
   "outputs": [],
   "source": []
  },
  {
   "cell_type": "code",
   "execution_count": null,
   "id": "d6c49dc0",
   "metadata": {},
   "outputs": [],
   "source": []
  },
  {
   "cell_type": "code",
   "execution_count": null,
   "id": "61af9d5d",
   "metadata": {},
   "outputs": [],
   "source": []
  },
  {
   "cell_type": "code",
   "execution_count": null,
   "id": "83137a46",
   "metadata": {},
   "outputs": [],
   "source": []
  },
  {
   "cell_type": "code",
   "execution_count": null,
   "id": "097dd1a9",
   "metadata": {},
   "outputs": [],
   "source": []
  },
  {
   "cell_type": "code",
   "execution_count": null,
   "id": "542ce736",
   "metadata": {},
   "outputs": [],
   "source": []
  },
  {
   "cell_type": "code",
   "execution_count": null,
   "id": "f1a70b67",
   "metadata": {},
   "outputs": [],
   "source": []
  },
  {
   "cell_type": "code",
   "execution_count": null,
   "id": "e9b833d4",
   "metadata": {},
   "outputs": [],
   "source": []
  },
  {
   "cell_type": "code",
   "execution_count": null,
   "id": "d9b19241",
   "metadata": {},
   "outputs": [],
   "source": []
  },
  {
   "cell_type": "code",
   "execution_count": null,
   "id": "23fdd26c",
   "metadata": {},
   "outputs": [],
   "source": []
  },
  {
   "cell_type": "code",
   "execution_count": null,
   "id": "cab406f5",
   "metadata": {},
   "outputs": [],
   "source": []
  },
  {
   "cell_type": "code",
   "execution_count": null,
   "id": "c832a665",
   "metadata": {},
   "outputs": [],
   "source": []
  },
  {
   "cell_type": "code",
   "execution_count": null,
   "id": "37c2e0cd",
   "metadata": {},
   "outputs": [],
   "source": []
  },
  {
   "cell_type": "code",
   "execution_count": null,
   "id": "18b9bbed",
   "metadata": {},
   "outputs": [],
   "source": []
  },
  {
   "cell_type": "code",
   "execution_count": null,
   "id": "3af33600",
   "metadata": {},
   "outputs": [],
   "source": []
  },
  {
   "cell_type": "code",
   "execution_count": null,
   "id": "801623d0",
   "metadata": {},
   "outputs": [],
   "source": []
  },
  {
   "cell_type": "code",
   "execution_count": null,
   "id": "f0e518d5",
   "metadata": {},
   "outputs": [],
   "source": []
  },
  {
   "cell_type": "code",
   "execution_count": null,
   "id": "e25df0f2",
   "metadata": {},
   "outputs": [],
   "source": []
  }
 ],
 "metadata": {
  "kernelspec": {
   "display_name": "Python 3 (ipykernel)",
   "language": "python",
   "name": "python3"
  },
  "language_info": {
   "codemirror_mode": {
    "name": "ipython",
    "version": 3
   },
   "file_extension": ".py",
   "mimetype": "text/x-python",
   "name": "python",
   "nbconvert_exporter": "python",
   "pygments_lexer": "ipython3",
   "version": "3.9.7"
  }
 },
 "nbformat": 4,
 "nbformat_minor": 5
}
