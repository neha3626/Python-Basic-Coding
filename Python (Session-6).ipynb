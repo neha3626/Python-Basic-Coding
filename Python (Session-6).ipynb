{
 "cells": [
  {
   "cell_type": "markdown",
   "id": "7e3e31db",
   "metadata": {},
   "source": [
    "String function in python\n",
    "\n",
    "upper\n",
    "lower\n",
    "swipe cash"
   ]
  },
  {
   "cell_type": "code",
   "execution_count": 1,
   "id": "6206e1af",
   "metadata": {},
   "outputs": [],
   "source": [
    "word='neha'"
   ]
  },
  {
   "cell_type": "code",
   "execution_count": 2,
   "id": "fd16f614",
   "metadata": {},
   "outputs": [
    {
     "data": {
      "text/plain": [
       "'NEHA'"
      ]
     },
     "execution_count": 2,
     "metadata": {},
     "output_type": "execute_result"
    }
   ],
   "source": [
    "word.upper()"
   ]
  },
  {
   "cell_type": "code",
   "execution_count": 3,
   "id": "2354c84a",
   "metadata": {},
   "outputs": [],
   "source": [
    "word1=\"machine learning\""
   ]
  },
  {
   "cell_type": "code",
   "execution_count": 4,
   "id": "5da1265c",
   "metadata": {},
   "outputs": [
    {
     "data": {
      "text/plain": [
       "'MACHINE LEARNING'"
      ]
     },
     "execution_count": 4,
     "metadata": {},
     "output_type": "execute_result"
    }
   ],
   "source": [
    "word1.upper()"
   ]
  },
  {
   "cell_type": "code",
   "execution_count": 5,
   "id": "73cd787a",
   "metadata": {},
   "outputs": [],
   "source": [
    "word3='MACHINE LEARNING'"
   ]
  },
  {
   "cell_type": "code",
   "execution_count": 6,
   "id": "2e3f7d1f",
   "metadata": {},
   "outputs": [
    {
     "data": {
      "text/plain": [
       "'machine learning'"
      ]
     },
     "execution_count": 6,
     "metadata": {},
     "output_type": "execute_result"
    }
   ],
   "source": [
    "word3.lower()"
   ]
  },
  {
   "cell_type": "code",
   "execution_count": 7,
   "id": "b60b61ea",
   "metadata": {},
   "outputs": [],
   "source": [
    "w1=word3.lower()"
   ]
  },
  {
   "cell_type": "code",
   "execution_count": 8,
   "id": "f8dce97d",
   "metadata": {},
   "outputs": [
    {
     "data": {
      "text/plain": [
       "'machine learning'"
      ]
     },
     "execution_count": 8,
     "metadata": {},
     "output_type": "execute_result"
    }
   ],
   "source": [
    "w1"
   ]
  },
  {
   "cell_type": "code",
   "execution_count": 9,
   "id": "ef1e3b5b",
   "metadata": {},
   "outputs": [
    {
     "data": {
      "text/plain": [
       "False"
      ]
     },
     "execution_count": 9,
     "metadata": {},
     "output_type": "execute_result"
    }
   ],
   "source": [
    "w1.isupper()"
   ]
  },
  {
   "cell_type": "code",
   "execution_count": 10,
   "id": "8c597d05",
   "metadata": {},
   "outputs": [
    {
     "data": {
      "text/plain": [
       "True"
      ]
     },
     "execution_count": 10,
     "metadata": {},
     "output_type": "execute_result"
    }
   ],
   "source": [
    "w1.islower()"
   ]
  },
  {
   "cell_type": "code",
   "execution_count": 11,
   "id": "25d7c433",
   "metadata": {},
   "outputs": [],
   "source": [
    "word4='InTiLLiGence'"
   ]
  },
  {
   "cell_type": "code",
   "execution_count": 12,
   "id": "f04a8199",
   "metadata": {},
   "outputs": [
    {
     "data": {
      "text/plain": [
       "'iNtIllIgENCE'"
      ]
     },
     "execution_count": 12,
     "metadata": {},
     "output_type": "execute_result"
    }
   ],
   "source": [
    "word4.swapcase()"
   ]
  },
  {
   "cell_type": "code",
   "execution_count": 13,
   "id": "0825930e",
   "metadata": {},
   "outputs": [],
   "source": [
    "word5='DaTa sCiEnCe'"
   ]
  },
  {
   "cell_type": "code",
   "execution_count": 14,
   "id": "0c75c785",
   "metadata": {},
   "outputs": [
    {
     "data": {
      "text/plain": [
       "'dAtA ScIeNcE'"
      ]
     },
     "execution_count": 14,
     "metadata": {},
     "output_type": "execute_result"
    }
   ],
   "source": [
    "word5.swapcase()"
   ]
  },
  {
   "cell_type": "code",
   "execution_count": 15,
   "id": "97ea8519",
   "metadata": {},
   "outputs": [],
   "source": [
    "word6='data'"
   ]
  },
  {
   "cell_type": "code",
   "execution_count": 16,
   "id": "963f5c62",
   "metadata": {},
   "outputs": [
    {
     "data": {
      "text/plain": [
       "'Data'"
      ]
     },
     "execution_count": 16,
     "metadata": {},
     "output_type": "execute_result"
    }
   ],
   "source": [
    "word6.capitalize()"
   ]
  },
  {
   "cell_type": "code",
   "execution_count": 17,
   "id": "7a76270f",
   "metadata": {},
   "outputs": [],
   "source": [
    "word7='my name is neha'"
   ]
  },
  {
   "cell_type": "code",
   "execution_count": 18,
   "id": "4217d515",
   "metadata": {},
   "outputs": [
    {
     "data": {
      "text/plain": [
       "'My name is neha'"
      ]
     },
     "execution_count": 18,
     "metadata": {},
     "output_type": "execute_result"
    }
   ],
   "source": [
    "word7.capitalize()"
   ]
  },
  {
   "cell_type": "code",
   "execution_count": 19,
   "id": "81fb709b",
   "metadata": {},
   "outputs": [
    {
     "data": {
      "text/plain": [
       "'My Name Is Neha'"
      ]
     },
     "execution_count": 19,
     "metadata": {},
     "output_type": "execute_result"
    }
   ],
   "source": [
    "word7.title()"
   ]
  },
  {
   "cell_type": "code",
   "execution_count": 20,
   "id": "02d12ad8",
   "metadata": {},
   "outputs": [
    {
     "data": {
      "text/plain": [
       "['my', 'name', 'is', 'neha']"
      ]
     },
     "execution_count": 20,
     "metadata": {},
     "output_type": "execute_result"
    }
   ],
   "source": [
    "word7.split()"
   ]
  },
  {
   "cell_type": "code",
   "execution_count": 21,
   "id": "8a3640ba",
   "metadata": {},
   "outputs": [
    {
     "data": {
      "text/plain": [
       "False"
      ]
     },
     "execution_count": 21,
     "metadata": {},
     "output_type": "execute_result"
    }
   ],
   "source": [
    "word1.isupper()"
   ]
  },
  {
   "cell_type": "code",
   "execution_count": 22,
   "id": "5b3ecafc",
   "metadata": {},
   "outputs": [
    {
     "data": {
      "text/plain": [
       "False"
      ]
     },
     "execution_count": 22,
     "metadata": {},
     "output_type": "execute_result"
    }
   ],
   "source": [
    "word7.isupper()"
   ]
  },
  {
   "cell_type": "code",
   "execution_count": 23,
   "id": "eddc1d22",
   "metadata": {},
   "outputs": [],
   "source": [
    "word8='neha'"
   ]
  },
  {
   "cell_type": "code",
   "execution_count": 24,
   "id": "7ca82cb4",
   "metadata": {},
   "outputs": [
    {
     "data": {
      "text/plain": [
       "True"
      ]
     },
     "execution_count": 24,
     "metadata": {},
     "output_type": "execute_result"
    }
   ],
   "source": [
    "word8.isalpha()"
   ]
  },
  {
   "cell_type": "code",
   "execution_count": 25,
   "id": "a91bb1a6",
   "metadata": {},
   "outputs": [],
   "source": [
    "word9='neha1234'"
   ]
  },
  {
   "cell_type": "code",
   "execution_count": 26,
   "id": "c56d4596",
   "metadata": {},
   "outputs": [
    {
     "data": {
      "text/plain": [
       "True"
      ]
     },
     "execution_count": 26,
     "metadata": {},
     "output_type": "execute_result"
    }
   ],
   "source": [
    "word9.isalnum()"
   ]
  },
  {
   "cell_type": "code",
   "execution_count": 27,
   "id": "d7ed2df0",
   "metadata": {},
   "outputs": [],
   "source": [
    "word10='12345'"
   ]
  },
  {
   "cell_type": "code",
   "execution_count": 28,
   "id": "d599236c",
   "metadata": {},
   "outputs": [
    {
     "data": {
      "text/plain": [
       "True"
      ]
     },
     "execution_count": 28,
     "metadata": {},
     "output_type": "execute_result"
    }
   ],
   "source": [
    "word10.isdigit()"
   ]
  },
  {
   "cell_type": "code",
   "execution_count": 29,
   "id": "7533847e",
   "metadata": {},
   "outputs": [
    {
     "data": {
      "text/plain": [
       "True"
      ]
     },
     "execution_count": 29,
     "metadata": {},
     "output_type": "execute_result"
    }
   ],
   "source": [
    "word10.startswith('1')"
   ]
  },
  {
   "cell_type": "code",
   "execution_count": 30,
   "id": "7fa786d1",
   "metadata": {},
   "outputs": [
    {
     "data": {
      "text/plain": [
       "True"
      ]
     },
     "execution_count": 30,
     "metadata": {},
     "output_type": "execute_result"
    }
   ],
   "source": [
    "word10.endswith('5')"
   ]
  },
  {
   "cell_type": "code",
   "execution_count": 31,
   "id": "69566e8d",
   "metadata": {},
   "outputs": [
    {
     "data": {
      "text/plain": [
       "False"
      ]
     },
     "execution_count": 31,
     "metadata": {},
     "output_type": "execute_result"
    }
   ],
   "source": [
    "word10.endswith('6')"
   ]
  },
  {
   "cell_type": "code",
   "execution_count": 32,
   "id": "1f71182c",
   "metadata": {},
   "outputs": [],
   "source": [
    "word11='seeta is my best friend'"
   ]
  },
  {
   "cell_type": "code",
   "execution_count": 33,
   "id": "d3836169",
   "metadata": {},
   "outputs": [
    {
     "data": {
      "text/plain": [
       "'seeta is my best friend'"
      ]
     },
     "execution_count": 33,
     "metadata": {},
     "output_type": "execute_result"
    }
   ],
   "source": [
    "word11"
   ]
  },
  {
   "cell_type": "code",
   "execution_count": 34,
   "id": "183b38bc",
   "metadata": {},
   "outputs": [
    {
     "data": {
      "text/plain": [
       "9"
      ]
     },
     "execution_count": 34,
     "metadata": {},
     "output_type": "execute_result"
    }
   ],
   "source": [
    "word11.find('my')"
   ]
  },
  {
   "cell_type": "code",
   "execution_count": 35,
   "id": "b9cf53a2",
   "metadata": {},
   "outputs": [
    {
     "data": {
      "text/plain": [
       "1"
      ]
     },
     "execution_count": 35,
     "metadata": {},
     "output_type": "execute_result"
    }
   ],
   "source": [
    "word11.count('a')"
   ]
  },
  {
   "cell_type": "code",
   "execution_count": 36,
   "id": "9d799f72",
   "metadata": {},
   "outputs": [
    {
     "data": {
      "text/plain": [
       "3"
      ]
     },
     "execution_count": 36,
     "metadata": {},
     "output_type": "execute_result"
    }
   ],
   "source": [
    "word11.count('s')"
   ]
  },
  {
   "cell_type": "code",
   "execution_count": 37,
   "id": "c0ca7d40",
   "metadata": {},
   "outputs": [
    {
     "data": {
      "text/plain": [
       "6"
      ]
     },
     "execution_count": 37,
     "metadata": {},
     "output_type": "execute_result"
    }
   ],
   "source": [
    "word11.find('is')"
   ]
  },
  {
   "cell_type": "code",
   "execution_count": 38,
   "id": "16d822ff",
   "metadata": {},
   "outputs": [],
   "source": [
    "massage='python is a popular programming language'"
   ]
  },
  {
   "cell_type": "code",
   "execution_count": 39,
   "id": "706bec50",
   "metadata": {},
   "outputs": [
    {
     "data": {
      "text/plain": [
       "4"
      ]
     },
     "execution_count": 39,
     "metadata": {},
     "output_type": "execute_result"
    }
   ],
   "source": [
    "massage.count('p')"
   ]
  },
  {
   "cell_type": "code",
   "execution_count": 40,
   "id": "1c1f29e1",
   "metadata": {},
   "outputs": [
    {
     "data": {
      "text/plain": [
       "4"
      ]
     },
     "execution_count": 40,
     "metadata": {},
     "output_type": "execute_result"
    }
   ],
   "source": [
    "massage.count('g')"
   ]
  },
  {
   "cell_type": "code",
   "execution_count": 41,
   "id": "853abc9e",
   "metadata": {},
   "outputs": [],
   "source": [
    "massage='my sister name is neha'"
   ]
  },
  {
   "cell_type": "code",
   "execution_count": 42,
   "id": "a7ea8843",
   "metadata": {},
   "outputs": [],
   "source": [
    "q=massage.replace('neha','meena')"
   ]
  },
  {
   "cell_type": "code",
   "execution_count": 43,
   "id": "52e44c5b",
   "metadata": {},
   "outputs": [
    {
     "data": {
      "text/plain": [
       "'my sister name is meena'"
      ]
     },
     "execution_count": 43,
     "metadata": {},
     "output_type": "execute_result"
    }
   ],
   "source": [
    "q"
   ]
  },
  {
   "cell_type": "code",
   "execution_count": 44,
   "id": "97a47c6c",
   "metadata": {},
   "outputs": [
    {
     "data": {
      "text/plain": [
       "'my sister name is neha'"
      ]
     },
     "execution_count": 44,
     "metadata": {},
     "output_type": "execute_result"
    }
   ],
   "source": [
    "massage"
   ]
  },
  {
   "cell_type": "code",
   "execution_count": 45,
   "id": "0d39df4b",
   "metadata": {},
   "outputs": [],
   "source": [
    "massage1='i love you'"
   ]
  },
  {
   "cell_type": "code",
   "execution_count": 46,
   "id": "a0ad154a",
   "metadata": {},
   "outputs": [
    {
     "data": {
      "text/plain": [
       "'i hate you'"
      ]
     },
     "execution_count": 46,
     "metadata": {},
     "output_type": "execute_result"
    }
   ],
   "source": [
    "massage1.replace('love','hate')"
   ]
  },
  {
   "cell_type": "code",
   "execution_count": 47,
   "id": "72a2c6d7",
   "metadata": {},
   "outputs": [
    {
     "data": {
      "text/plain": [
       "2"
      ]
     },
     "execution_count": 47,
     "metadata": {},
     "output_type": "execute_result"
    }
   ],
   "source": [
    "massage1.find('love')"
   ]
  },
  {
   "cell_type": "code",
   "execution_count": 48,
   "id": "62d26995",
   "metadata": {},
   "outputs": [
    {
     "data": {
      "text/plain": [
       "7"
      ]
     },
     "execution_count": 48,
     "metadata": {},
     "output_type": "execute_result"
    }
   ],
   "source": [
    "massage1.find('you')"
   ]
  },
  {
   "cell_type": "code",
   "execution_count": 49,
   "id": "a8ad5388",
   "metadata": {},
   "outputs": [],
   "source": [
    "text=['my','name','is','neha']"
   ]
  },
  {
   "cell_type": "code",
   "execution_count": 50,
   "id": "56707242",
   "metadata": {},
   "outputs": [
    {
     "data": {
      "text/plain": [
       "['my', 'name', 'is', 'neha']"
      ]
     },
     "execution_count": 50,
     "metadata": {},
     "output_type": "execute_result"
    }
   ],
   "source": [
    "text"
   ]
  },
  {
   "cell_type": "markdown",
   "id": "a3ef40fd",
   "metadata": {},
   "source": [
    "# C - style string"
   ]
  },
  {
   "cell_type": "code",
   "execution_count": 51,
   "id": "8ab39cec",
   "metadata": {},
   "outputs": [
    {
     "data": {
      "text/plain": [
       "'my name is neha'"
      ]
     },
     "execution_count": 51,
     "metadata": {},
     "output_type": "execute_result"
    }
   ],
   "source": [
    "#join elements with space \n",
    "\n",
    "' '.join(text)"
   ]
  },
  {
   "cell_type": "code",
   "execution_count": 52,
   "id": "b8df4f45",
   "metadata": {},
   "outputs": [
    {
     "data": {
      "text/plain": [
       "'mynameisneha'"
      ]
     },
     "execution_count": 52,
     "metadata": {},
     "output_type": "execute_result"
    }
   ],
   "source": [
    "#join elements without space\n",
    "''.join(text)"
   ]
  },
  {
   "cell_type": "code",
   "execution_count": 53,
   "id": "c251cd92",
   "metadata": {},
   "outputs": [],
   "source": [
    "text1=['i','love','you']"
   ]
  },
  {
   "cell_type": "code",
   "execution_count": 54,
   "id": "60462b7f",
   "metadata": {},
   "outputs": [
    {
     "data": {
      "text/plain": [
       "['i', 'love', 'you']"
      ]
     },
     "execution_count": 54,
     "metadata": {},
     "output_type": "execute_result"
    }
   ],
   "source": [
    "text1"
   ]
  },
  {
   "cell_type": "code",
   "execution_count": 55,
   "id": "8290211a",
   "metadata": {},
   "outputs": [
    {
     "data": {
      "text/plain": [
       "'i love you'"
      ]
     },
     "execution_count": 55,
     "metadata": {},
     "output_type": "execute_result"
    }
   ],
   "source": [
    "' '.join(text1)"
   ]
  },
  {
   "cell_type": "code",
   "execution_count": 56,
   "id": "d8d4a7a6",
   "metadata": {},
   "outputs": [
    {
     "data": {
      "text/plain": [
       "'iloveyou'"
      ]
     },
     "execution_count": 56,
     "metadata": {},
     "output_type": "execute_result"
    }
   ],
   "source": [
    "''.join(text1)"
   ]
  },
  {
   "cell_type": "code",
   "execution_count": 57,
   "id": "8d43f961",
   "metadata": {},
   "outputs": [],
   "source": [
    "text2 = ['my','village','name','is','fatehpur']"
   ]
  },
  {
   "cell_type": "code",
   "execution_count": 59,
   "id": "28ca93e7",
   "metadata": {},
   "outputs": [
    {
     "data": {
      "text/plain": [
       "['my', 'village', 'name', 'is', 'fatehpur']"
      ]
     },
     "execution_count": 59,
     "metadata": {},
     "output_type": "execute_result"
    }
   ],
   "source": [
    "text2"
   ]
  },
  {
   "cell_type": "code",
   "execution_count": 60,
   "id": "dc796885",
   "metadata": {},
   "outputs": [
    {
     "data": {
      "text/plain": [
       "'myvillagenameisfatehpur'"
      ]
     },
     "execution_count": 60,
     "metadata": {},
     "output_type": "execute_result"
    }
   ],
   "source": [
    "''.join(text2)"
   ]
  },
  {
   "cell_type": "code",
   "execution_count": 61,
   "id": "626cafd3",
   "metadata": {},
   "outputs": [
    {
     "data": {
      "text/plain": [
       "'my village name is fatehpur'"
      ]
     },
     "execution_count": 61,
     "metadata": {},
     "output_type": "execute_result"
    }
   ],
   "source": [
    "' '.join(text2)"
   ]
  },
  {
   "cell_type": "code",
   "execution_count": 62,
   "id": "d9b58c23",
   "metadata": {},
   "outputs": [
    {
     "name": "stdout",
     "output_type": "stream",
     "text": [
      "match\n"
     ]
    }
   ],
   "source": [
    "#casefold ignores the matching of the word by lowercase or uppercase\n",
    "\n",
    "string1='Neha'\n",
    "string2='neha'\n",
    "if string1.casefold()==string2.casefold():\n",
    "    print('match')\n",
    "    \n",
    "else:\n",
    "    print('not match')"
   ]
  },
  {
   "cell_type": "code",
   "execution_count": 63,
   "id": "e9ff19fd",
   "metadata": {},
   "outputs": [
    {
     "name": "stdout",
     "output_type": "stream",
     "text": [
      "match\n"
     ]
    }
   ],
   "source": [
    "str1='Sona'\n",
    "str2='sona'\n",
    "\n",
    "if str1.casefold()==str2.casefold():\n",
    "    print('match')\n",
    "else:\n",
    "    print('not match')"
   ]
  },
  {
   "cell_type": "code",
   "execution_count": 65,
   "id": "09b060c5",
   "metadata": {},
   "outputs": [
    {
     "name": "stdout",
     "output_type": "stream",
     "text": [
      "both are matching\n"
     ]
    }
   ],
   "source": [
    "name1='Venktesh'\n",
    "name2='VENKTESH'\n",
    "\n",
    "if name1.casefold()==name2.casefold():\n",
    "    print('both are matching')\n",
    "    \n",
    "else:\n",
    "    print('both are not matching')"
   ]
  },
  {
   "cell_type": "code",
   "execution_count": 66,
   "id": "9aa3dcf3",
   "metadata": {},
   "outputs": [
    {
     "name": "stdout",
     "output_type": "stream",
     "text": [
      "Hello john!\n"
     ]
    }
   ],
   "source": [
    "# this print out is hello john!\n",
    "name='john'\n",
    "print('Hello %s!'% name)"
   ]
  },
  {
   "cell_type": "code",
   "execution_count": 70,
   "id": "30e242ad",
   "metadata": {},
   "outputs": [
    {
     "name": "stdout",
     "output_type": "stream",
     "text": [
      "Hello Venktesh ! How are you?\n"
     ]
    }
   ],
   "source": [
    "name='Venktesh'\n",
    "\n",
    "print('Hello %s !'%name,'How are you?')"
   ]
  },
  {
   "cell_type": "code",
   "execution_count": 71,
   "id": "4226b10b",
   "metadata": {},
   "outputs": [
    {
     "name": "stdout",
     "output_type": "stream",
     "text": [
      "Hello Venktesh !\n"
     ]
    }
   ],
   "source": [
    "print('Hello',name,'!')"
   ]
  },
  {
   "cell_type": "code",
   "execution_count": 72,
   "id": "5b85aac7",
   "metadata": {},
   "outputs": [
    {
     "name": "stdout",
     "output_type": "stream",
     "text": [
      "Hello neha!\n"
     ]
    }
   ],
   "source": [
    "Name='neha'\n",
    "\n",
    "print('Hello %s!'% Name)"
   ]
  },
  {
   "cell_type": "code",
   "execution_count": 73,
   "id": "c30f503c",
   "metadata": {},
   "outputs": [
    {
     "name": "stdout",
     "output_type": "stream",
     "text": [
      "Hello neha !\n"
     ]
    }
   ],
   "source": [
    "print('Hello',Name,'!')"
   ]
  },
  {
   "cell_type": "code",
   "execution_count": 74,
   "id": "17168388",
   "metadata": {},
   "outputs": [
    {
     "name": "stdout",
     "output_type": "stream",
     "text": [
      "john is 23 years old 12000.500000 talking\n",
      "salary =12000.50 \n"
     ]
    }
   ],
   "source": [
    "# this print out is john is 23 years old.\n",
    "\n",
    "name='john'\n",
    "age=23\n",
    "salary=12000.50\n",
    "\n",
    "print(\"%s is %d years old %f talking\" % (name,age,salary))\n",
    "\n",
    "print('salary =%0.2f '%(salary))"
   ]
  },
  {
   "cell_type": "code",
   "execution_count": 81,
   "id": "8513af06",
   "metadata": {},
   "outputs": [
    {
     "name": "stdout",
     "output_type": "stream",
     "text": [
      "jacky is 25 years old and he is taking 50000.600000\n",
      "jacky\n",
      "25\n",
      "50000.600000\n"
     ]
    }
   ],
   "source": [
    "name='jacky'\n",
    "age=25\n",
    "salary = 50000.60\n",
    "\n",
    "print('%s is %d years old and he is taking %f'%(name,age,salary))\n",
    "\n",
    "print('%s'%name)\n",
    "print('%d'%age)\n",
    "print('%f'%salary)"
   ]
  },
  {
   "cell_type": "code",
   "execution_count": 82,
   "id": "e336bb52",
   "metadata": {},
   "outputs": [
    {
     "name": "stdout",
     "output_type": "stream",
     "text": [
      "neha is 25 years old and neha getting 1000\n",
      "salary =1000.00\n"
     ]
    }
   ],
   "source": [
    "name='neha'\n",
    "age=25\n",
    "salary=1000\n",
    "\n",
    "print('%s is %d years old and neha getting %d'%(name,age,salary))\n",
    "\n",
    "print('salary =%.2f'%(salary))"
   ]
  },
  {
   "cell_type": "code",
   "execution_count": 84,
   "id": "4645f4e1",
   "metadata": {},
   "outputs": [
    {
     "name": "stdout",
     "output_type": "stream",
     "text": [
      "i like to eat apple,mango and banana\n"
     ]
    }
   ],
   "source": [
    "fruit1='apple'\n",
    "fruit2='mango'\n",
    "fruit3='banana'\n",
    "\n",
    "print('i like to eat %s,%s and %s' % (fruit1,fruit2,fruit3))"
   ]
  },
  {
   "cell_type": "code",
   "execution_count": 86,
   "id": "a7473ef3",
   "metadata": {},
   "outputs": [
    {
     "name": "stdout",
     "output_type": "stream",
     "text": [
      "i like to eat indian dises like Masala Bhindi,Chana Kulcha and Shahi Egg Curry\n",
      "Masala Bhindi\n",
      "Chana Kulcha\n",
      "Shahi Egg Curry\n"
     ]
    }
   ],
   "source": [
    "indian_dishes1='Masala Bhindi'\n",
    "indian_dishes2='Chana Kulcha'\n",
    "indian_dishes3='Shahi Egg Curry'\n",
    "print('i like to eat indian dises like %s,%s and %s'%(indian_dishes1,indian_dishes2,indian_dishes3))\n",
    "print('%s'%indian_dishes1)\n",
    "print('%s'%indian_dishes2)\n",
    "print('%s'%indian_dishes3)\n",
    "\n",
    "\n"
   ]
  }
 ],
 "metadata": {
  "kernelspec": {
   "display_name": "Python 3 (ipykernel)",
   "language": "python",
   "name": "python3"
  },
  "language_info": {
   "codemirror_mode": {
    "name": "ipython",
    "version": 3
   },
   "file_extension": ".py",
   "mimetype": "text/x-python",
   "name": "python",
   "nbconvert_exporter": "python",
   "pygments_lexer": "ipython3",
   "version": "3.9.7"
  }
 },
 "nbformat": 4,
 "nbformat_minor": 5
}
