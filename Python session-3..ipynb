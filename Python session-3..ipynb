{
 "cells": [
  {
   "cell_type": "markdown",
   "id": "f31ddbea",
   "metadata": {},
   "source": [
    "# Data structure"
   ]
  },
  {
   "cell_type": "markdown",
   "id": "79bbd9f3",
   "metadata": {},
   "source": [
    "List: it is used to store collections of data\n",
    "     \n",
    "      list are mutable,internal we can change the list value"
   ]
  },
  {
   "cell_type": "markdown",
   "id": "dd0348a4",
   "metadata": {},
   "source": [
    "Append - append means add the data end of the list"
   ]
  },
  {
   "cell_type": "code",
   "execution_count": 35,
   "id": "d72e2559",
   "metadata": {},
   "outputs": [],
   "source": [
    "list1=[11,12,13,14,15]"
   ]
  },
  {
   "cell_type": "code",
   "execution_count": 2,
   "id": "1fb82540",
   "metadata": {},
   "outputs": [],
   "source": [
    "list1.append(16)"
   ]
  },
  {
   "cell_type": "code",
   "execution_count": 3,
   "id": "1b068343",
   "metadata": {},
   "outputs": [
    {
     "data": {
      "text/plain": [
       "[11, 12, 13, 14, 15, 16]"
      ]
     },
     "execution_count": 3,
     "metadata": {},
     "output_type": "execute_result"
    }
   ],
   "source": [
    "list1"
   ]
  },
  {
   "cell_type": "code",
   "execution_count": 4,
   "id": "6d5b6438",
   "metadata": {},
   "outputs": [],
   "source": [
    "list1.append(17)"
   ]
  },
  {
   "cell_type": "code",
   "execution_count": 5,
   "id": "07e39f15",
   "metadata": {},
   "outputs": [
    {
     "data": {
      "text/plain": [
       "[11, 12, 13, 14, 15, 16, 17]"
      ]
     },
     "execution_count": 5,
     "metadata": {},
     "output_type": "execute_result"
    }
   ],
   "source": [
    "list1"
   ]
  },
  {
   "cell_type": "code",
   "execution_count": 6,
   "id": "ac162b88",
   "metadata": {},
   "outputs": [],
   "source": [
    "listfruits=[\"grapes\",\"banana\",\"apple\",\"papaya\"]"
   ]
  },
  {
   "cell_type": "code",
   "execution_count": 7,
   "id": "591ab02c",
   "metadata": {},
   "outputs": [],
   "source": [
    "listfruits.append('cherry')"
   ]
  },
  {
   "cell_type": "code",
   "execution_count": 8,
   "id": "5d8e02f2",
   "metadata": {},
   "outputs": [],
   "source": [
    "listfruits.append('pear')"
   ]
  },
  {
   "cell_type": "code",
   "execution_count": 9,
   "id": "075e4b03",
   "metadata": {},
   "outputs": [
    {
     "data": {
      "text/plain": [
       "['grapes', 'banana', 'apple', 'papaya', 'cherry', 'pear']"
      ]
     },
     "execution_count": 9,
     "metadata": {},
     "output_type": "execute_result"
    }
   ],
   "source": [
    "listfruits"
   ]
  },
  {
   "cell_type": "code",
   "execution_count": 10,
   "id": "64b3dd74",
   "metadata": {},
   "outputs": [],
   "source": [
    "listfruits.append('kiwi')"
   ]
  },
  {
   "cell_type": "code",
   "execution_count": 11,
   "id": "95bf4e87",
   "metadata": {},
   "outputs": [
    {
     "data": {
      "text/plain": [
       "['grapes', 'banana', 'apple', 'papaya', 'cherry', 'pear', 'kiwi']"
      ]
     },
     "execution_count": 11,
     "metadata": {},
     "output_type": "execute_result"
    }
   ],
   "source": [
    "listfruits"
   ]
  },
  {
   "cell_type": "code",
   "execution_count": 12,
   "id": "08200120",
   "metadata": {},
   "outputs": [
    {
     "data": {
      "text/plain": [
       "7"
      ]
     },
     "execution_count": 12,
     "metadata": {},
     "output_type": "execute_result"
    }
   ],
   "source": [
    "len(listfruits)"
   ]
  },
  {
   "cell_type": "code",
   "execution_count": 13,
   "id": "6ec0e729",
   "metadata": {},
   "outputs": [
    {
     "data": {
      "text/plain": [
       "'grapes'"
      ]
     },
     "execution_count": 13,
     "metadata": {},
     "output_type": "execute_result"
    }
   ],
   "source": [
    "listfruits[0]"
   ]
  },
  {
   "cell_type": "code",
   "execution_count": 14,
   "id": "7a89ec2c",
   "metadata": {},
   "outputs": [
    {
     "data": {
      "text/plain": [
       "'banana'"
      ]
     },
     "execution_count": 14,
     "metadata": {},
     "output_type": "execute_result"
    }
   ],
   "source": [
    "listfruits[1]"
   ]
  },
  {
   "cell_type": "code",
   "execution_count": 15,
   "id": "51d926e9",
   "metadata": {},
   "outputs": [
    {
     "data": {
      "text/plain": [
       "'apple'"
      ]
     },
     "execution_count": 15,
     "metadata": {},
     "output_type": "execute_result"
    }
   ],
   "source": [
    "listfruits[2]"
   ]
  },
  {
   "cell_type": "code",
   "execution_count": 16,
   "id": "e613dadd",
   "metadata": {},
   "outputs": [
    {
     "data": {
      "text/plain": [
       "'papaya'"
      ]
     },
     "execution_count": 16,
     "metadata": {},
     "output_type": "execute_result"
    }
   ],
   "source": [
    "listfruits[3]"
   ]
  },
  {
   "cell_type": "code",
   "execution_count": 17,
   "id": "be8b25cd",
   "metadata": {},
   "outputs": [
    {
     "data": {
      "text/plain": [
       "['grapes', 'banana']"
      ]
     },
     "execution_count": 17,
     "metadata": {},
     "output_type": "execute_result"
    }
   ],
   "source": [
    "listfruits[0:2]"
   ]
  },
  {
   "cell_type": "code",
   "execution_count": 18,
   "id": "79d0f6d5",
   "metadata": {},
   "outputs": [
    {
     "data": {
      "text/plain": [
       "['grapes', 'banana', 'apple', 'papaya']"
      ]
     },
     "execution_count": 18,
     "metadata": {},
     "output_type": "execute_result"
    }
   ],
   "source": [
    "listfruits[0:4]"
   ]
  },
  {
   "cell_type": "code",
   "execution_count": 19,
   "id": "d16239a0",
   "metadata": {},
   "outputs": [
    {
     "data": {
      "text/plain": [
       "'kiwi'"
      ]
     },
     "execution_count": 19,
     "metadata": {},
     "output_type": "execute_result"
    }
   ],
   "source": [
    "listfruits[6]"
   ]
  },
  {
   "cell_type": "code",
   "execution_count": 21,
   "id": "e5850d2a",
   "metadata": {},
   "outputs": [
    {
     "data": {
      "text/plain": [
       "'pear'"
      ]
     },
     "execution_count": 21,
     "metadata": {},
     "output_type": "execute_result"
    }
   ],
   "source": [
    "listfruits[5]"
   ]
  },
  {
   "cell_type": "code",
   "execution_count": 22,
   "id": "b80db983",
   "metadata": {},
   "outputs": [
    {
     "data": {
      "text/plain": [
       "'kiwi'"
      ]
     },
     "execution_count": 22,
     "metadata": {},
     "output_type": "execute_result"
    }
   ],
   "source": [
    "listfruits[-1]"
   ]
  },
  {
   "cell_type": "markdown",
   "id": "62dee5d0",
   "metadata": {},
   "source": [
    "insert:\n",
    "\n",
    "The insert() method inserts the specified value at the specified position. "
   ]
  },
  {
   "cell_type": "code",
   "execution_count": 36,
   "id": "6bd7890b",
   "metadata": {},
   "outputs": [],
   "source": [
    "listfruits.insert(1,\"watermelon\")"
   ]
  },
  {
   "cell_type": "code",
   "execution_count": 37,
   "id": "170f71c1",
   "metadata": {},
   "outputs": [
    {
     "data": {
      "text/plain": [
       "['grapes',\n",
       " 'watermelon',\n",
       " 'watermelon',\n",
       " 'mango',\n",
       " 'blackberry',\n",
       " 'banana',\n",
       " 'apple',\n",
       " 'papaya',\n",
       " 'cherry',\n",
       " 'pear',\n",
       " 'kiwi']"
      ]
     },
     "execution_count": 37,
     "metadata": {},
     "output_type": "execute_result"
    }
   ],
   "source": [
    "listfruits"
   ]
  },
  {
   "cell_type": "code",
   "execution_count": 38,
   "id": "bae2a825",
   "metadata": {},
   "outputs": [],
   "source": [
    "listfruits.insert(2,'mango')"
   ]
  },
  {
   "cell_type": "code",
   "execution_count": 39,
   "id": "51ddff6b",
   "metadata": {},
   "outputs": [],
   "source": [
    "listfruits.insert(3,'blackberry')"
   ]
  },
  {
   "cell_type": "code",
   "execution_count": 40,
   "id": "0d009718",
   "metadata": {},
   "outputs": [
    {
     "data": {
      "text/plain": [
       "['grapes',\n",
       " 'watermelon',\n",
       " 'mango',\n",
       " 'blackberry',\n",
       " 'watermelon',\n",
       " 'mango',\n",
       " 'blackberry',\n",
       " 'banana',\n",
       " 'apple',\n",
       " 'papaya',\n",
       " 'cherry',\n",
       " 'pear',\n",
       " 'kiwi']"
      ]
     },
     "execution_count": 40,
     "metadata": {},
     "output_type": "execute_result"
    }
   ],
   "source": [
    "listfruits"
   ]
  },
  {
   "cell_type": "code",
   "execution_count": 41,
   "id": "511cb06e",
   "metadata": {},
   "outputs": [],
   "source": [
    "list1.insert(2,20)"
   ]
  },
  {
   "cell_type": "code",
   "execution_count": 42,
   "id": "8af2f4ca",
   "metadata": {},
   "outputs": [
    {
     "data": {
      "text/plain": [
       "[11, 12, 20, 13, 14, 15]"
      ]
     },
     "execution_count": 42,
     "metadata": {},
     "output_type": "execute_result"
    }
   ],
   "source": [
    "list1"
   ]
  },
  {
   "cell_type": "code",
   "execution_count": 43,
   "id": "c367e4d3",
   "metadata": {},
   "outputs": [],
   "source": [
    "list1.insert(3,200)"
   ]
  },
  {
   "cell_type": "code",
   "execution_count": 44,
   "id": "09cd0ca2",
   "metadata": {},
   "outputs": [
    {
     "data": {
      "text/plain": [
       "[11, 12, 20, 200, 13, 14, 15]"
      ]
     },
     "execution_count": 44,
     "metadata": {},
     "output_type": "execute_result"
    }
   ],
   "source": [
    "list1"
   ]
  },
  {
   "cell_type": "markdown",
   "id": "efbb0ae9",
   "metadata": {},
   "source": [
    "sort-ascending"
   ]
  },
  {
   "cell_type": "markdown",
   "id": "67d1363b",
   "metadata": {},
   "source": [
    "reverse-descending order\n",
    "\n",
    "the sort() method sorts the list in the descending order"
   ]
  },
  {
   "cell_type": "code",
   "execution_count": 45,
   "id": "5ae95919",
   "metadata": {},
   "outputs": [],
   "source": [
    "listfruits.sort()"
   ]
  },
  {
   "cell_type": "code",
   "execution_count": 46,
   "id": "bc0186ce",
   "metadata": {},
   "outputs": [
    {
     "data": {
      "text/plain": [
       "['apple',\n",
       " 'banana',\n",
       " 'blackberry',\n",
       " 'blackberry',\n",
       " 'cherry',\n",
       " 'grapes',\n",
       " 'kiwi',\n",
       " 'mango',\n",
       " 'mango',\n",
       " 'papaya',\n",
       " 'pear',\n",
       " 'watermelon',\n",
       " 'watermelon']"
      ]
     },
     "execution_count": 46,
     "metadata": {},
     "output_type": "execute_result"
    }
   ],
   "source": [
    "listfruits"
   ]
  },
  {
   "cell_type": "markdown",
   "id": "db87e42e",
   "metadata": {},
   "source": [
    "reverse:\n",
    "    reverse() is used to reverse the list. "
   ]
  },
  {
   "cell_type": "code",
   "execution_count": 49,
   "id": "e617d03d",
   "metadata": {},
   "outputs": [],
   "source": [
    "listfruits.reverse()"
   ]
  },
  {
   "cell_type": "code",
   "execution_count": 50,
   "id": "522512ca",
   "metadata": {},
   "outputs": [
    {
     "data": {
      "text/plain": [
       "['apple',\n",
       " 'banana',\n",
       " 'blackberry',\n",
       " 'blackberry',\n",
       " 'cherry',\n",
       " 'grapes',\n",
       " 'kiwi',\n",
       " 'mango',\n",
       " 'mango',\n",
       " 'papaya',\n",
       " 'pear',\n",
       " 'watermelon',\n",
       " 'watermelon']"
      ]
     },
     "execution_count": 50,
     "metadata": {},
     "output_type": "execute_result"
    }
   ],
   "source": [
    "listfruits"
   ]
  },
  {
   "cell_type": "code",
   "execution_count": 51,
   "id": "ef7517b1",
   "metadata": {},
   "outputs": [
    {
     "data": {
      "text/plain": [
       "1"
      ]
     },
     "execution_count": 51,
     "metadata": {},
     "output_type": "execute_result"
    }
   ],
   "source": [
    "listfruits.index('banana',)"
   ]
  },
  {
   "cell_type": "code",
   "execution_count": 52,
   "id": "c809c6f6",
   "metadata": {},
   "outputs": [
    {
     "data": {
      "text/plain": [
       "5"
      ]
     },
     "execution_count": 52,
     "metadata": {},
     "output_type": "execute_result"
    }
   ],
   "source": [
    "listfruits.index('grapes',)"
   ]
  },
  {
   "cell_type": "code",
   "execution_count": 53,
   "id": "edc75d4d",
   "metadata": {},
   "outputs": [
    {
     "data": {
      "text/plain": [
       "10"
      ]
     },
     "execution_count": 53,
     "metadata": {},
     "output_type": "execute_result"
    }
   ],
   "source": [
    "listfruits.index('pear')"
   ]
  },
  {
   "cell_type": "code",
   "execution_count": 55,
   "id": "892fd510",
   "metadata": {},
   "outputs": [],
   "source": [
    "numlist = [1,2,3,4,5]"
   ]
  },
  {
   "cell_type": "code",
   "execution_count": 56,
   "id": "d60bd915",
   "metadata": {},
   "outputs": [],
   "source": [
    "numlist.reverse()"
   ]
  },
  {
   "cell_type": "code",
   "execution_count": 57,
   "id": "33097a2d",
   "metadata": {},
   "outputs": [
    {
     "data": {
      "text/plain": [
       "[5, 4, 3, 2, 1]"
      ]
     },
     "execution_count": 57,
     "metadata": {},
     "output_type": "execute_result"
    }
   ],
   "source": [
    "numlist"
   ]
  },
  {
   "cell_type": "code",
   "execution_count": 58,
   "id": "4305fefb",
   "metadata": {},
   "outputs": [],
   "source": [
    "numlist.sort()"
   ]
  },
  {
   "cell_type": "code",
   "execution_count": 59,
   "id": "ec4d8887",
   "metadata": {},
   "outputs": [
    {
     "data": {
      "text/plain": [
       "[1, 2, 3, 4, 5]"
      ]
     },
     "execution_count": 59,
     "metadata": {},
     "output_type": "execute_result"
    }
   ],
   "source": [
    "numlist"
   ]
  },
  {
   "cell_type": "markdown",
   "id": "33076d93",
   "metadata": {},
   "source": [
    "Extend-if you want to add 1 or more data "
   ]
  },
  {
   "cell_type": "code",
   "execution_count": 63,
   "id": "20d5652a",
   "metadata": {},
   "outputs": [],
   "source": [
    "listfruits.extend(newlist)"
   ]
  },
  {
   "cell_type": "code",
   "execution_count": 64,
   "id": "2c9d9471",
   "metadata": {},
   "outputs": [
    {
     "data": {
      "text/plain": [
       "['lemon', 'pear']"
      ]
     },
     "execution_count": 64,
     "metadata": {},
     "output_type": "execute_result"
    }
   ],
   "source": [
    "newlist"
   ]
  },
  {
   "cell_type": "code",
   "execution_count": 65,
   "id": "577cb84d",
   "metadata": {},
   "outputs": [
    {
     "data": {
      "text/plain": [
       "['apple',\n",
       " 'banana',\n",
       " 'blackberry',\n",
       " 'blackberry',\n",
       " 'cherry',\n",
       " 'grapes',\n",
       " 'kiwi',\n",
       " 'mango',\n",
       " 'mango',\n",
       " 'papaya',\n",
       " 'pear',\n",
       " 'watermelon',\n",
       " 'watermelon',\n",
       " 'lemon',\n",
       " 'pear',\n",
       " 'lemon',\n",
       " 'pear']"
      ]
     },
     "execution_count": 65,
     "metadata": {},
     "output_type": "execute_result"
    }
   ],
   "source": [
    "listfruits"
   ]
  },
  {
   "cell_type": "code",
   "execution_count": 66,
   "id": "f21358e1",
   "metadata": {},
   "outputs": [],
   "source": [
    "listfruits.extend(['juice','khrubja'])"
   ]
  },
  {
   "cell_type": "code",
   "execution_count": 67,
   "id": "dd366ec2",
   "metadata": {},
   "outputs": [
    {
     "data": {
      "text/plain": [
       "['apple',\n",
       " 'banana',\n",
       " 'blackberry',\n",
       " 'blackberry',\n",
       " 'cherry',\n",
       " 'grapes',\n",
       " 'kiwi',\n",
       " 'mango',\n",
       " 'mango',\n",
       " 'papaya',\n",
       " 'pear',\n",
       " 'watermelon',\n",
       " 'watermelon',\n",
       " 'lemon',\n",
       " 'pear',\n",
       " 'lemon',\n",
       " 'pear',\n",
       " 'juice',\n",
       " 'khrubja']"
      ]
     },
     "execution_count": 67,
     "metadata": {},
     "output_type": "execute_result"
    }
   ],
   "source": [
    "listfruits"
   ]
  },
  {
   "cell_type": "code",
   "execution_count": 68,
   "id": "bbb8c2eb",
   "metadata": {},
   "outputs": [],
   "source": [
    "listfruits.extend(['book'])"
   ]
  },
  {
   "cell_type": "code",
   "execution_count": 69,
   "id": "3831a49a",
   "metadata": {},
   "outputs": [
    {
     "data": {
      "text/plain": [
       "['apple',\n",
       " 'banana',\n",
       " 'blackberry',\n",
       " 'blackberry',\n",
       " 'cherry',\n",
       " 'grapes',\n",
       " 'kiwi',\n",
       " 'mango',\n",
       " 'mango',\n",
       " 'papaya',\n",
       " 'pear',\n",
       " 'watermelon',\n",
       " 'watermelon',\n",
       " 'lemon',\n",
       " 'pear',\n",
       " 'lemon',\n",
       " 'pear',\n",
       " 'juice',\n",
       " 'khrubja',\n",
       " 'book']"
      ]
     },
     "execution_count": 69,
     "metadata": {},
     "output_type": "execute_result"
    }
   ],
   "source": [
    "listfruits"
   ]
  },
  {
   "cell_type": "code",
   "execution_count": 70,
   "id": "28dd5fa6",
   "metadata": {},
   "outputs": [
    {
     "data": {
      "text/plain": [
       "20"
      ]
     },
     "execution_count": 70,
     "metadata": {},
     "output_type": "execute_result"
    }
   ],
   "source": [
    "len(listfruits)"
   ]
  },
  {
   "cell_type": "code",
   "execution_count": 71,
   "id": "63dbab4c",
   "metadata": {},
   "outputs": [
    {
     "data": {
      "text/plain": [
       "[1, 2, 3, 4, 5]"
      ]
     },
     "execution_count": 71,
     "metadata": {},
     "output_type": "execute_result"
    }
   ],
   "source": [
    "numlist"
   ]
  },
  {
   "cell_type": "code",
   "execution_count": 72,
   "id": "2225f2c8",
   "metadata": {},
   "outputs": [],
   "source": [
    "numlist.extend([6,7])"
   ]
  },
  {
   "cell_type": "code",
   "execution_count": 73,
   "id": "a7bf9be7",
   "metadata": {},
   "outputs": [
    {
     "data": {
      "text/plain": [
       "[1, 2, 3, 4, 5, 6, 7]"
      ]
     },
     "execution_count": 73,
     "metadata": {},
     "output_type": "execute_result"
    }
   ],
   "source": [
    "numlist"
   ]
  },
  {
   "cell_type": "code",
   "execution_count": 74,
   "id": "a13521fd",
   "metadata": {},
   "outputs": [],
   "source": [
    "numlist2=[9,8]"
   ]
  },
  {
   "cell_type": "code",
   "execution_count": 75,
   "id": "caace3ff",
   "metadata": {},
   "outputs": [],
   "source": [
    "numlist.extend(numlist2)"
   ]
  },
  {
   "cell_type": "code",
   "execution_count": 76,
   "id": "8327a2ef",
   "metadata": {},
   "outputs": [
    {
     "data": {
      "text/plain": [
       "[1, 2, 3, 4, 5, 6, 7, 9, 8]"
      ]
     },
     "execution_count": 76,
     "metadata": {},
     "output_type": "execute_result"
    }
   ],
   "source": [
    "numlist"
   ]
  },
  {
   "cell_type": "markdown",
   "id": "9d5d10dd",
   "metadata": {},
   "source": [
    "pop-it is use for remove the last elements from the list, if you want to remove particuler data so you should mention the index number, which you want to remove"
   ]
  },
  {
   "cell_type": "code",
   "execution_count": 81,
   "id": "377a9d6d",
   "metadata": {},
   "outputs": [
    {
     "data": {
      "text/plain": [
       "'juice'"
      ]
     },
     "execution_count": 81,
     "metadata": {},
     "output_type": "execute_result"
    }
   ],
   "source": [
    "listfruits.pop()"
   ]
  },
  {
   "cell_type": "code",
   "execution_count": 82,
   "id": "48c2e628",
   "metadata": {},
   "outputs": [
    {
     "data": {
      "text/plain": [
       "['apple',\n",
       " 'banana',\n",
       " 'blackberry',\n",
       " 'blackberry',\n",
       " 'cherry',\n",
       " 'grapes',\n",
       " 'kiwi',\n",
       " 'mango',\n",
       " 'mango',\n",
       " 'papaya',\n",
       " 'pear',\n",
       " 'watermelon',\n",
       " 'watermelon',\n",
       " 'lemon',\n",
       " 'pear',\n",
       " 'lemon',\n",
       " 'pear']"
      ]
     },
     "execution_count": 82,
     "metadata": {},
     "output_type": "execute_result"
    }
   ],
   "source": [
    "listfruits"
   ]
  },
  {
   "cell_type": "code",
   "execution_count": 83,
   "id": "6c0eab7c",
   "metadata": {},
   "outputs": [
    {
     "data": {
      "text/plain": [
       "'pear'"
      ]
     },
     "execution_count": 83,
     "metadata": {},
     "output_type": "execute_result"
    }
   ],
   "source": [
    "listfruits.pop()"
   ]
  },
  {
   "cell_type": "code",
   "execution_count": 84,
   "id": "694b699c",
   "metadata": {},
   "outputs": [
    {
     "data": {
      "text/plain": [
       "['apple',\n",
       " 'banana',\n",
       " 'blackberry',\n",
       " 'blackberry',\n",
       " 'cherry',\n",
       " 'grapes',\n",
       " 'kiwi',\n",
       " 'mango',\n",
       " 'mango',\n",
       " 'papaya',\n",
       " 'pear',\n",
       " 'watermelon',\n",
       " 'watermelon',\n",
       " 'lemon',\n",
       " 'pear',\n",
       " 'lemon']"
      ]
     },
     "execution_count": 84,
     "metadata": {},
     "output_type": "execute_result"
    }
   ],
   "source": [
    "listfruits"
   ]
  },
  {
   "cell_type": "code",
   "execution_count": 85,
   "id": "4954c9a4",
   "metadata": {},
   "outputs": [
    {
     "data": {
      "text/plain": [
       "'blackberry'"
      ]
     },
     "execution_count": 85,
     "metadata": {},
     "output_type": "execute_result"
    }
   ],
   "source": [
    "listfruits.pop(3)"
   ]
  },
  {
   "cell_type": "code",
   "execution_count": 86,
   "id": "e58d9c90",
   "metadata": {},
   "outputs": [
    {
     "data": {
      "text/plain": [
       "['apple',\n",
       " 'banana',\n",
       " 'blackberry',\n",
       " 'cherry',\n",
       " 'grapes',\n",
       " 'kiwi',\n",
       " 'mango',\n",
       " 'mango',\n",
       " 'papaya',\n",
       " 'pear',\n",
       " 'watermelon',\n",
       " 'watermelon',\n",
       " 'lemon',\n",
       " 'pear',\n",
       " 'lemon']"
      ]
     },
     "execution_count": 86,
     "metadata": {},
     "output_type": "execute_result"
    }
   ],
   "source": [
    "listfruits"
   ]
  },
  {
   "cell_type": "code",
   "execution_count": 87,
   "id": "38441f0f",
   "metadata": {},
   "outputs": [
    {
     "data": {
      "text/plain": [
       "15"
      ]
     },
     "execution_count": 87,
     "metadata": {},
     "output_type": "execute_result"
    }
   ],
   "source": [
    "len(listfruits)"
   ]
  },
  {
   "cell_type": "markdown",
   "id": "50e143e1",
   "metadata": {},
   "source": [
    "remove-it is use for remove the data by name"
   ]
  },
  {
   "cell_type": "code",
   "execution_count": 89,
   "id": "93565253",
   "metadata": {},
   "outputs": [],
   "source": [
    "listfruits.remove('lemon')"
   ]
  },
  {
   "cell_type": "code",
   "execution_count": 90,
   "id": "da3c3f97",
   "metadata": {},
   "outputs": [
    {
     "data": {
      "text/plain": [
       "['apple',\n",
       " 'banana',\n",
       " 'blackberry',\n",
       " 'cherry',\n",
       " 'grapes',\n",
       " 'kiwi',\n",
       " 'mango',\n",
       " 'mango',\n",
       " 'papaya',\n",
       " 'pear',\n",
       " 'watermelon',\n",
       " 'watermelon',\n",
       " 'pear',\n",
       " 'lemon']"
      ]
     },
     "execution_count": 90,
     "metadata": {},
     "output_type": "execute_result"
    }
   ],
   "source": [
    "listfruits"
   ]
  },
  {
   "cell_type": "code",
   "execution_count": 91,
   "id": "67471002",
   "metadata": {},
   "outputs": [
    {
     "data": {
      "text/plain": [
       "['apple',\n",
       " 'banana',\n",
       " 'blackberry',\n",
       " 'cherry',\n",
       " 'grapes',\n",
       " 'kiwi',\n",
       " 'mango',\n",
       " 'mango',\n",
       " 'papaya',\n",
       " 'pear',\n",
       " 'watermelon',\n",
       " 'watermelon',\n",
       " 'pear',\n",
       " 'lemon']"
      ]
     },
     "execution_count": 91,
     "metadata": {},
     "output_type": "execute_result"
    }
   ],
   "source": [
    "listfruits"
   ]
  },
  {
   "cell_type": "code",
   "execution_count": 92,
   "id": "abc42081",
   "metadata": {},
   "outputs": [
    {
     "name": "stdout",
     "output_type": "stream",
     "text": [
      "\f",
      "\n"
     ]
    }
   ],
   "source": [
    "clear-it is use for clear the data from the list, but only data will be remove list will be available."
   ]
  },
  {
   "cell_type": "code",
   "execution_count": 93,
   "id": "375c1a2f",
   "metadata": {},
   "outputs": [],
   "source": [
    "listfruits.clear()"
   ]
  },
  {
   "cell_type": "code",
   "execution_count": 94,
   "id": "9f0f4f03",
   "metadata": {},
   "outputs": [
    {
     "data": {
      "text/plain": [
       "[]"
      ]
     },
     "execution_count": 94,
     "metadata": {},
     "output_type": "execute_result"
    }
   ],
   "source": [
    "listfruits"
   ]
  },
  {
   "cell_type": "code",
   "execution_count": 95,
   "id": "defb2f09",
   "metadata": {},
   "outputs": [],
   "source": [
    "listfruits.append('mango')"
   ]
  },
  {
   "cell_type": "code",
   "execution_count": 96,
   "id": "c99e7782",
   "metadata": {},
   "outputs": [
    {
     "data": {
      "text/plain": [
       "['mango']"
      ]
     },
     "execution_count": 96,
     "metadata": {},
     "output_type": "execute_result"
    }
   ],
   "source": [
    "listfruits"
   ]
  },
  {
   "cell_type": "code",
   "execution_count": 97,
   "id": "8478e525",
   "metadata": {},
   "outputs": [],
   "source": [
    "listfruits.append('banana')"
   ]
  },
  {
   "cell_type": "code",
   "execution_count": 98,
   "id": "fa5628c6",
   "metadata": {},
   "outputs": [
    {
     "data": {
      "text/plain": [
       "['mango', 'banana']"
      ]
     },
     "execution_count": 98,
     "metadata": {},
     "output_type": "execute_result"
    }
   ],
   "source": [
    "listfruits"
   ]
  },
  {
   "cell_type": "markdown",
   "id": "7846d854",
   "metadata": {},
   "source": [
    "del-it is use for delete the list,once you will delet the list you can not find the list"
   ]
  },
  {
   "cell_type": "code",
   "execution_count": 99,
   "id": "ea99e280",
   "metadata": {},
   "outputs": [],
   "source": [
    "del listfruits"
   ]
  },
  {
   "cell_type": "code",
   "execution_count": 100,
   "id": "8f1783b8",
   "metadata": {},
   "outputs": [
    {
     "ename": "NameError",
     "evalue": "name 'listfruits' is not defined",
     "output_type": "error",
     "traceback": [
      "\u001b[1;31m---------------------------------------------------------------------------\u001b[0m",
      "\u001b[1;31mNameError\u001b[0m                                 Traceback (most recent call last)",
      "\u001b[1;32m~\\AppData\\Local\\Temp/ipykernel_7068/209282158.py\u001b[0m in \u001b[0;36m<module>\u001b[1;34m\u001b[0m\n\u001b[1;32m----> 1\u001b[1;33m \u001b[0mlistfruits\u001b[0m\u001b[1;33m\u001b[0m\u001b[1;33m\u001b[0m\u001b[0m\n\u001b[0m",
      "\u001b[1;31mNameError\u001b[0m: name 'listfruits' is not defined"
     ]
    }
   ],
   "source": [
    "listfruits"
   ]
  },
  {
   "cell_type": "code",
   "execution_count": 101,
   "id": "f9189922",
   "metadata": {},
   "outputs": [],
   "source": [
    "plantlist=['venus','mercury']"
   ]
  },
  {
   "cell_type": "code",
   "execution_count": 102,
   "id": "0a0815d8",
   "metadata": {},
   "outputs": [
    {
     "data": {
      "text/plain": [
       "['venus', 'mercury']"
      ]
     },
     "execution_count": 102,
     "metadata": {},
     "output_type": "execute_result"
    }
   ],
   "source": [
    "plantlist"
   ]
  },
  {
   "cell_type": "code",
   "execution_count": 103,
   "id": "f67c31c6",
   "metadata": {},
   "outputs": [],
   "source": [
    "plantlist[1]=\"monday\""
   ]
  },
  {
   "cell_type": "code",
   "execution_count": 104,
   "id": "b34e453f",
   "metadata": {},
   "outputs": [
    {
     "data": {
      "text/plain": [
       "['venus', 'monday']"
      ]
     },
     "execution_count": 104,
     "metadata": {},
     "output_type": "execute_result"
    }
   ],
   "source": [
    "plantlist"
   ]
  },
  {
   "cell_type": "code",
   "execution_count": 105,
   "id": "014e6b5a",
   "metadata": {},
   "outputs": [],
   "source": [
    "plantlist.append('apple')"
   ]
  },
  {
   "cell_type": "code",
   "execution_count": 106,
   "id": "8e230134",
   "metadata": {},
   "outputs": [
    {
     "data": {
      "text/plain": [
       "['venus', 'monday', 'apple']"
      ]
     },
     "execution_count": 106,
     "metadata": {},
     "output_type": "execute_result"
    }
   ],
   "source": [
    "plantlist"
   ]
  },
  {
   "cell_type": "code",
   "execution_count": 107,
   "id": "432a6725",
   "metadata": {},
   "outputs": [],
   "source": [
    "plantlist.clear()"
   ]
  },
  {
   "cell_type": "code",
   "execution_count": 108,
   "id": "0679aeb5",
   "metadata": {},
   "outputs": [
    {
     "data": {
      "text/plain": [
       "[]"
      ]
     },
     "execution_count": 108,
     "metadata": {},
     "output_type": "execute_result"
    }
   ],
   "source": [
    "plantlist"
   ]
  },
  {
   "cell_type": "code",
   "execution_count": 109,
   "id": "47ae6072",
   "metadata": {},
   "outputs": [],
   "source": [
    "del plantlist"
   ]
  },
  {
   "cell_type": "code",
   "execution_count": 110,
   "id": "f02059fa",
   "metadata": {},
   "outputs": [
    {
     "ename": "NameError",
     "evalue": "name 'plantlist' is not defined",
     "output_type": "error",
     "traceback": [
      "\u001b[1;31m---------------------------------------------------------------------------\u001b[0m",
      "\u001b[1;31mNameError\u001b[0m                                 Traceback (most recent call last)",
      "\u001b[1;32m~\\AppData\\Local\\Temp/ipykernel_7068/1226118649.py\u001b[0m in \u001b[0;36m<module>\u001b[1;34m\u001b[0m\n\u001b[1;32m----> 1\u001b[1;33m \u001b[0mplantlist\u001b[0m\u001b[1;33m\u001b[0m\u001b[1;33m\u001b[0m\u001b[0m\n\u001b[0m",
      "\u001b[1;31mNameError\u001b[0m: name 'plantlist' is not defined"
     ]
    }
   ],
   "source": [
    "plantlist"
   ]
  },
  {
   "cell_type": "code",
   "execution_count": 111,
   "id": "fbc26aba",
   "metadata": {},
   "outputs": [],
   "source": [
    "numlist=[100,200,300,400,500,600]"
   ]
  },
  {
   "cell_type": "code",
   "execution_count": 112,
   "id": "8ab7ee02",
   "metadata": {},
   "outputs": [
    {
     "data": {
      "text/plain": [
       "600"
      ]
     },
     "execution_count": 112,
     "metadata": {},
     "output_type": "execute_result"
    }
   ],
   "source": [
    "numlist[5]"
   ]
  },
  {
   "cell_type": "code",
   "execution_count": 113,
   "id": "541ec287",
   "metadata": {},
   "outputs": [
    {
     "data": {
      "text/plain": [
       "400"
      ]
     },
     "execution_count": 113,
     "metadata": {},
     "output_type": "execute_result"
    }
   ],
   "source": [
    "numlist[3]"
   ]
  },
  {
   "cell_type": "code",
   "execution_count": 114,
   "id": "d4c55efc",
   "metadata": {},
   "outputs": [],
   "source": [
    "numlist[4]=250"
   ]
  },
  {
   "cell_type": "code",
   "execution_count": 115,
   "id": "9e00dbd0",
   "metadata": {},
   "outputs": [
    {
     "data": {
      "text/plain": [
       "[100, 200, 300, 400, 250, 600]"
      ]
     },
     "execution_count": 115,
     "metadata": {},
     "output_type": "execute_result"
    }
   ],
   "source": [
    "numlist"
   ]
  },
  {
   "cell_type": "code",
   "execution_count": 116,
   "id": "98176470",
   "metadata": {},
   "outputs": [
    {
     "data": {
      "text/plain": [
       "6"
      ]
     },
     "execution_count": 116,
     "metadata": {},
     "output_type": "execute_result"
    }
   ],
   "source": [
    "len(numlist)"
   ]
  },
  {
   "cell_type": "code",
   "execution_count": 117,
   "id": "856294b2",
   "metadata": {},
   "outputs": [],
   "source": [
    "numlist.clear()"
   ]
  },
  {
   "cell_type": "code",
   "execution_count": 118,
   "id": "1926e8f6",
   "metadata": {},
   "outputs": [
    {
     "data": {
      "text/plain": [
       "[]"
      ]
     },
     "execution_count": 118,
     "metadata": {},
     "output_type": "execute_result"
    }
   ],
   "source": [
    "numlist"
   ]
  },
  {
   "cell_type": "code",
   "execution_count": 119,
   "id": "d1f7bbe4",
   "metadata": {},
   "outputs": [],
   "source": [
    "del numlist"
   ]
  },
  {
   "cell_type": "code",
   "execution_count": 120,
   "id": "3de30d61",
   "metadata": {},
   "outputs": [
    {
     "ename": "NameError",
     "evalue": "name 'numlist' is not defined",
     "output_type": "error",
     "traceback": [
      "\u001b[1;31m---------------------------------------------------------------------------\u001b[0m",
      "\u001b[1;31mNameError\u001b[0m                                 Traceback (most recent call last)",
      "\u001b[1;32m~\\AppData\\Local\\Temp/ipykernel_7068/3803243408.py\u001b[0m in \u001b[0;36m<module>\u001b[1;34m\u001b[0m\n\u001b[1;32m----> 1\u001b[1;33m \u001b[0mnumlist\u001b[0m\u001b[1;33m\u001b[0m\u001b[1;33m\u001b[0m\u001b[0m\n\u001b[0m",
      "\u001b[1;31mNameError\u001b[0m: name 'numlist' is not defined"
     ]
    }
   ],
   "source": [
    "numlist"
   ]
  },
  {
   "cell_type": "code",
   "execution_count": 121,
   "id": "92706f1f",
   "metadata": {},
   "outputs": [],
   "source": [
    "N=[1,2,3,4,5]"
   ]
  },
  {
   "cell_type": "code",
   "execution_count": 122,
   "id": "4f26663b",
   "metadata": {},
   "outputs": [
    {
     "data": {
      "text/plain": [
       "[1, 2, 3, 4, 5]"
      ]
     },
     "execution_count": 122,
     "metadata": {},
     "output_type": "execute_result"
    }
   ],
   "source": [
    "N"
   ]
  },
  {
   "cell_type": "code",
   "execution_count": 123,
   "id": "64738132",
   "metadata": {},
   "outputs": [],
   "source": [
    "N.reverse()"
   ]
  },
  {
   "cell_type": "code",
   "execution_count": 124,
   "id": "5d314b99",
   "metadata": {},
   "outputs": [
    {
     "data": {
      "text/plain": [
       "[5, 4, 3, 2, 1]"
      ]
     },
     "execution_count": 124,
     "metadata": {},
     "output_type": "execute_result"
    }
   ],
   "source": [
    "N"
   ]
  },
  {
   "cell_type": "markdown",
   "id": "911931ba",
   "metadata": {},
   "source": [
    "Tuple: Tuple used to store collections of data\n",
    "\n",
    "A tuple is a collection which is ordered and unchangeable.\n",
    "\n",
    " immutable doesn't allow any change in the object once it has been created."
   ]
  },
  {
   "cell_type": "code",
   "execution_count": 126,
   "id": "47e6545d",
   "metadata": {},
   "outputs": [],
   "source": [
    "t1=(1,2,3,4,5,6,7,8)"
   ]
  },
  {
   "cell_type": "code",
   "execution_count": 127,
   "id": "7144cb6c",
   "metadata": {},
   "outputs": [
    {
     "data": {
      "text/plain": [
       "(1, 2, 3, 4, 5, 6, 7, 8)"
      ]
     },
     "execution_count": 127,
     "metadata": {},
     "output_type": "execute_result"
    }
   ],
   "source": [
    "t1"
   ]
  },
  {
   "cell_type": "code",
   "execution_count": 128,
   "id": "9bd8b9fc",
   "metadata": {},
   "outputs": [
    {
     "data": {
      "text/plain": [
       "1"
      ]
     },
     "execution_count": 128,
     "metadata": {},
     "output_type": "execute_result"
    }
   ],
   "source": [
    "t1[0]"
   ]
  },
  {
   "cell_type": "code",
   "execution_count": 129,
   "id": "bebda27f",
   "metadata": {},
   "outputs": [
    {
     "data": {
      "text/plain": [
       "3"
      ]
     },
     "execution_count": 129,
     "metadata": {},
     "output_type": "execute_result"
    }
   ],
   "source": [
    "t1[2]"
   ]
  },
  {
   "cell_type": "markdown",
   "id": "8912c203",
   "metadata": {},
   "source": [
    "Dictonary-Dictionaries are used to store data values in key:value pairs."
   ]
  },
  {
   "cell_type": "code",
   "execution_count": 130,
   "id": "fbb6b311",
   "metadata": {},
   "outputs": [],
   "source": [
    "dict1={'id':101,'name':'neha','age':25}"
   ]
  },
  {
   "cell_type": "code",
   "execution_count": 131,
   "id": "835e6e0c",
   "metadata": {},
   "outputs": [
    {
     "data": {
      "text/plain": [
       "{'id': 101, 'name': 'neha', 'age': 25}"
      ]
     },
     "execution_count": 131,
     "metadata": {},
     "output_type": "execute_result"
    }
   ],
   "source": [
    "dict1"
   ]
  },
  {
   "cell_type": "code",
   "execution_count": 132,
   "id": "923952c5",
   "metadata": {},
   "outputs": [
    {
     "data": {
      "text/plain": [
       "101"
      ]
     },
     "execution_count": 132,
     "metadata": {},
     "output_type": "execute_result"
    }
   ],
   "source": [
    "dict1['id']"
   ]
  },
  {
   "cell_type": "code",
   "execution_count": 133,
   "id": "7f7e1802",
   "metadata": {},
   "outputs": [
    {
     "data": {
      "text/plain": [
       "25"
      ]
     },
     "execution_count": 133,
     "metadata": {},
     "output_type": "execute_result"
    }
   ],
   "source": [
    "dict1['age']"
   ]
  },
  {
   "cell_type": "code",
   "execution_count": 134,
   "id": "49238f92",
   "metadata": {},
   "outputs": [
    {
     "data": {
      "text/plain": [
       "25"
      ]
     },
     "execution_count": 134,
     "metadata": {},
     "output_type": "execute_result"
    }
   ],
   "source": [
    "dict1['age']"
   ]
  },
  {
   "cell_type": "code",
   "execution_count": 135,
   "id": "3f95a976",
   "metadata": {},
   "outputs": [
    {
     "data": {
      "text/plain": [
       "dict_keys(['id', 'name', 'age'])"
      ]
     },
     "execution_count": 135,
     "metadata": {},
     "output_type": "execute_result"
    }
   ],
   "source": [
    "dict1.keys()"
   ]
  },
  {
   "cell_type": "code",
   "execution_count": 136,
   "id": "05ba8909",
   "metadata": {},
   "outputs": [
    {
     "data": {
      "text/plain": [
       "dict_values([101, 'neha', 25])"
      ]
     },
     "execution_count": 136,
     "metadata": {},
     "output_type": "execute_result"
    }
   ],
   "source": [
    "dict1.values()"
   ]
  },
  {
   "cell_type": "code",
   "execution_count": 137,
   "id": "12392925",
   "metadata": {},
   "outputs": [
    {
     "data": {
      "text/plain": [
       "dict_items([('id', 101), ('name', 'neha'), ('age', 25)])"
      ]
     },
     "execution_count": 137,
     "metadata": {},
     "output_type": "execute_result"
    }
   ],
   "source": [
    "dict1.items()"
   ]
  },
  {
   "cell_type": "code",
   "execution_count": 138,
   "id": "5ea4152e",
   "metadata": {},
   "outputs": [],
   "source": [
    "studentlist={'Name':'neha','Age':28,'rollno':20}"
   ]
  },
  {
   "cell_type": "code",
   "execution_count": 139,
   "id": "a36afb1f",
   "metadata": {},
   "outputs": [
    {
     "data": {
      "text/plain": [
       "{'Name': 'neha', 'Age': 28, 'rollno': 20}"
      ]
     },
     "execution_count": 139,
     "metadata": {},
     "output_type": "execute_result"
    }
   ],
   "source": [
    "studentlist"
   ]
  },
  {
   "cell_type": "code",
   "execution_count": 140,
   "id": "8deb106a",
   "metadata": {},
   "outputs": [
    {
     "data": {
      "text/plain": [
       "dict_keys(['Name', 'Age', 'rollno'])"
      ]
     },
     "execution_count": 140,
     "metadata": {},
     "output_type": "execute_result"
    }
   ],
   "source": [
    "studentlist.keys()"
   ]
  },
  {
   "cell_type": "code",
   "execution_count": 141,
   "id": "6b1c4819",
   "metadata": {},
   "outputs": [
    {
     "data": {
      "text/plain": [
       "dict_values(['neha', 28, 20])"
      ]
     },
     "execution_count": 141,
     "metadata": {},
     "output_type": "execute_result"
    }
   ],
   "source": [
    "studentlist.values()"
   ]
  },
  {
   "cell_type": "code",
   "execution_count": 142,
   "id": "3bf10c4f",
   "metadata": {},
   "outputs": [
    {
     "data": {
      "text/plain": [
       "20"
      ]
     },
     "execution_count": 142,
     "metadata": {},
     "output_type": "execute_result"
    }
   ],
   "source": [
    "studentlist['rollno']"
   ]
  },
  {
   "cell_type": "code",
   "execution_count": 143,
   "id": "920f7af7",
   "metadata": {},
   "outputs": [],
   "source": [
    "mobiledict={'mobile':'vivo','model':1801,'mobileprice':9000}"
   ]
  },
  {
   "cell_type": "code",
   "execution_count": 144,
   "id": "93c14e67",
   "metadata": {},
   "outputs": [
    {
     "data": {
      "text/plain": [
       "{'mobile': 'vivo', 'model': 1801, 'mobileprice': 9000}"
      ]
     },
     "execution_count": 144,
     "metadata": {},
     "output_type": "execute_result"
    }
   ],
   "source": [
    "mobiledict"
   ]
  },
  {
   "cell_type": "code",
   "execution_count": 145,
   "id": "85e1ac73",
   "metadata": {},
   "outputs": [
    {
     "data": {
      "text/plain": [
       "'vivo'"
      ]
     },
     "execution_count": 145,
     "metadata": {},
     "output_type": "execute_result"
    }
   ],
   "source": [
    "mobiledict['mobile']"
   ]
  },
  {
   "cell_type": "code",
   "execution_count": 146,
   "id": "a93c7e46",
   "metadata": {},
   "outputs": [
    {
     "data": {
      "text/plain": [
       "1801"
      ]
     },
     "execution_count": 146,
     "metadata": {},
     "output_type": "execute_result"
    }
   ],
   "source": [
    "mobiledict['model']"
   ]
  },
  {
   "cell_type": "code",
   "execution_count": 147,
   "id": "eaba3b97",
   "metadata": {},
   "outputs": [],
   "source": [
    "mobiledict['mobileprice']=9800"
   ]
  },
  {
   "cell_type": "code",
   "execution_count": 148,
   "id": "20f66d8f",
   "metadata": {},
   "outputs": [
    {
     "data": {
      "text/plain": [
       "{'mobile': 'vivo', 'model': 1801, 'mobileprice': 9800}"
      ]
     },
     "execution_count": 148,
     "metadata": {},
     "output_type": "execute_result"
    }
   ],
   "source": [
    "mobiledict"
   ]
  },
  {
   "cell_type": "code",
   "execution_count": 149,
   "id": "93dd6621",
   "metadata": {},
   "outputs": [
    {
     "data": {
      "text/plain": [
       "9800"
      ]
     },
     "execution_count": 149,
     "metadata": {},
     "output_type": "execute_result"
    }
   ],
   "source": [
    "mobiledict['mobileprice']"
   ]
  },
  {
   "cell_type": "code",
   "execution_count": 150,
   "id": "e506d5d3",
   "metadata": {},
   "outputs": [
    {
     "data": {
      "text/plain": [
       "dict_keys(['mobile', 'model', 'mobileprice'])"
      ]
     },
     "execution_count": 150,
     "metadata": {},
     "output_type": "execute_result"
    }
   ],
   "source": [
    "mobiledict.keys()"
   ]
  },
  {
   "cell_type": "code",
   "execution_count": 151,
   "id": "1aed309d",
   "metadata": {},
   "outputs": [
    {
     "data": {
      "text/plain": [
       "dict_values(['vivo', 1801, 9800])"
      ]
     },
     "execution_count": 151,
     "metadata": {},
     "output_type": "execute_result"
    }
   ],
   "source": [
    "mobiledict.values()"
   ]
  },
  {
   "cell_type": "code",
   "execution_count": 158,
   "id": "c6f0625e",
   "metadata": {},
   "outputs": [],
   "source": [
    "studentlist={'rollno':20,'class':'12th','Name':'Neha'}"
   ]
  },
  {
   "cell_type": "code",
   "execution_count": 159,
   "id": "ca6f34b8",
   "metadata": {},
   "outputs": [
    {
     "data": {
      "text/plain": [
       "{'rollno': 20, 'class': '12th', 'Name': 'Neha'}"
      ]
     },
     "execution_count": 159,
     "metadata": {},
     "output_type": "execute_result"
    }
   ],
   "source": [
    "studentlist"
   ]
  },
  {
   "cell_type": "code",
   "execution_count": 160,
   "id": "25dfc81a",
   "metadata": {},
   "outputs": [
    {
     "data": {
      "text/plain": [
       "dict_keys(['rollno', 'class', 'Name'])"
      ]
     },
     "execution_count": 160,
     "metadata": {},
     "output_type": "execute_result"
    }
   ],
   "source": [
    "studentlist.keys()"
   ]
  },
  {
   "cell_type": "code",
   "execution_count": 161,
   "id": "02c54c38",
   "metadata": {},
   "outputs": [
    {
     "data": {
      "text/plain": [
       "dict_values([20, '12th', 'Neha'])"
      ]
     },
     "execution_count": 161,
     "metadata": {},
     "output_type": "execute_result"
    }
   ],
   "source": [
    "studentlist.values()"
   ]
  },
  {
   "cell_type": "code",
   "execution_count": 162,
   "id": "870482f7",
   "metadata": {},
   "outputs": [
    {
     "data": {
      "text/plain": [
       "dict_items([('rollno', 20), ('class', '12th'), ('Name', 'Neha')])"
      ]
     },
     "execution_count": 162,
     "metadata": {},
     "output_type": "execute_result"
    }
   ],
   "source": [
    "studentlist.items()"
   ]
  },
  {
   "cell_type": "code",
   "execution_count": 164,
   "id": "d3eb7ef8",
   "metadata": {},
   "outputs": [],
   "source": [
    "studentlist['rollno']=21"
   ]
  },
  {
   "cell_type": "code",
   "execution_count": 165,
   "id": "344ba9eb",
   "metadata": {},
   "outputs": [
    {
     "data": {
      "text/plain": [
       "{'rollno': 21, 'class': '12th', 'Name': 'Neha'}"
      ]
     },
     "execution_count": 165,
     "metadata": {},
     "output_type": "execute_result"
    }
   ],
   "source": [
    "studentlist"
   ]
  }
 ],
 "metadata": {
  "kernelspec": {
   "display_name": "Python 3 (ipykernel)",
   "language": "python",
   "name": "python3"
  },
  "language_info": {
   "codemirror_mode": {
    "name": "ipython",
    "version": 3
   },
   "file_extension": ".py",
   "mimetype": "text/x-python",
   "name": "python",
   "nbconvert_exporter": "python",
   "pygments_lexer": "ipython3",
   "version": "3.9.7"
  }
 },
 "nbformat": 4,
 "nbformat_minor": 5
}
