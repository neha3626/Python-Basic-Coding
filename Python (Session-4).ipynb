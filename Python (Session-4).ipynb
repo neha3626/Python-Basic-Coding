{
 "cells": [
  {
   "cell_type": "markdown",
   "id": "cc143778",
   "metadata": {},
   "source": [
    "Dictionary"
   ]
  },
  {
   "cell_type": "code",
   "execution_count": 1,
   "id": "067587c9",
   "metadata": {},
   "outputs": [],
   "source": [
    "empdict={'empid':101,'empName':'neha','position':'manager'}"
   ]
  },
  {
   "cell_type": "code",
   "execution_count": 2,
   "id": "0aa620a7",
   "metadata": {},
   "outputs": [
    {
     "data": {
      "text/plain": [
       "{'empid': 101, 'empName': 'neha', 'position': 'manager'}"
      ]
     },
     "execution_count": 2,
     "metadata": {},
     "output_type": "execute_result"
    }
   ],
   "source": [
    "empdict"
   ]
  },
  {
   "cell_type": "code",
   "execution_count": 3,
   "id": "a8c55de1",
   "metadata": {},
   "outputs": [
    {
     "data": {
      "text/plain": [
       "'neha'"
      ]
     },
     "execution_count": 3,
     "metadata": {},
     "output_type": "execute_result"
    }
   ],
   "source": [
    "empdict['empName']"
   ]
  },
  {
   "cell_type": "code",
   "execution_count": 4,
   "id": "e11631ca",
   "metadata": {},
   "outputs": [],
   "source": [
    "empdict.update({'salary':9000})"
   ]
  },
  {
   "cell_type": "code",
   "execution_count": 5,
   "id": "a3662ebf",
   "metadata": {},
   "outputs": [
    {
     "data": {
      "text/plain": [
       "{'empid': 101, 'empName': 'neha', 'position': 'manager', 'salary': 9000}"
      ]
     },
     "execution_count": 5,
     "metadata": {},
     "output_type": "execute_result"
    }
   ],
   "source": [
    "empdict"
   ]
  },
  {
   "cell_type": "code",
   "execution_count": 6,
   "id": "9eaa2dbb",
   "metadata": {},
   "outputs": [
    {
     "data": {
      "text/plain": [
       "dict_keys(['empid', 'empName', 'position', 'salary'])"
      ]
     },
     "execution_count": 6,
     "metadata": {},
     "output_type": "execute_result"
    }
   ],
   "source": [
    "empdict.keys()"
   ]
  },
  {
   "cell_type": "code",
   "execution_count": 7,
   "id": "850a2fb9",
   "metadata": {},
   "outputs": [
    {
     "data": {
      "text/plain": [
       "dict_values([101, 'neha', 'manager', 9000])"
      ]
     },
     "execution_count": 7,
     "metadata": {},
     "output_type": "execute_result"
    }
   ],
   "source": [
    "empdict.values()"
   ]
  },
  {
   "cell_type": "code",
   "execution_count": 8,
   "id": "2ce32408",
   "metadata": {},
   "outputs": [],
   "source": [
    "empdict['salary']=9500"
   ]
  },
  {
   "cell_type": "code",
   "execution_count": 9,
   "id": "5bfc10a2",
   "metadata": {},
   "outputs": [
    {
     "data": {
      "text/plain": [
       "{'empid': 101, 'empName': 'neha', 'position': 'manager', 'salary': 9500}"
      ]
     },
     "execution_count": 9,
     "metadata": {},
     "output_type": "execute_result"
    }
   ],
   "source": [
    "empdict"
   ]
  },
  {
   "cell_type": "code",
   "execution_count": 10,
   "id": "4072ae64",
   "metadata": {},
   "outputs": [],
   "source": [
    "empdict['position']='director'"
   ]
  },
  {
   "cell_type": "code",
   "execution_count": 11,
   "id": "6c744780",
   "metadata": {},
   "outputs": [
    {
     "data": {
      "text/plain": [
       "{'empid': 101, 'empName': 'neha', 'position': 'director', 'salary': 9500}"
      ]
     },
     "execution_count": 11,
     "metadata": {},
     "output_type": "execute_result"
    }
   ],
   "source": [
    "empdict"
   ]
  },
  {
   "cell_type": "code",
   "execution_count": 12,
   "id": "065cc24c",
   "metadata": {},
   "outputs": [
    {
     "data": {
      "text/plain": [
       "dict_items([('empid', 101), ('empName', 'neha'), ('position', 'director'), ('salary', 9500)])"
      ]
     },
     "execution_count": 12,
     "metadata": {},
     "output_type": "execute_result"
    }
   ],
   "source": [
    "empdict.items()"
   ]
  },
  {
   "cell_type": "code",
   "execution_count": 13,
   "id": "1fd85bb9",
   "metadata": {},
   "outputs": [],
   "source": [
    "empdict.update({'profile':'senier'})"
   ]
  },
  {
   "cell_type": "code",
   "execution_count": 14,
   "id": "cc4820b8",
   "metadata": {},
   "outputs": [
    {
     "data": {
      "text/plain": [
       "{'empid': 101,\n",
       " 'empName': 'neha',\n",
       " 'position': 'director',\n",
       " 'salary': 9500,\n",
       " 'profile': 'senier'}"
      ]
     },
     "execution_count": 14,
     "metadata": {},
     "output_type": "execute_result"
    }
   ],
   "source": [
    "empdict"
   ]
  },
  {
   "cell_type": "code",
   "execution_count": 15,
   "id": "9bc7e915",
   "metadata": {},
   "outputs": [],
   "source": [
    "empdict.update({'empmob':'micro'})"
   ]
  },
  {
   "cell_type": "code",
   "execution_count": 16,
   "id": "a548ff3d",
   "metadata": {},
   "outputs": [
    {
     "data": {
      "text/plain": [
       "6"
      ]
     },
     "execution_count": 16,
     "metadata": {},
     "output_type": "execute_result"
    }
   ],
   "source": [
    "len(empdict)"
   ]
  },
  {
   "cell_type": "code",
   "execution_count": 17,
   "id": "25e3a002",
   "metadata": {},
   "outputs": [],
   "source": [
    "empdict.update({'empmob':'micro'})"
   ]
  },
  {
   "cell_type": "code",
   "execution_count": 18,
   "id": "df000141",
   "metadata": {},
   "outputs": [
    {
     "data": {
      "text/plain": [
       "{'empid': 101,\n",
       " 'empName': 'neha',\n",
       " 'position': 'director',\n",
       " 'salary': 9500,\n",
       " 'profile': 'senier',\n",
       " 'empmob': 'micro'}"
      ]
     },
     "execution_count": 18,
     "metadata": {},
     "output_type": "execute_result"
    }
   ],
   "source": [
    "empdict"
   ]
  },
  {
   "cell_type": "markdown",
   "id": "7ad2f954",
   "metadata": {},
   "source": [
    "del = if you want to delete particular key"
   ]
  },
  {
   "cell_type": "code",
   "execution_count": 19,
   "id": "09849965",
   "metadata": {},
   "outputs": [],
   "source": [
    "del empdict['empid']"
   ]
  },
  {
   "cell_type": "code",
   "execution_count": 20,
   "id": "a4680abb",
   "metadata": {},
   "outputs": [
    {
     "data": {
      "text/plain": [
       "{'empName': 'neha',\n",
       " 'position': 'director',\n",
       " 'salary': 9500,\n",
       " 'profile': 'senier',\n",
       " 'empmob': 'micro'}"
      ]
     },
     "execution_count": 20,
     "metadata": {},
     "output_type": "execute_result"
    }
   ],
   "source": [
    "empdict"
   ]
  },
  {
   "cell_type": "markdown",
   "id": "acce0897",
   "metadata": {},
   "source": [
    "pop =  if you want to delete particular key"
   ]
  },
  {
   "cell_type": "code",
   "execution_count": 21,
   "id": "a9d2515c",
   "metadata": {},
   "outputs": [
    {
     "data": {
      "text/plain": [
       "'neha'"
      ]
     },
     "execution_count": 21,
     "metadata": {},
     "output_type": "execute_result"
    }
   ],
   "source": [
    "empdict.pop('empName')"
   ]
  },
  {
   "cell_type": "code",
   "execution_count": 22,
   "id": "73a34685",
   "metadata": {},
   "outputs": [
    {
     "data": {
      "text/plain": [
       "{'position': 'director',\n",
       " 'salary': 9500,\n",
       " 'profile': 'senier',\n",
       " 'empmob': 'micro'}"
      ]
     },
     "execution_count": 22,
     "metadata": {},
     "output_type": "execute_result"
    }
   ],
   "source": [
    "empdict"
   ]
  },
  {
   "cell_type": "code",
   "execution_count": 23,
   "id": "2d95f711",
   "metadata": {},
   "outputs": [
    {
     "data": {
      "text/plain": [
       "4"
      ]
     },
     "execution_count": 23,
     "metadata": {},
     "output_type": "execute_result"
    }
   ],
   "source": [
    "len(empdict)"
   ]
  },
  {
   "cell_type": "code",
   "execution_count": 24,
   "id": "307d7240",
   "metadata": {},
   "outputs": [],
   "source": [
    "empdict.update({'empName':'neha'})"
   ]
  },
  {
   "cell_type": "code",
   "execution_count": 25,
   "id": "14545fa8",
   "metadata": {},
   "outputs": [
    {
     "data": {
      "text/plain": [
       "{'position': 'director',\n",
       " 'salary': 9500,\n",
       " 'profile': 'senier',\n",
       " 'empmob': 'micro',\n",
       " 'empName': 'neha'}"
      ]
     },
     "execution_count": 25,
     "metadata": {},
     "output_type": "execute_result"
    }
   ],
   "source": [
    "empdict"
   ]
  },
  {
   "cell_type": "code",
   "execution_count": 26,
   "id": "6ea9f5be",
   "metadata": {},
   "outputs": [],
   "source": [
    "empdict['empName']='venktesh'"
   ]
  },
  {
   "cell_type": "code",
   "execution_count": 27,
   "id": "c8fad163",
   "metadata": {},
   "outputs": [
    {
     "data": {
      "text/plain": [
       "{'position': 'director',\n",
       " 'salary': 9500,\n",
       " 'profile': 'senier',\n",
       " 'empmob': 'micro',\n",
       " 'empName': 'venktesh'}"
      ]
     },
     "execution_count": 27,
     "metadata": {},
     "output_type": "execute_result"
    }
   ],
   "source": [
    "empdict"
   ]
  },
  {
   "cell_type": "code",
   "execution_count": 28,
   "id": "69804581",
   "metadata": {},
   "outputs": [
    {
     "data": {
      "text/plain": [
       "'venktesh'"
      ]
     },
     "execution_count": 28,
     "metadata": {},
     "output_type": "execute_result"
    }
   ],
   "source": [
    "empdict['empName']"
   ]
  },
  {
   "cell_type": "code",
   "execution_count": 29,
   "id": "fd7b5035",
   "metadata": {},
   "outputs": [
    {
     "data": {
      "text/plain": [
       "'venktesh'"
      ]
     },
     "execution_count": 29,
     "metadata": {},
     "output_type": "execute_result"
    }
   ],
   "source": [
    "empdict.pop('empName')"
   ]
  },
  {
   "cell_type": "code",
   "execution_count": 30,
   "id": "d6c92e8b",
   "metadata": {},
   "outputs": [
    {
     "data": {
      "text/plain": [
       "{'position': 'director',\n",
       " 'salary': 9500,\n",
       " 'profile': 'senier',\n",
       " 'empmob': 'micro'}"
      ]
     },
     "execution_count": 30,
     "metadata": {},
     "output_type": "execute_result"
    }
   ],
   "source": [
    "empdict"
   ]
  },
  {
   "cell_type": "code",
   "execution_count": 31,
   "id": "42b899d2",
   "metadata": {},
   "outputs": [],
   "source": [
    "empdict['position']='accountant'"
   ]
  },
  {
   "cell_type": "code",
   "execution_count": 32,
   "id": "ddc8c794",
   "metadata": {},
   "outputs": [
    {
     "data": {
      "text/plain": [
       "{'position': 'accountant',\n",
       " 'salary': 9500,\n",
       " 'profile': 'senier',\n",
       " 'empmob': 'micro'}"
      ]
     },
     "execution_count": 32,
     "metadata": {},
     "output_type": "execute_result"
    }
   ],
   "source": [
    "empdict"
   ]
  },
  {
   "cell_type": "code",
   "execution_count": 33,
   "id": "6f4db3a4",
   "metadata": {},
   "outputs": [],
   "source": [
    "empdict.update({'empbatch':50})"
   ]
  },
  {
   "cell_type": "code",
   "execution_count": 34,
   "id": "dc0aabd7",
   "metadata": {},
   "outputs": [
    {
     "data": {
      "text/plain": [
       "{'position': 'accountant',\n",
       " 'salary': 9500,\n",
       " 'profile': 'senier',\n",
       " 'empmob': 'micro',\n",
       " 'empbatch': 50}"
      ]
     },
     "execution_count": 34,
     "metadata": {},
     "output_type": "execute_result"
    }
   ],
   "source": [
    "empdict"
   ]
  },
  {
   "cell_type": "code",
   "execution_count": 35,
   "id": "96a1054a",
   "metadata": {},
   "outputs": [
    {
     "data": {
      "text/plain": [
       "50"
      ]
     },
     "execution_count": 35,
     "metadata": {},
     "output_type": "execute_result"
    }
   ],
   "source": [
    "empdict.pop('empbatch')"
   ]
  },
  {
   "cell_type": "code",
   "execution_count": 36,
   "id": "a2144a45",
   "metadata": {},
   "outputs": [
    {
     "data": {
      "text/plain": [
       "{'position': 'accountant',\n",
       " 'salary': 9500,\n",
       " 'profile': 'senier',\n",
       " 'empmob': 'micro'}"
      ]
     },
     "execution_count": 36,
     "metadata": {},
     "output_type": "execute_result"
    }
   ],
   "source": [
    "empdict"
   ]
  },
  {
   "cell_type": "code",
   "execution_count": 37,
   "id": "88853e91",
   "metadata": {},
   "outputs": [],
   "source": [
    "dict2={'id':[1,2,3],'name':['neha','meena','pampam']}"
   ]
  },
  {
   "cell_type": "code",
   "execution_count": 38,
   "id": "0ee71d5b",
   "metadata": {},
   "outputs": [
    {
     "data": {
      "text/plain": [
       "{'id': [1, 2, 3], 'name': ['neha', 'meena', 'pampam']}"
      ]
     },
     "execution_count": 38,
     "metadata": {},
     "output_type": "execute_result"
    }
   ],
   "source": [
    "dict2"
   ]
  },
  {
   "cell_type": "code",
   "execution_count": 39,
   "id": "6974a1ff",
   "metadata": {},
   "outputs": [
    {
     "data": {
      "text/plain": [
       "dict_items([('id', [1, 2, 3]), ('name', ['neha', 'meena', 'pampam'])])"
      ]
     },
     "execution_count": 39,
     "metadata": {},
     "output_type": "execute_result"
    }
   ],
   "source": [
    "dict2.items()"
   ]
  },
  {
   "cell_type": "code",
   "execution_count": 40,
   "id": "3a465d09",
   "metadata": {},
   "outputs": [],
   "source": [
    "dict2.update({'Grade':[20,30,40]})"
   ]
  },
  {
   "cell_type": "code",
   "execution_count": 41,
   "id": "a71f40c0",
   "metadata": {},
   "outputs": [
    {
     "data": {
      "text/plain": [
       "{'id': [1, 2, 3], 'name': ['neha', 'meena', 'pampam'], 'Grade': [20, 30, 40]}"
      ]
     },
     "execution_count": 41,
     "metadata": {},
     "output_type": "execute_result"
    }
   ],
   "source": [
    "dict2"
   ]
  },
  {
   "cell_type": "code",
   "execution_count": 42,
   "id": "f0004ac6",
   "metadata": {},
   "outputs": [
    {
     "data": {
      "text/plain": [
       "[20, 30, 40]"
      ]
     },
     "execution_count": 42,
     "metadata": {},
     "output_type": "execute_result"
    }
   ],
   "source": [
    "dict2['Grade']"
   ]
  },
  {
   "cell_type": "code",
   "execution_count": 43,
   "id": "2798ff5c",
   "metadata": {},
   "outputs": [
    {
     "data": {
      "text/plain": [
       "['neha', 'meena', 'pampam']"
      ]
     },
     "execution_count": 43,
     "metadata": {},
     "output_type": "execute_result"
    }
   ],
   "source": [
    "dict2['name']"
   ]
  },
  {
   "cell_type": "code",
   "execution_count": 44,
   "id": "d438442b",
   "metadata": {},
   "outputs": [
    {
     "data": {
      "text/plain": [
       "dict_keys(['id', 'name', 'Grade'])"
      ]
     },
     "execution_count": 44,
     "metadata": {},
     "output_type": "execute_result"
    }
   ],
   "source": [
    "dict2.keys()"
   ]
  },
  {
   "cell_type": "code",
   "execution_count": 45,
   "id": "68265736",
   "metadata": {},
   "outputs": [
    {
     "data": {
      "text/plain": [
       "dict_values([[1, 2, 3], ['neha', 'meena', 'pampam'], [20, 30, 40]])"
      ]
     },
     "execution_count": 45,
     "metadata": {},
     "output_type": "execute_result"
    }
   ],
   "source": [
    "dict2.values()"
   ]
  },
  {
   "cell_type": "code",
   "execution_count": 46,
   "id": "a43ae89e",
   "metadata": {},
   "outputs": [
    {
     "data": {
      "text/plain": [
       "dict_items([('id', [1, 2, 3]), ('name', ['neha', 'meena', 'pampam']), ('Grade', [20, 30, 40])])"
      ]
     },
     "execution_count": 46,
     "metadata": {},
     "output_type": "execute_result"
    }
   ],
   "source": [
    "dict2.items()"
   ]
  },
  {
   "cell_type": "code",
   "execution_count": 47,
   "id": "a2127d7d",
   "metadata": {},
   "outputs": [
    {
     "data": {
      "text/plain": [
       "[20, 30, 40]"
      ]
     },
     "execution_count": 47,
     "metadata": {},
     "output_type": "execute_result"
    }
   ],
   "source": [
    "dict2.pop('Grade')"
   ]
  },
  {
   "cell_type": "code",
   "execution_count": 48,
   "id": "3812baea",
   "metadata": {},
   "outputs": [
    {
     "data": {
      "text/plain": [
       "{'id': [1, 2, 3], 'name': ['neha', 'meena', 'pampam']}"
      ]
     },
     "execution_count": 48,
     "metadata": {},
     "output_type": "execute_result"
    }
   ],
   "source": [
    "dict2"
   ]
  },
  {
   "cell_type": "code",
   "execution_count": 49,
   "id": "671977cf",
   "metadata": {},
   "outputs": [],
   "source": [
    "dict2.update({'Grade':['A','B','C']})"
   ]
  },
  {
   "cell_type": "code",
   "execution_count": 50,
   "id": "c140776a",
   "metadata": {},
   "outputs": [
    {
     "data": {
      "text/plain": [
       "{'id': [1, 2, 3],\n",
       " 'name': ['neha', 'meena', 'pampam'],\n",
       " 'Grade': ['A', 'B', 'C']}"
      ]
     },
     "execution_count": 50,
     "metadata": {},
     "output_type": "execute_result"
    }
   ],
   "source": [
    "dict2"
   ]
  },
  {
   "cell_type": "code",
   "execution_count": 51,
   "id": "bc6dc2e8",
   "metadata": {},
   "outputs": [],
   "source": [
    "del dict2"
   ]
  },
  {
   "cell_type": "code",
   "execution_count": 52,
   "id": "3b8d92f6",
   "metadata": {},
   "outputs": [
    {
     "ename": "NameError",
     "evalue": "name 'dict2' is not defined",
     "output_type": "error",
     "traceback": [
      "\u001b[1;31m---------------------------------------------------------------------------\u001b[0m",
      "\u001b[1;31mNameError\u001b[0m                                 Traceback (most recent call last)",
      "\u001b[1;32m~\\AppData\\Local\\Temp/ipykernel_20772/2395177987.py\u001b[0m in \u001b[0;36m<module>\u001b[1;34m\u001b[0m\n\u001b[1;32m----> 1\u001b[1;33m \u001b[0mdict2\u001b[0m\u001b[1;33m\u001b[0m\u001b[1;33m\u001b[0m\u001b[0m\n\u001b[0m",
      "\u001b[1;31mNameError\u001b[0m: name 'dict2' is not defined"
     ]
    }
   ],
   "source": [
    "dict2"
   ]
  },
  {
   "cell_type": "markdown",
   "id": "a27c589e",
   "metadata": {},
   "source": [
    "Rename the keys in dictinory"
   ]
  },
  {
   "cell_type": "code",
   "execution_count": 53,
   "id": "1c135076",
   "metadata": {},
   "outputs": [],
   "source": [
    "dict5 = {'Temp':90,'Name':'suneha','city':'Pune'}"
   ]
  },
  {
   "cell_type": "code",
   "execution_count": 54,
   "id": "02132253",
   "metadata": {},
   "outputs": [
    {
     "data": {
      "text/plain": [
       "{'Temp': 90, 'Name': 'suneha', 'city': 'Pune'}"
      ]
     },
     "execution_count": 54,
     "metadata": {},
     "output_type": "execute_result"
    }
   ],
   "source": [
    "dict5"
   ]
  },
  {
   "cell_type": "code",
   "execution_count": 55,
   "id": "b51372b2",
   "metadata": {},
   "outputs": [],
   "source": [
    "dict5['Location']=dict5.pop('city')"
   ]
  },
  {
   "cell_type": "code",
   "execution_count": 56,
   "id": "1b71f685",
   "metadata": {},
   "outputs": [
    {
     "data": {
      "text/plain": [
       "{'Temp': 90, 'Name': 'suneha', 'Location': 'Pune'}"
      ]
     },
     "execution_count": 56,
     "metadata": {},
     "output_type": "execute_result"
    }
   ],
   "source": [
    "dict5"
   ]
  },
  {
   "cell_type": "code",
   "execution_count": 58,
   "id": "54957968",
   "metadata": {},
   "outputs": [],
   "source": [
    "dict5['Location']='Mumbai'"
   ]
  },
  {
   "cell_type": "code",
   "execution_count": 59,
   "id": "1b3f7acd",
   "metadata": {},
   "outputs": [
    {
     "data": {
      "text/plain": [
       "{'Temp': 90, 'Name': 'suneha', 'Location': 'Mumbai'}"
      ]
     },
     "execution_count": 59,
     "metadata": {},
     "output_type": "execute_result"
    }
   ],
   "source": [
    "dict5"
   ]
  },
  {
   "cell_type": "code",
   "execution_count": 60,
   "id": "b5027499",
   "metadata": {},
   "outputs": [
    {
     "data": {
      "text/plain": [
       "'Mumbai'"
      ]
     },
     "execution_count": 60,
     "metadata": {},
     "output_type": "execute_result"
    }
   ],
   "source": [
    "dict5['Location']"
   ]
  },
  {
   "cell_type": "markdown",
   "id": "e80af7da",
   "metadata": {},
   "source": [
    "Sets=set is unorderd of file, it will not alowed duplicate value,it is immutable, there is no index"
   ]
  },
  {
   "cell_type": "code",
   "execution_count": 61,
   "id": "06140dc1",
   "metadata": {},
   "outputs": [],
   "source": [
    "x={1,2,3,4,5,5,6}"
   ]
  },
  {
   "cell_type": "code",
   "execution_count": 62,
   "id": "8a24c382",
   "metadata": {},
   "outputs": [
    {
     "data": {
      "text/plain": [
       "set"
      ]
     },
     "execution_count": 62,
     "metadata": {},
     "output_type": "execute_result"
    }
   ],
   "source": [
    "type(x)"
   ]
  },
  {
   "cell_type": "code",
   "execution_count": 63,
   "id": "e6769235",
   "metadata": {},
   "outputs": [
    {
     "data": {
      "text/plain": [
       "{1, 2, 3, 4, 5, 6}"
      ]
     },
     "execution_count": 63,
     "metadata": {},
     "output_type": "execute_result"
    }
   ],
   "source": [
    "x"
   ]
  },
  {
   "cell_type": "code",
   "execution_count": 64,
   "id": "82adc647",
   "metadata": {},
   "outputs": [],
   "source": [
    "days={'monday','tuesday','friday'}"
   ]
  },
  {
   "cell_type": "code",
   "execution_count": 65,
   "id": "5d2fc745",
   "metadata": {},
   "outputs": [],
   "source": [
    "days.add('sunday')"
   ]
  },
  {
   "cell_type": "code",
   "execution_count": 66,
   "id": "b0274fa8",
   "metadata": {},
   "outputs": [
    {
     "data": {
      "text/plain": [
       "{'friday', 'monday', 'sunday', 'tuesday'}"
      ]
     },
     "execution_count": 66,
     "metadata": {},
     "output_type": "execute_result"
    }
   ],
   "source": [
    "days"
   ]
  },
  {
   "cell_type": "code",
   "execution_count": 67,
   "id": "c625236c",
   "metadata": {},
   "outputs": [],
   "source": [
    "days.remove('sunday')"
   ]
  },
  {
   "cell_type": "code",
   "execution_count": 68,
   "id": "4c1cc949",
   "metadata": {},
   "outputs": [
    {
     "data": {
      "text/plain": [
       "{'friday', 'monday', 'tuesday'}"
      ]
     },
     "execution_count": 68,
     "metadata": {},
     "output_type": "execute_result"
    }
   ],
   "source": [
    "days"
   ]
  },
  {
   "cell_type": "code",
   "execution_count": 69,
   "id": "d1441962",
   "metadata": {},
   "outputs": [
    {
     "data": {
      "text/plain": [
       "'friday'"
      ]
     },
     "execution_count": 69,
     "metadata": {},
     "output_type": "execute_result"
    }
   ],
   "source": [
    "days.pop()"
   ]
  },
  {
   "cell_type": "code",
   "execution_count": 70,
   "id": "03d8b305",
   "metadata": {},
   "outputs": [
    {
     "data": {
      "text/plain": [
       "{'monday', 'tuesday'}"
      ]
     },
     "execution_count": 70,
     "metadata": {},
     "output_type": "execute_result"
    }
   ],
   "source": [
    "days"
   ]
  },
  {
   "cell_type": "code",
   "execution_count": 71,
   "id": "6e882976",
   "metadata": {},
   "outputs": [
    {
     "data": {
      "text/plain": [
       "'tuesday'"
      ]
     },
     "execution_count": 71,
     "metadata": {},
     "output_type": "execute_result"
    }
   ],
   "source": [
    "days.pop()"
   ]
  },
  {
   "cell_type": "code",
   "execution_count": 72,
   "id": "db2ef87f",
   "metadata": {},
   "outputs": [],
   "source": [
    "days.clear()"
   ]
  },
  {
   "cell_type": "code",
   "execution_count": 73,
   "id": "f4e93de4",
   "metadata": {},
   "outputs": [
    {
     "data": {
      "text/plain": [
       "set()"
      ]
     },
     "execution_count": 73,
     "metadata": {},
     "output_type": "execute_result"
    }
   ],
   "source": [
    "days"
   ]
  },
  {
   "cell_type": "code",
   "execution_count": 74,
   "id": "bf82c7b8",
   "metadata": {},
   "outputs": [],
   "source": [
    "del days"
   ]
  },
  {
   "cell_type": "code",
   "execution_count": 75,
   "id": "61cbdc1e",
   "metadata": {},
   "outputs": [
    {
     "ename": "NameError",
     "evalue": "name 'days' is not defined",
     "output_type": "error",
     "traceback": [
      "\u001b[1;31m---------------------------------------------------------------------------\u001b[0m",
      "\u001b[1;31mNameError\u001b[0m                                 Traceback (most recent call last)",
      "\u001b[1;32m~\\AppData\\Local\\Temp/ipykernel_20772/2286027535.py\u001b[0m in \u001b[0;36m<module>\u001b[1;34m\u001b[0m\n\u001b[1;32m----> 1\u001b[1;33m \u001b[0mdays\u001b[0m\u001b[1;33m\u001b[0m\u001b[1;33m\u001b[0m\u001b[0m\n\u001b[0m",
      "\u001b[1;31mNameError\u001b[0m: name 'days' is not defined"
     ]
    }
   ],
   "source": [
    "days"
   ]
  },
  {
   "cell_type": "code",
   "execution_count": 76,
   "id": "d2bfa9f4",
   "metadata": {},
   "outputs": [],
   "source": [
    "a = {1,2,2,3,4,5,5,6}"
   ]
  },
  {
   "cell_type": "code",
   "execution_count": 77,
   "id": "9fdab8c0",
   "metadata": {},
   "outputs": [
    {
     "data": {
      "text/plain": [
       "{1, 2, 3, 4, 5, 6}"
      ]
     },
     "execution_count": 77,
     "metadata": {},
     "output_type": "execute_result"
    }
   ],
   "source": [
    "a"
   ]
  },
  {
   "cell_type": "code",
   "execution_count": 78,
   "id": "b4fdf0ba",
   "metadata": {},
   "outputs": [],
   "source": [
    "a.add(7)"
   ]
  },
  {
   "cell_type": "code",
   "execution_count": 79,
   "id": "1f1cf1ce",
   "metadata": {},
   "outputs": [
    {
     "data": {
      "text/plain": [
       "{1, 2, 3, 4, 5, 6, 7}"
      ]
     },
     "execution_count": 79,
     "metadata": {},
     "output_type": "execute_result"
    }
   ],
   "source": [
    "a"
   ]
  },
  {
   "cell_type": "code",
   "execution_count": 81,
   "id": "68531670",
   "metadata": {},
   "outputs": [
    {
     "data": {
      "text/plain": [
       "1"
      ]
     },
     "execution_count": 81,
     "metadata": {},
     "output_type": "execute_result"
    }
   ],
   "source": [
    "a.pop()"
   ]
  },
  {
   "cell_type": "code",
   "execution_count": 82,
   "id": "da2735f1",
   "metadata": {},
   "outputs": [
    {
     "data": {
      "text/plain": [
       "{2, 3, 4, 5, 6, 7}"
      ]
     },
     "execution_count": 82,
     "metadata": {},
     "output_type": "execute_result"
    }
   ],
   "source": [
    "a"
   ]
  },
  {
   "cell_type": "code",
   "execution_count": 83,
   "id": "bb873720",
   "metadata": {},
   "outputs": [
    {
     "data": {
      "text/plain": [
       "2"
      ]
     },
     "execution_count": 83,
     "metadata": {},
     "output_type": "execute_result"
    }
   ],
   "source": [
    "a.pop()"
   ]
  },
  {
   "cell_type": "code",
   "execution_count": 84,
   "id": "88016401",
   "metadata": {},
   "outputs": [
    {
     "data": {
      "text/plain": [
       "{3, 4, 5, 6, 7}"
      ]
     },
     "execution_count": 84,
     "metadata": {},
     "output_type": "execute_result"
    }
   ],
   "source": [
    "a"
   ]
  },
  {
   "cell_type": "code",
   "execution_count": 85,
   "id": "cae05804",
   "metadata": {},
   "outputs": [
    {
     "data": {
      "text/plain": [
       "3"
      ]
     },
     "execution_count": 85,
     "metadata": {},
     "output_type": "execute_result"
    }
   ],
   "source": [
    "a.pop()"
   ]
  },
  {
   "cell_type": "code",
   "execution_count": 86,
   "id": "5fa0a97c",
   "metadata": {},
   "outputs": [],
   "source": [
    "a.clear()"
   ]
  },
  {
   "cell_type": "code",
   "execution_count": 87,
   "id": "2c60cc6e",
   "metadata": {},
   "outputs": [
    {
     "data": {
      "text/plain": [
       "set()"
      ]
     },
     "execution_count": 87,
     "metadata": {},
     "output_type": "execute_result"
    }
   ],
   "source": [
    "a"
   ]
  },
  {
   "cell_type": "code",
   "execution_count": 88,
   "id": "7bade55d",
   "metadata": {},
   "outputs": [],
   "source": [
    "del a"
   ]
  },
  {
   "cell_type": "code",
   "execution_count": 89,
   "id": "6ad48b4f",
   "metadata": {},
   "outputs": [
    {
     "ename": "NameError",
     "evalue": "name 'a' is not defined",
     "output_type": "error",
     "traceback": [
      "\u001b[1;31m---------------------------------------------------------------------------\u001b[0m",
      "\u001b[1;31mNameError\u001b[0m                                 Traceback (most recent call last)",
      "\u001b[1;32m~\\AppData\\Local\\Temp/ipykernel_20772/2167009006.py\u001b[0m in \u001b[0;36m<module>\u001b[1;34m\u001b[0m\n\u001b[1;32m----> 1\u001b[1;33m \u001b[0ma\u001b[0m\u001b[1;33m\u001b[0m\u001b[1;33m\u001b[0m\u001b[0m\n\u001b[0m",
      "\u001b[1;31mNameError\u001b[0m: name 'a' is not defined"
     ]
    }
   ],
   "source": [
    "a"
   ]
  },
  {
   "cell_type": "markdown",
   "id": "a3d6688e",
   "metadata": {},
   "source": [
    "# loops in python\n",
    "\n",
    "in python : there are two types of loop\n",
    "\n",
    "While loops\n",
    "\n",
    "For loops"
   ]
  },
  {
   "cell_type": "markdown",
   "id": "b423f568",
   "metadata": {},
   "source": [
    "while loops"
   ]
  },
  {
   "cell_type": "code",
   "execution_count": 91,
   "id": "24c33529",
   "metadata": {},
   "outputs": [],
   "source": [
    "#initialization\n",
    "#condition\n",
    "#increment"
   ]
  },
  {
   "cell_type": "code",
   "execution_count": 94,
   "id": "c3856aaa",
   "metadata": {},
   "outputs": [
    {
     "name": "stdout",
     "output_type": "stream",
     "text": [
      "0\n",
      "1\n",
      "2\n"
     ]
    }
   ],
   "source": [
    "i=0  #initialization\n",
    "\n",
    "while (i<3): #condition\n",
    "    print(i)\n",
    "    i=i+1 #increment\n",
    "    \n",
    "    "
   ]
  },
  {
   "cell_type": "code",
   "execution_count": 95,
   "id": "b3de7b83",
   "metadata": {},
   "outputs": [
    {
     "name": "stdout",
     "output_type": "stream",
     "text": [
      "0\n",
      "1\n",
      "2\n",
      "3\n",
      "4\n"
     ]
    }
   ],
   "source": [
    "i=0\n",
    "\n",
    "while (i<5):\n",
    "    print(i)\n",
    "    i=i+1"
   ]
  },
  {
   "cell_type": "code",
   "execution_count": 96,
   "id": "1031f70f",
   "metadata": {},
   "outputs": [
    {
     "name": "stdout",
     "output_type": "stream",
     "text": [
      "0\n",
      "1\n",
      "2\n",
      "3\n"
     ]
    }
   ],
   "source": [
    "j = 0\n",
    "\n",
    "while(j<4):\n",
    "    print(j)\n",
    "    j=j+1"
   ]
  },
  {
   "cell_type": "code",
   "execution_count": 99,
   "id": "7741d9f0",
   "metadata": {},
   "outputs": [
    {
     "name": "stdout",
     "output_type": "stream",
     "text": [
      "p= 0\n",
      "p= 1\n",
      "p= 2\n",
      "p= 3\n",
      "p= 4\n"
     ]
    }
   ],
   "source": [
    "p=0\n",
    "while (p<5):\n",
    "    print('p=',p)\n",
    "    p=p+1"
   ]
  },
  {
   "cell_type": "code",
   "execution_count": 107,
   "id": "abe96e89",
   "metadata": {},
   "outputs": [
    {
     "name": "stdout",
     "output_type": "stream",
     "text": [
      "k= 1\n",
      "k= 2\n",
      "k= 3\n",
      "k= 4\n",
      "k= 5\n",
      "k= 6\n",
      "k= 7\n"
     ]
    }
   ],
   "source": [
    "k=1\n",
    "while(k<8):\n",
    "    print('k=',k)\n",
    "    k=k+1"
   ]
  },
  {
   "cell_type": "code",
   "execution_count": 109,
   "id": "823b8bb2",
   "metadata": {},
   "outputs": [
    {
     "name": "stdout",
     "output_type": "stream",
     "text": [
      "the value of j= 0\n",
      "the value of j= 1\n",
      "the value of j= 2\n",
      "the value of j= 3\n",
      "the value of j= 4\n",
      "the value of j= 5\n"
     ]
    }
   ],
   "source": [
    "j=0\n",
    "while(j<=5):\n",
    "    print('the value of j=',j)\n",
    "    j=j+1"
   ]
  },
  {
   "cell_type": "code",
   "execution_count": 110,
   "id": "22699d48",
   "metadata": {},
   "outputs": [
    {
     "name": "stdout",
     "output_type": "stream",
     "text": [
      "0 1 2 3 4 5 6 7 8 9 "
     ]
    }
   ],
   "source": [
    "k=0\n",
    "while(k<10):\n",
    "    print(k,end=\" \")\n",
    "    k=k+1"
   ]
  },
  {
   "cell_type": "markdown",
   "id": "e8a5279c",
   "metadata": {},
   "source": [
    "# For loop"
   ]
  },
  {
   "cell_type": "code",
   "execution_count": 117,
   "id": "d5d5e5f5",
   "metadata": {},
   "outputs": [
    {
     "name": "stdout",
     "output_type": "stream",
     "text": [
      "1\n",
      "2\n",
      "3\n"
     ]
    }
   ],
   "source": [
    "for index in [1,2,3]:\n",
    "    print(index)"
   ]
  },
  {
   "cell_type": "code",
   "execution_count": 118,
   "id": "334d482d",
   "metadata": {},
   "outputs": [
    {
     "name": "stdout",
     "output_type": "stream",
     "text": [
      "0\n",
      "1\n",
      "2\n",
      "3\n",
      "4\n",
      "5\n",
      "6\n",
      "7\n",
      "8\n",
      "9\n"
     ]
    }
   ],
   "source": [
    "for i in range(10):\n",
    "    print(i)"
   ]
  },
  {
   "cell_type": "code",
   "execution_count": 119,
   "id": "0e69dd08",
   "metadata": {},
   "outputs": [
    {
     "name": "stdout",
     "output_type": "stream",
     "text": [
      "1\n",
      "2\n",
      "3\n",
      "4\n",
      "5\n"
     ]
    }
   ],
   "source": [
    "for index in [1,2,3,4,5]:\n",
    "    print(index)"
   ]
  },
  {
   "cell_type": "code",
   "execution_count": 120,
   "id": "ae507d77",
   "metadata": {},
   "outputs": [
    {
     "name": "stdout",
     "output_type": "stream",
     "text": [
      "100\n",
      "200\n",
      "300\n"
     ]
    }
   ],
   "source": [
    "for i in [100,200,300]:\n",
    "    print(i)"
   ]
  },
  {
   "cell_type": "code",
   "execution_count": 121,
   "id": "889a8419",
   "metadata": {},
   "outputs": [
    {
     "name": "stdout",
     "output_type": "stream",
     "text": [
      "a\n",
      "b\n",
      "c\n",
      "d\n"
     ]
    }
   ],
   "source": [
    "for p in ['a','b','c','d']:\n",
    "    print(p)"
   ]
  },
  {
   "cell_type": "code",
   "execution_count": 122,
   "id": "ae81f555",
   "metadata": {},
   "outputs": [
    {
     "name": "stdout",
     "output_type": "stream",
     "text": [
      "apple\n",
      "mango\n",
      "banana\n"
     ]
    }
   ],
   "source": [
    "for fruits in ['apple','mango','banana']:\n",
    "    print(fruits)"
   ]
  },
  {
   "cell_type": "code",
   "execution_count": null,
   "id": "6cad01bc",
   "metadata": {},
   "outputs": [],
   "source": []
  }
 ],
 "metadata": {
  "kernelspec": {
   "display_name": "Python 3 (ipykernel)",
   "language": "python",
   "name": "python3"
  },
  "language_info": {
   "codemirror_mode": {
    "name": "ipython",
    "version": 3
   },
   "file_extension": ".py",
   "mimetype": "text/x-python",
   "name": "python",
   "nbconvert_exporter": "python",
   "pygments_lexer": "ipython3",
   "version": "3.9.7"
  }
 },
 "nbformat": 4,
 "nbformat_minor": 5
}
