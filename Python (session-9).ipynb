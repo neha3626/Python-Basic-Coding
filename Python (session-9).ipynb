{
 "cells": [
  {
   "cell_type": "code",
   "execution_count": 1,
   "id": "a9972423",
   "metadata": {},
   "outputs": [
    {
     "data": {
      "text/plain": [
       "20"
      ]
     },
     "execution_count": 1,
     "metadata": {},
     "output_type": "execute_result"
    }
   ],
   "source": [
    "test=lambda x:x+x\n",
    "test(10)"
   ]
  },
  {
   "cell_type": "code",
   "execution_count": 2,
   "id": "b32e2b30",
   "metadata": {},
   "outputs": [
    {
     "data": {
      "text/plain": [
       "16"
      ]
     },
     "execution_count": 2,
     "metadata": {},
     "output_type": "execute_result"
    }
   ],
   "source": [
    "test(8)"
   ]
  },
  {
   "cell_type": "code",
   "execution_count": 3,
   "id": "e062e68c",
   "metadata": {},
   "outputs": [
    {
     "data": {
      "text/plain": [
       "40"
      ]
     },
     "execution_count": 3,
     "metadata": {},
     "output_type": "execute_result"
    }
   ],
   "source": [
    "test(20)"
   ]
  },
  {
   "cell_type": "code",
   "execution_count": 4,
   "id": "d7af77ac",
   "metadata": {},
   "outputs": [
    {
     "data": {
      "text/plain": [
       "7"
      ]
     },
     "execution_count": 4,
     "metadata": {},
     "output_type": "execute_result"
    }
   ],
   "source": [
    "test1add=lambda x,y : x+y\n",
    "test1add(2,5)"
   ]
  },
  {
   "cell_type": "code",
   "execution_count": 5,
   "id": "fd5e039e",
   "metadata": {},
   "outputs": [
    {
     "data": {
      "text/plain": [
       "30"
      ]
     },
     "execution_count": 5,
     "metadata": {},
     "output_type": "execute_result"
    }
   ],
   "source": [
    "test1add(10,20)"
   ]
  },
  {
   "cell_type": "code",
   "execution_count": 6,
   "id": "d47c131a",
   "metadata": {},
   "outputs": [
    {
     "data": {
      "text/plain": [
       "6"
      ]
     },
     "execution_count": 6,
     "metadata": {},
     "output_type": "execute_result"
    }
   ],
   "source": [
    "n=lambda x,y,z:x+y+z\n",
    "n(1,2,3)"
   ]
  },
  {
   "cell_type": "code",
   "execution_count": 7,
   "id": "f35ec50d",
   "metadata": {},
   "outputs": [
    {
     "data": {
      "text/plain": [
       "60"
      ]
     },
     "execution_count": 7,
     "metadata": {},
     "output_type": "execute_result"
    }
   ],
   "source": [
    "n(10,20,30)"
   ]
  },
  {
   "cell_type": "code",
   "execution_count": 8,
   "id": "41a697b7",
   "metadata": {},
   "outputs": [
    {
     "data": {
      "text/plain": [
       "16"
      ]
     },
     "execution_count": 8,
     "metadata": {},
     "output_type": "execute_result"
    }
   ],
   "source": [
    "m=lambda x:x**2\n",
    "m(4)"
   ]
  },
  {
   "cell_type": "code",
   "execution_count": 9,
   "id": "b5c79ba6",
   "metadata": {},
   "outputs": [
    {
     "data": {
      "text/plain": [
       "400"
      ]
     },
     "execution_count": 9,
     "metadata": {},
     "output_type": "execute_result"
    }
   ],
   "source": [
    "m(20)"
   ]
  },
  {
   "cell_type": "code",
   "execution_count": 10,
   "id": "a585f97a",
   "metadata": {},
   "outputs": [
    {
     "name": "stdout",
     "output_type": "stream",
     "text": [
      "value of total addvar : 30\n",
      "value of total addvar : 80\n"
     ]
    }
   ],
   "source": [
    "addvar=lambda arg1,arg2 :arg1+arg2\n",
    "print(\"value of total addvar :\",addvar(10,20))\n",
    "print(\"value of total addvar :\",addvar(30,50))"
   ]
  },
  {
   "cell_type": "code",
   "execution_count": 12,
   "id": "ae54991e",
   "metadata": {},
   "outputs": [],
   "source": [
    "# converting temperture in fahrenheit\n",
    "\n",
    "def fahrenheit(T):\n",
    "    return((9/5)*T+32)"
   ]
  },
  {
   "cell_type": "code",
   "execution_count": 13,
   "id": "4fac8194",
   "metadata": {},
   "outputs": [
    {
     "data": {
      "text/plain": [
       "95.0"
      ]
     },
     "execution_count": 13,
     "metadata": {},
     "output_type": "execute_result"
    }
   ],
   "source": [
    "fahrenheit(35)"
   ]
  },
  {
   "cell_type": "code",
   "execution_count": 14,
   "id": "a8dc199e",
   "metadata": {},
   "outputs": [],
   "source": [
    "def fahrenheit(T):\n",
    "    return((9/5)*T+32)"
   ]
  },
  {
   "cell_type": "code",
   "execution_count": 16,
   "id": "7a5d12ca",
   "metadata": {},
   "outputs": [
    {
     "data": {
      "text/plain": [
       "68.0"
      ]
     },
     "execution_count": 16,
     "metadata": {},
     "output_type": "execute_result"
    }
   ],
   "source": [
    "fahrenheit(20)"
   ]
  },
  {
   "cell_type": "code",
   "execution_count": 17,
   "id": "95a608b1",
   "metadata": {},
   "outputs": [
    {
     "data": {
      "text/plain": [
       "104.0"
      ]
     },
     "execution_count": 17,
     "metadata": {},
     "output_type": "execute_result"
    }
   ],
   "source": [
    "fahrenheit(40)"
   ]
  },
  {
   "cell_type": "code",
   "execution_count": 25,
   "id": "cbe18dfd",
   "metadata": {},
   "outputs": [],
   "source": [
    "# converting temperture in celsius\n",
    "\n",
    "def celsius(T):\n",
    "    return ((5/9)*(T-32))"
   ]
  },
  {
   "cell_type": "code",
   "execution_count": 26,
   "id": "acc052a1",
   "metadata": {},
   "outputs": [
    {
     "data": {
      "text/plain": [
       "35.0"
      ]
     },
     "execution_count": 26,
     "metadata": {},
     "output_type": "execute_result"
    }
   ],
   "source": [
    "celsius(95)"
   ]
  },
  {
   "cell_type": "code",
   "execution_count": 29,
   "id": "4d9c0103",
   "metadata": {},
   "outputs": [],
   "source": [
    "def celsius1(T):\n",
    "    return ((5/9)*(T-32))"
   ]
  },
  {
   "cell_type": "code",
   "execution_count": 30,
   "id": "53f1aa54",
   "metadata": {},
   "outputs": [
    {
     "data": {
      "text/plain": [
       "35.0"
      ]
     },
     "execution_count": 30,
     "metadata": {},
     "output_type": "execute_result"
    }
   ],
   "source": [
    "celsius1(95)"
   ]
  },
  {
   "cell_type": "code",
   "execution_count": 36,
   "id": "55746b34",
   "metadata": {},
   "outputs": [
    {
     "data": {
      "text/plain": [
       "17.77777777777778"
      ]
     },
     "execution_count": 36,
     "metadata": {},
     "output_type": "execute_result"
    }
   ],
   "source": [
    "celsius1(64)"
   ]
  },
  {
   "cell_type": "code",
   "execution_count": 31,
   "id": "517db9fd",
   "metadata": {},
   "outputs": [],
   "source": [
    "def fahrenheit(T):\n",
    "    return ((9/5)*T+32)"
   ]
  },
  {
   "cell_type": "code",
   "execution_count": 32,
   "id": "29202119",
   "metadata": {},
   "outputs": [
    {
     "data": {
      "text/plain": [
       "89.6"
      ]
     },
     "execution_count": 32,
     "metadata": {},
     "output_type": "execute_result"
    }
   ],
   "source": [
    "fahrenheit(32)"
   ]
  },
  {
   "cell_type": "code",
   "execution_count": 33,
   "id": "6bea6b69",
   "metadata": {},
   "outputs": [],
   "source": [
    "def celsius(T):\n",
    "    return ((5/9)*(T-32))"
   ]
  },
  {
   "cell_type": "code",
   "execution_count": 34,
   "id": "53e9396b",
   "metadata": {},
   "outputs": [
    {
     "data": {
      "text/plain": [
       "35.0"
      ]
     },
     "execution_count": 34,
     "metadata": {},
     "output_type": "execute_result"
    }
   ],
   "source": [
    "celsius(95)"
   ]
  },
  {
   "cell_type": "code",
   "execution_count": 35,
   "id": "ac0292e5",
   "metadata": {},
   "outputs": [
    {
     "data": {
      "text/plain": [
       "32.22222222222222"
      ]
     },
     "execution_count": 35,
     "metadata": {},
     "output_type": "execute_result"
    }
   ],
   "source": [
    "celsius(90)"
   ]
  },
  {
   "cell_type": "code",
   "execution_count": 37,
   "id": "c68fa057",
   "metadata": {},
   "outputs": [],
   "source": [
    "def testin():\n",
    "    x=int(input(\"enter any value of x\"))\n",
    "    y=int(input(\"enter any value of y\"))\n",
    "    t=lambda x,y :x*y\n",
    "    print(t(x,y))\n",
    "    "
   ]
  },
  {
   "cell_type": "code",
   "execution_count": 38,
   "id": "5bb4f593",
   "metadata": {},
   "outputs": [
    {
     "name": "stdout",
     "output_type": "stream",
     "text": [
      "enter any value of x20\n",
      "enter any value of y40\n",
      "800\n"
     ]
    }
   ],
   "source": [
    "testin()"
   ]
  },
  {
   "cell_type": "code",
   "execution_count": 39,
   "id": "12760026",
   "metadata": {},
   "outputs": [
    {
     "name": "stdout",
     "output_type": "stream",
     "text": [
      "enter any value of x4\n",
      "enter any value of y5\n",
      "20\n"
     ]
    }
   ],
   "source": [
    "testin()"
   ]
  },
  {
   "cell_type": "code",
   "execution_count": 41,
   "id": "6253758c",
   "metadata": {},
   "outputs": [
    {
     "data": {
      "text/plain": [
       "89.6"
      ]
     },
     "execution_count": 41,
     "metadata": {},
     "output_type": "execute_result"
    }
   ],
   "source": [
    "\n",
    "# lambda with forhenheit\n",
    "\n",
    "f=lambda x: (9/5)*x+32;\n",
    "f(32)"
   ]
  },
  {
   "cell_type": "code",
   "execution_count": 44,
   "id": "1bfbf4ce",
   "metadata": {},
   "outputs": [
    {
     "data": {
      "text/plain": [
       "62.6"
      ]
     },
     "execution_count": 44,
     "metadata": {},
     "output_type": "execute_result"
    }
   ],
   "source": [
    "g=lambda x:9/5*x+32;\n",
    "g(17)"
   ]
  },
  {
   "cell_type": "code",
   "execution_count": 45,
   "id": "15ed8b0e",
   "metadata": {},
   "outputs": [
    {
     "data": {
      "text/plain": [
       "20.77777777777778"
      ]
     },
     "execution_count": 45,
     "metadata": {},
     "output_type": "execute_result"
    }
   ],
   "source": [
    "# lambda with celsius\n",
    "\n",
    "f=lambda  x:(5/9)*x-32;\n",
    "f(95)"
   ]
  },
  {
   "cell_type": "code",
   "execution_count": 47,
   "id": "f65f8154",
   "metadata": {},
   "outputs": [
    {
     "data": {
      "text/plain": [
       "17.77777777777778"
      ]
     },
     "execution_count": 47,
     "metadata": {},
     "output_type": "execute_result"
    }
   ],
   "source": [
    "h=lambda x:5/9*(x-32);\n",
    "h(64)"
   ]
  },
  {
   "cell_type": "code",
   "execution_count": 64,
   "id": "d451577a",
   "metadata": {},
   "outputs": [],
   "source": [
    "list=['apple','mango','banana','pear']"
   ]
  },
  {
   "cell_type": "code",
   "execution_count": 65,
   "id": "ba4dbc19",
   "metadata": {},
   "outputs": [
    {
     "data": {
      "text/plain": [
       "['apple', 'mango', 'banana', 'pear']"
      ]
     },
     "execution_count": 65,
     "metadata": {},
     "output_type": "execute_result"
    }
   ],
   "source": [
    "list[:]"
   ]
  },
  {
   "cell_type": "code",
   "execution_count": 66,
   "id": "410bdd66",
   "metadata": {},
   "outputs": [],
   "source": [
    "list.append('grapes')"
   ]
  },
  {
   "cell_type": "code",
   "execution_count": 67,
   "id": "0f914055",
   "metadata": {},
   "outputs": [
    {
     "data": {
      "text/plain": [
       "['apple', 'mango', 'banana', 'pear', 'grapes']"
      ]
     },
     "execution_count": 67,
     "metadata": {},
     "output_type": "execute_result"
    }
   ],
   "source": [
    "list"
   ]
  },
  {
   "cell_type": "code",
   "execution_count": 68,
   "id": "ef39bfa6",
   "metadata": {},
   "outputs": [],
   "source": [
    "list.insert(1,'g')"
   ]
  },
  {
   "cell_type": "code",
   "execution_count": 69,
   "id": "71a98ae6",
   "metadata": {},
   "outputs": [
    {
     "data": {
      "text/plain": [
       "['apple', 'g', 'mango', 'banana', 'pear', 'grapes']"
      ]
     },
     "execution_count": 69,
     "metadata": {},
     "output_type": "execute_result"
    }
   ],
   "source": [
    "list"
   ]
  },
  {
   "cell_type": "code",
   "execution_count": 70,
   "id": "0a9bd30a",
   "metadata": {},
   "outputs": [],
   "source": [
    "dict={'age':20,'name':'neha','gender':'female'}"
   ]
  },
  {
   "cell_type": "code",
   "execution_count": 71,
   "id": "09932d97",
   "metadata": {},
   "outputs": [
    {
     "data": {
      "text/plain": [
       "{'age': 20, 'name': 'neha', 'gender': 'female'}"
      ]
     },
     "execution_count": 71,
     "metadata": {},
     "output_type": "execute_result"
    }
   ],
   "source": [
    "dict"
   ]
  },
  {
   "cell_type": "code",
   "execution_count": 116,
   "id": "0a61f623",
   "metadata": {},
   "outputs": [
    {
     "data": {
      "text/plain": [
       "[0, 2, 4, 6, 8, 10]"
      ]
     },
     "execution_count": 116,
     "metadata": {},
     "output_type": "execute_result"
    }
   ],
   "source": [
    "# you can do it by list comprehence\n",
    "[x for x in range(11) if x%2 ==0]"
   ]
  },
  {
   "cell_type": "code",
   "execution_count": null,
   "id": "5cebc782",
   "metadata": {},
   "outputs": [],
   "source": []
  }
 ],
 "metadata": {
  "kernelspec": {
   "display_name": "Python 3 (ipykernel)",
   "language": "python",
   "name": "python3"
  },
  "language_info": {
   "codemirror_mode": {
    "name": "ipython",
    "version": 3
   },
   "file_extension": ".py",
   "mimetype": "text/x-python",
   "name": "python",
   "nbconvert_exporter": "python",
   "pygments_lexer": "ipython3",
   "version": "3.9.7"
  }
 },
 "nbformat": 4,
 "nbformat_minor": 5
}
