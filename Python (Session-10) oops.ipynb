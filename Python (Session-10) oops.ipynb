{
 "cells": [
  {
   "cell_type": "markdown",
   "id": "7d14959a",
   "metadata": {},
   "source": [
    "# Oops-object oriented programming systems/technology"
   ]
  },
  {
   "cell_type": "code",
   "execution_count": null,
   "id": "7e3bf747",
   "metadata": {},
   "outputs": [],
   "source": []
  },
  {
   "cell_type": "code",
   "execution_count": 1,
   "id": "32be5535",
   "metadata": {},
   "outputs": [],
   "source": [
    "class student:\n",
    "    # initializiation/constructure\n",
    "    def __init__(self,sid,sname):\n",
    "        self.sid=sid\n",
    "        self.sname=sname\n",
    "        \n",
    "        # member function\n",
    "    def display(self):\n",
    "        print('student id=',self.sid,'student name=',self.sname)"
   ]
  },
  {
   "cell_type": "code",
   "execution_count": 2,
   "id": "db6693db",
   "metadata": {},
   "outputs": [
    {
     "name": "stdout",
     "output_type": "stream",
     "text": [
      "student id= 10 student name= jack\n"
     ]
    }
   ],
   "source": [
    "#objective/intance creation\n",
    "\n",
    "stud1=student(10,\"jack\")\n",
    "\n",
    "stud1.display()"
   ]
  },
  {
   "cell_type": "code",
   "execution_count": 3,
   "id": "8b903203",
   "metadata": {},
   "outputs": [
    {
     "name": "stdout",
     "output_type": "stream",
     "text": [
      "student id= 12 student name= neha\n"
     ]
    }
   ],
   "source": [
    "stud2=student(12,'neha')\n",
    "stud2.display()"
   ]
  },
  {
   "cell_type": "code",
   "execution_count": 4,
   "id": "d494678c",
   "metadata": {},
   "outputs": [
    {
     "data": {
      "text/plain": [
       "10"
      ]
     },
     "execution_count": 4,
     "metadata": {},
     "output_type": "execute_result"
    }
   ],
   "source": [
    "stud1.sid"
   ]
  },
  {
   "cell_type": "code",
   "execution_count": 5,
   "id": "c4f9c51c",
   "metadata": {},
   "outputs": [
    {
     "data": {
      "text/plain": [
       "12"
      ]
     },
     "execution_count": 5,
     "metadata": {},
     "output_type": "execute_result"
    }
   ],
   "source": [
    "stud2.sid"
   ]
  },
  {
   "cell_type": "code",
   "execution_count": 6,
   "id": "79c3b0c4",
   "metadata": {},
   "outputs": [
    {
     "data": {
      "text/plain": [
       "'jack'"
      ]
     },
     "execution_count": 6,
     "metadata": {},
     "output_type": "execute_result"
    }
   ],
   "source": [
    "stud1.sname"
   ]
  },
  {
   "cell_type": "code",
   "execution_count": 7,
   "id": "fef6d7eb",
   "metadata": {},
   "outputs": [
    {
     "data": {
      "text/plain": [
       "'neha'"
      ]
     },
     "execution_count": 7,
     "metadata": {},
     "output_type": "execute_result"
    }
   ],
   "source": [
    "stud2.sname"
   ]
  },
  {
   "cell_type": "code",
   "execution_count": 8,
   "id": "76fab03a",
   "metadata": {},
   "outputs": [],
   "source": [
    "# Intance variable & class variable\n"
   ]
  },
  {
   "cell_type": "code",
   "execution_count": 11,
   "id": "a752e3dd",
   "metadata": {},
   "outputs": [],
   "source": [
    "class employee:\n",
    "    def __init__(self,name,age,id,salary):\n",
    "        self.name=name\n",
    "        self.age=age\n",
    "        self.id=id\n",
    "        self.salary=salary\n",
    "        \n",
    "    def display(self):\n",
    "        print('inside display function')\n",
    "        print(self.name,self.age,self.id,self.salary)"
   ]
  },
  {
   "cell_type": "code",
   "execution_count": 12,
   "id": "1e480000",
   "metadata": {},
   "outputs": [
    {
     "name": "stdout",
     "output_type": "stream",
     "text": [
      "inside display function\n",
      "john 26 101 2000\n",
      "inside display function\n",
      "rani 25 102 2500\n"
     ]
    }
   ],
   "source": [
    "# object/intance creation\n",
    "\n",
    "emp1=employee(\"john\",26,101,2000)\n",
    "emp2=employee(\"rani\",25,102,2500)\n",
    "\n",
    "emp1.display()\n",
    "emp2.display()"
   ]
  },
  {
   "cell_type": "code",
   "execution_count": 13,
   "id": "c4c01950",
   "metadata": {},
   "outputs": [],
   "source": [
    "def main():\n",
    "    emp1=employee(\"john\",26,101,2000)\n",
    "    emp1.display()\n",
    "    \n",
    "def main():\n",
    "    emp2=employee(\"rani\",25,102,2500)\n",
    "    emp2.display()\n"
   ]
  },
  {
   "cell_type": "code",
   "execution_count": 14,
   "id": "0747195b",
   "metadata": {},
   "outputs": [
    {
     "name": "stdout",
     "output_type": "stream",
     "text": [
      "inside display function\n",
      "rani 25 102 2500\n",
      "inside display function\n",
      "rani 25 102 2500\n"
     ]
    }
   ],
   "source": [
    "if __name__==\"__main__\":\n",
    "    main()\n",
    "    \n",
    "if __name__==\"__main__\":\n",
    "    main()\n",
    "    \n",
    "    "
   ]
  },
  {
   "cell_type": "code",
   "execution_count": 25,
   "id": "b7fd3b9a",
   "metadata": {},
   "outputs": [],
   "source": [
    "class student1:\n",
    "    def __init__(self,sname,sid):\n",
    "        self.sname=sname\n",
    "        self.sid=sid\n",
    "        \n",
    "    def display(self):\n",
    "        print('student name=',self.sname,'student id=',self.sid)"
   ]
  },
  {
   "cell_type": "code",
   "execution_count": 26,
   "id": "498329b0",
   "metadata": {},
   "outputs": [
    {
     "name": "stdout",
     "output_type": "stream",
     "text": [
      "student name= John student id= 10\n"
     ]
    }
   ],
   "source": [
    "st=student1('John',10)\n",
    "st.display()"
   ]
  },
  {
   "cell_type": "code",
   "execution_count": 30,
   "id": "d100697d",
   "metadata": {},
   "outputs": [
    {
     "name": "stdout",
     "output_type": "stream",
     "text": [
      "student name= Andrew student id= 11\n"
     ]
    }
   ],
   "source": [
    "st1=student1('Andrew',11)\n",
    "st1.display()"
   ]
  },
  {
   "cell_type": "code",
   "execution_count": 31,
   "id": "2d60b38d",
   "metadata": {},
   "outputs": [
    {
     "data": {
      "text/plain": [
       "11"
      ]
     },
     "execution_count": 31,
     "metadata": {},
     "output_type": "execute_result"
    }
   ],
   "source": [
    "st1.sid"
   ]
  },
  {
   "cell_type": "code",
   "execution_count": 33,
   "id": "f3e72efe",
   "metadata": {},
   "outputs": [
    {
     "data": {
      "text/plain": [
       "'John'"
      ]
     },
     "execution_count": 33,
     "metadata": {},
     "output_type": "execute_result"
    }
   ],
   "source": [
    "st.sname"
   ]
  },
  {
   "cell_type": "code",
   "execution_count": 44,
   "id": "f543ebba",
   "metadata": {},
   "outputs": [],
   "source": [
    "class employee:\n",
    "    salary=9000 # class variable\n",
    "    \n",
    "    def __init__(self,empid,empname,position): # instance variable\n",
    "        self.empid=empid\n",
    "        self.empname=empname\n",
    "        self.position=position\n",
    "        \n",
    "    def display(self):\n",
    "        print('emp id = ',self.empid,'emp name=','position=',self.position)\n",
    "        "
   ]
  },
  {
   "cell_type": "code",
   "execution_count": 40,
   "id": "38a20683",
   "metadata": {},
   "outputs": [
    {
     "name": "stdout",
     "output_type": "stream",
     "text": [
      "emp id =  200 emp name= position= Manager\n"
     ]
    }
   ],
   "source": [
    "emp1=employee(200,'lisa','Manager')\n",
    "emp1.display()"
   ]
  },
  {
   "cell_type": "code",
   "execution_count": 41,
   "id": "8a38f048",
   "metadata": {},
   "outputs": [
    {
     "name": "stdout",
     "output_type": "stream",
     "text": [
      "emp id =  201 emp name= position= director\n"
     ]
    }
   ],
   "source": [
    "emp2=employee(201,'john','director')\n",
    "emp2.display()"
   ]
  },
  {
   "cell_type": "code",
   "execution_count": 42,
   "id": "98af08c7",
   "metadata": {},
   "outputs": [
    {
     "data": {
      "text/plain": [
       "201"
      ]
     },
     "execution_count": 42,
     "metadata": {},
     "output_type": "execute_result"
    }
   ],
   "source": [
    "emp2.empid"
   ]
  },
  {
   "cell_type": "code",
   "execution_count": 43,
   "id": "6f2fbb83",
   "metadata": {},
   "outputs": [
    {
     "data": {
      "text/plain": [
       "'john'"
      ]
     },
     "execution_count": 43,
     "metadata": {},
     "output_type": "execute_result"
    }
   ],
   "source": [
    "emp2.empname"
   ]
  },
  {
   "cell_type": "code",
   "execution_count": 47,
   "id": "45ef1145",
   "metadata": {},
   "outputs": [
    {
     "data": {
      "text/plain": [
       "9000"
      ]
     },
     "execution_count": 47,
     "metadata": {},
     "output_type": "execute_result"
    }
   ],
   "source": [
    "employee.salary # it means we can access class variable directly with class name"
   ]
  },
  {
   "cell_type": "code",
   "execution_count": 49,
   "id": "05c950d0",
   "metadata": {},
   "outputs": [
    {
     "ename": "AttributeError",
     "evalue": "type object 'employee' has no attribute 'emp2'",
     "output_type": "error",
     "traceback": [
      "\u001b[1;31m---------------------------------------------------------------------------\u001b[0m",
      "\u001b[1;31mAttributeError\u001b[0m                            Traceback (most recent call last)",
      "\u001b[1;32m~\\AppData\\Local\\Temp/ipykernel_2560/2752523311.py\u001b[0m in \u001b[0;36m<module>\u001b[1;34m\u001b[0m\n\u001b[1;32m----> 1\u001b[1;33m \u001b[0memployee\u001b[0m\u001b[1;33m.\u001b[0m\u001b[0memp2\u001b[0m \u001b[1;31m# it means we can not access instance variable directly with class name\u001b[0m\u001b[1;33m\u001b[0m\u001b[1;33m\u001b[0m\u001b[0m\n\u001b[0m",
      "\u001b[1;31mAttributeError\u001b[0m: type object 'employee' has no attribute 'emp2'"
     ]
    }
   ],
   "source": [
    "employee.emp2 # it means we can not access instance variable directly with class name"
   ]
  },
  {
   "cell_type": "code",
   "execution_count": 58,
   "id": "4921e93c",
   "metadata": {},
   "outputs": [],
   "source": [
    "class person():\n",
    "    def __init__(self,name,age,gender):\n",
    "        self.name=name\n",
    "        self.age=age\n",
    "        self.gender=gender\n",
    "        \n",
    "    def display(self):\n",
    "        print('Name',self.name,'Age',self.age,'Gender',self.gender)"
   ]
  },
  {
   "cell_type": "code",
   "execution_count": 59,
   "id": "1818f7a3",
   "metadata": {},
   "outputs": [],
   "source": [
    "def main(): # where the instance is created\n",
    "    p1=person(\"neha\",27,\"female\")\n",
    "    p1.display()\n",
    "    \n",
    "def main():\n",
    "    p2=person('venktesh',33,'male')\n",
    "    p2.display()"
   ]
  },
  {
   "cell_type": "code",
   "execution_count": 60,
   "id": "38f41e46",
   "metadata": {},
   "outputs": [
    {
     "name": "stdout",
     "output_type": "stream",
     "text": [
      "Name venktesh Age 33 Gender male\n",
      "Name venktesh Age 33 Gender male\n"
     ]
    }
   ],
   "source": [
    "if __name__==\"__main__\":\n",
    "    main()\n",
    "    \n",
    "if __name__==\"__main__\":\n",
    "    main()"
   ]
  },
  {
   "cell_type": "markdown",
   "id": "7a3244c6",
   "metadata": {},
   "source": [
    "create a class company "
   ]
  },
  {
   "cell_type": "code",
   "execution_count": 63,
   "id": "3d2d4b36",
   "metadata": {},
   "outputs": [],
   "source": [
    "class company():\n",
    "    revenue=80000 # class variable\n",
    "    def __init__(self,location,name,no_of_emp): # instance variable\n",
    "        self.location=location\n",
    "        self.name=name\n",
    "        self.no_of_emp=no_of_emp"
   ]
  },
  {
   "cell_type": "code",
   "execution_count": 64,
   "id": "49e06d48",
   "metadata": {},
   "outputs": [
    {
     "name": "stdout",
     "output_type": "stream",
     "text": [
      "Molix\n",
      "noida\n",
      "50\n"
     ]
    }
   ],
   "source": [
    "c=company('noida','Molix',50)\n",
    "print(c.name)\n",
    "print(c.location)\n",
    "print(c.no_of_emp)"
   ]
  },
  {
   "cell_type": "code",
   "execution_count": 65,
   "id": "d3824310",
   "metadata": {},
   "outputs": [
    {
     "data": {
      "text/plain": [
       "80000"
      ]
     },
     "execution_count": 65,
     "metadata": {},
     "output_type": "execute_result"
    }
   ],
   "source": [
    "company.revenue"
   ]
  },
  {
   "cell_type": "code",
   "execution_count": 78,
   "id": "179efaf2",
   "metadata": {},
   "outputs": [],
   "source": [
    "class Employee:\n",
    "    def __init__(self,name,age):\n",
    "        print('initialized method called')\n",
    "        self.name=name\n",
    "        self.age=age\n",
    "        \n",
    "    def getdata(self,name,age):\n",
    "        print('get method called')\n",
    "        self.name=name\n",
    "        self.age=age\n",
    "        \n",
    "    def displaydata(self):\n",
    "        print('hello',self.name,self.age)"
   ]
  },
  {
   "cell_type": "code",
   "execution_count": 79,
   "id": "95bdd73e",
   "metadata": {},
   "outputs": [],
   "source": [
    "def main():\n",
    "    e=Employee('willian',29)\n",
    "    e.displaydata()\n",
    "    \n",
    "    e.getdata('john',30)\n",
    "    e.displaydata()"
   ]
  },
  {
   "cell_type": "code",
   "execution_count": 80,
   "id": "272b9eb3",
   "metadata": {},
   "outputs": [
    {
     "name": "stdout",
     "output_type": "stream",
     "text": [
      "initialized method called\n",
      "hello willian 29\n",
      "get method called\n",
      "hello john 30\n"
     ]
    }
   ],
   "source": [
    "if __name__==\"__main__\":\n",
    "    main()"
   ]
  },
  {
   "cell_type": "code",
   "execution_count": 84,
   "id": "20a37634",
   "metadata": {},
   "outputs": [],
   "source": [
    "class player:\n",
    "    \n",
    "    def __init__(self,name,age,sport):\n",
    "        print('Players details from initialized method')\n",
    "        self.name=name\n",
    "        self.age=age\n",
    "        self.sport=sport\n",
    "        \n",
    "    def getdata(self,name,age,sport):\n",
    "        print('Players details from get method')\n",
    "        self.name=name\n",
    "        self.age=age\n",
    "        self.sport=sport\n",
    "        \n",
    "    def displaydata(self):\n",
    "        print('Name',self.name,'Age',self.age,'sport',self.sport)\n",
    "        "
   ]
  },
  {
   "cell_type": "code",
   "execution_count": 89,
   "id": "cac81596",
   "metadata": {},
   "outputs": [],
   "source": [
    "def main():\n",
    "    p=player('Virat',34,'Cricket') # here initialize will work\n",
    "    p.displaydata()\n",
    "    \n",
    "    p.getdata('dhoni',50,'Cricket') # get method will work\n",
    "    p.displaydata()\n",
    "    \n",
    "    p1=player('Vivan',30,'Cricket')\n",
    "    p1.displaydata()\n",
    "    \n",
    "    p1.getdata('Richad',50,'tennis') # get method will work\n",
    "    p1.displaydata()"
   ]
  },
  {
   "cell_type": "code",
   "execution_count": 90,
   "id": "19791373",
   "metadata": {},
   "outputs": [
    {
     "name": "stdout",
     "output_type": "stream",
     "text": [
      "Players details from initialized method\n",
      "Name Virat Age 34 sport Cricket\n",
      "Players details from get method\n",
      "Name dhoni Age 50 sport Cricket\n",
      "Players details from initialized method\n",
      "Name Vivan Age 30 sport Cricket\n",
      "Players details from get method\n",
      "Name Richad Age 50 sport tennis\n"
     ]
    }
   ],
   "source": [
    "if __name__==\"__main__\":\n",
    "    main()"
   ]
  },
  {
   "cell_type": "code",
   "execution_count": null,
   "id": "eb314dea",
   "metadata": {},
   "outputs": [],
   "source": []
  }
 ],
 "metadata": {
  "kernelspec": {
   "display_name": "Python 3 (ipykernel)",
   "language": "python",
   "name": "python3"
  },
  "language_info": {
   "codemirror_mode": {
    "name": "ipython",
    "version": 3
   },
   "file_extension": ".py",
   "mimetype": "text/x-python",
   "name": "python",
   "nbconvert_exporter": "python",
   "pygments_lexer": "ipython3",
   "version": "3.9.7"
  }
 },
 "nbformat": 4,
 "nbformat_minor": 5
}
