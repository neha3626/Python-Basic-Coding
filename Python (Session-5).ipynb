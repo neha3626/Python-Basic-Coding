{
 "cells": [
  {
   "cell_type": "markdown",
   "id": "3c7762c4",
   "metadata": {},
   "source": [
    "Range function-they providing us the sequence of integers."
   ]
  },
  {
   "cell_type": "code",
   "execution_count": 1,
   "id": "9654c432",
   "metadata": {},
   "outputs": [
    {
     "data": {
      "text/plain": [
       "range(0, 5)"
      ]
     },
     "execution_count": 1,
     "metadata": {},
     "output_type": "execute_result"
    }
   ],
   "source": [
    "range(5)"
   ]
  },
  {
   "cell_type": "code",
   "execution_count": 2,
   "id": "9b023e75",
   "metadata": {},
   "outputs": [
    {
     "data": {
      "text/plain": [
       "[0, 1, 2, 3, 4]"
      ]
     },
     "execution_count": 2,
     "metadata": {},
     "output_type": "execute_result"
    }
   ],
   "source": [
    "list(range(5))"
   ]
  },
  {
   "cell_type": "code",
   "execution_count": 3,
   "id": "554eb6a1",
   "metadata": {},
   "outputs": [
    {
     "data": {
      "text/plain": [
       "range(0, 8)"
      ]
     },
     "execution_count": 3,
     "metadata": {},
     "output_type": "execute_result"
    }
   ],
   "source": [
    "range(8)"
   ]
  },
  {
   "cell_type": "code",
   "execution_count": 4,
   "id": "74c28989",
   "metadata": {},
   "outputs": [
    {
     "data": {
      "text/plain": [
       "[0, 1, 2, 3, 4, 5, 6, 7]"
      ]
     },
     "execution_count": 4,
     "metadata": {},
     "output_type": "execute_result"
    }
   ],
   "source": [
    "list(range(8))"
   ]
  },
  {
   "cell_type": "code",
   "execution_count": 5,
   "id": "5a6835cf",
   "metadata": {},
   "outputs": [
    {
     "name": "stdout",
     "output_type": "stream",
     "text": [
      "0\n",
      "1\n",
      "2\n",
      "3\n",
      "4\n"
     ]
    }
   ],
   "source": [
    "for i in range(5):\n",
    "    print(i)"
   ]
  },
  {
   "cell_type": "code",
   "execution_count": 6,
   "id": "256c408f",
   "metadata": {},
   "outputs": [
    {
     "name": "stdout",
     "output_type": "stream",
     "text": [
      "0\n",
      "1\n",
      "2\n",
      "3\n",
      "4\n",
      "5\n",
      "6\n",
      "7\n",
      "8\n",
      "9\n"
     ]
    }
   ],
   "source": [
    "for i in range(10):\n",
    "    print(i)"
   ]
  },
  {
   "cell_type": "code",
   "execution_count": 8,
   "id": "04b709a6",
   "metadata": {},
   "outputs": [
    {
     "name": "stdout",
     "output_type": "stream",
     "text": [
      "[0, 1, 2, 3, 4, 5, 6, 7, 8, 9]\n",
      "0 1 2 3 4 5 6 7 8 9 "
     ]
    }
   ],
   "source": [
    "b=list(range(10))\n",
    "\n",
    "print(b)\n",
    "\n",
    "for j in b:\n",
    "    print(j,end=\" \")"
   ]
  },
  {
   "cell_type": "code",
   "execution_count": 9,
   "id": "29518aac",
   "metadata": {},
   "outputs": [
    {
     "name": "stdout",
     "output_type": "stream",
     "text": [
      "[0, 1, 2, 3, 4, 5, 6, 7]\n"
     ]
    }
   ],
   "source": [
    "c=list(range(8))\n",
    "\n",
    "print(c)"
   ]
  },
  {
   "cell_type": "code",
   "execution_count": 10,
   "id": "0ad034f7",
   "metadata": {},
   "outputs": [
    {
     "name": "stdout",
     "output_type": "stream",
     "text": [
      "0    1    2    3    4    5    6    7    "
     ]
    }
   ],
   "source": [
    "for k in c:\n",
    "    print(k,end=\"    \")"
   ]
  },
  {
   "cell_type": "code",
   "execution_count": 14,
   "id": "5073ff60",
   "metadata": {},
   "outputs": [
    {
     "name": "stdout",
     "output_type": "stream",
     "text": [
      "0   1   2   3   4   5   "
     ]
    }
   ],
   "source": [
    "range(6)\n",
    "\n",
    "for i in range(6):\n",
    "    print(i,end=\"   \")"
   ]
  },
  {
   "cell_type": "code",
   "execution_count": 19,
   "id": "83a1d0e2",
   "metadata": {},
   "outputs": [
    {
     "name": "stdout",
     "output_type": "stream",
     "text": [
      "[0, 1, 2, 3, 4, 5, 6, 7, 8, 9]\n"
     ]
    }
   ],
   "source": [
    "e=list(range(10))\n",
    "\n",
    "print(e)"
   ]
  },
  {
   "cell_type": "code",
   "execution_count": 21,
   "id": "38d33ee8",
   "metadata": {},
   "outputs": [
    {
     "name": "stdout",
     "output_type": "stream",
     "text": [
      "0 1 2 3 4 5 6 7 8 9 "
     ]
    }
   ],
   "source": [
    "for i in e:\n",
    "    print(i,end=\" \")"
   ]
  },
  {
   "cell_type": "code",
   "execution_count": 22,
   "id": "18dc73ff",
   "metadata": {},
   "outputs": [
    {
     "name": "stdout",
     "output_type": "stream",
     "text": [
      "0\n",
      "1\n",
      "2\n",
      "3\n",
      "4\n",
      "5\n"
     ]
    }
   ],
   "source": [
    "for i in [0,1,2,3,4,5]:\n",
    "    print(i)"
   ]
  },
  {
   "cell_type": "markdown",
   "id": "d27025f8",
   "metadata": {},
   "source": [
    "If- Else constructs"
   ]
  },
  {
   "cell_type": "code",
   "execution_count": 23,
   "id": "4e36266e",
   "metadata": {},
   "outputs": [
    {
     "name": "stdout",
     "output_type": "stream",
     "text": [
      "very good\n"
     ]
    }
   ],
   "source": [
    "marks=90\n",
    "\n",
    "if marks>50:\n",
    "    print('very good')\n",
    "    \n",
    "else:\n",
    "    print('not good')"
   ]
  },
  {
   "cell_type": "code",
   "execution_count": 24,
   "id": "d29fcbbf",
   "metadata": {
    "scrolled": true
   },
   "outputs": [
    {
     "name": "stdout",
     "output_type": "stream",
     "text": [
      "enter any marks100\n",
      "excellent\n"
     ]
    }
   ],
   "source": [
    "marks=int(input('enter any marks'))\n",
    "\n",
    "if marks>50:\n",
    "    print('excellent')\n",
    "    \n",
    "else:\n",
    "    print('not good')"
   ]
  },
  {
   "cell_type": "code",
   "execution_count": 27,
   "id": "65b0765d",
   "metadata": {},
   "outputs": [
    {
     "name": "stdout",
     "output_type": "stream",
     "text": [
      "Excelent\n"
     ]
    }
   ],
   "source": [
    "marks=40\n",
    "\n",
    "if marks>20:\n",
    "    print('Excelent')\n",
    "else:\n",
    "    print('poor')"
   ]
  },
  {
   "cell_type": "code",
   "execution_count": 28,
   "id": "925f6e89",
   "metadata": {},
   "outputs": [
    {
     "name": "stdout",
     "output_type": "stream",
     "text": [
      "poor\n"
     ]
    }
   ],
   "source": [
    "marks=40\n",
    "\n",
    "if marks<20:\n",
    "    print('Excelent')\n",
    "else:\n",
    "    print('poor')"
   ]
  },
  {
   "cell_type": "code",
   "execution_count": 29,
   "id": "3d6d608f",
   "metadata": {},
   "outputs": [
    {
     "name": "stdout",
     "output_type": "stream",
     "text": [
      "enter any number12\n",
      "the value of even\n"
     ]
    }
   ],
   "source": [
    "y=int(input('enter any number'))\n",
    "\n",
    "if y%2==0:\n",
    "    print('the value of even')\n",
    "    \n",
    "else:\n",
    "    print('the value of odd')"
   ]
  },
  {
   "cell_type": "code",
   "execution_count": 30,
   "id": "b8dadd19",
   "metadata": {},
   "outputs": [
    {
     "name": "stdout",
     "output_type": "stream",
     "text": [
      "please enter any no13\n",
      "the value is odd\n"
     ]
    }
   ],
   "source": [
    "x=int(input('please enter any no'))\n",
    "\n",
    "if x%3==0:\n",
    "    print('the value is even')  \n",
    "else:\n",
    "    print('the value is odd')"
   ]
  },
  {
   "cell_type": "code",
   "execution_count": 32,
   "id": "3da2ee83",
   "metadata": {},
   "outputs": [
    {
     "name": "stdout",
     "output_type": "stream",
     "text": [
      "enter any number9\n",
      "the value of odd\n",
      "end\n"
     ]
    }
   ],
   "source": [
    "z=int(input('enter any number'))\n",
    "\n",
    "if z%2!=0:\n",
    "    print('the value of odd')\n",
    "    \n",
    "else:\n",
    "    print('the value of even')\n",
    "    \n",
    "\n",
    "print('end')"
   ]
  },
  {
   "cell_type": "code",
   "execution_count": 33,
   "id": "9c3a4344",
   "metadata": {},
   "outputs": [
    {
     "name": "stdout",
     "output_type": "stream",
     "text": [
      "enter any number10\n",
      "the value of k 10 is even number\n"
     ]
    }
   ],
   "source": [
    "k=int(input('enter any number'))\n",
    "\n",
    "if k%2!=0:\n",
    "    print('the value of k',k,'is odd number')\n",
    "    \n",
    "else:\n",
    "    print('the value of k',k,'is even number')"
   ]
  },
  {
   "cell_type": "code",
   "execution_count": 41,
   "id": "9589a823",
   "metadata": {},
   "outputs": [
    {
     "name": "stdout",
     "output_type": "stream",
     "text": [
      "enter any student marks90\n",
      "excellent\n"
     ]
    }
   ],
   "source": [
    "marks=int(input('enter any student marks'))\n",
    "\n",
    "if marks>=90:\n",
    "    print('excellent')\n",
    "elif(marks>=80 and marks<90):\n",
    "    print('very good')\n",
    "elif(marks>70 and marks<80):\n",
    "    print('good')\n",
    "elif(marks>60 and marks<70):\n",
    "    print('average')\n",
    "elif(marks>50 and marks<60):\n",
    "    print('below average')\n",
    "else:\n",
    "    print('poor')"
   ]
  },
  {
   "cell_type": "code",
   "execution_count": 43,
   "id": "1edfe010",
   "metadata": {},
   "outputs": [
    {
     "name": "stdout",
     "output_type": "stream",
     "text": [
      "enter any marks of the student95\n",
      "excellent marks\n"
     ]
    }
   ],
   "source": [
    "marks = int(input('enter any marks of the student'))\n",
    "\n",
    "if marks>=95:\n",
    "    print('excellent marks')\n",
    "elif(marks>=80 and marks<90):\n",
    "    print('very good marks')\n",
    "elif(marks>=70 and marks<80):\n",
    "    print('good')    \n",
    "else:\n",
    "    print('poor')"
   ]
  },
  {
   "cell_type": "code",
   "execution_count": 45,
   "id": "200938c3",
   "metadata": {},
   "outputs": [
    {
     "name": "stdout",
     "output_type": "stream",
     "text": [
      "enter marks50\n",
      "good\n"
     ]
    }
   ],
   "source": [
    "marks=int(input('enter marks'))\n",
    "\n",
    "if marks>=90:\n",
    "    print('excelent')\n",
    "elif(marks>=80 and marks<90):\n",
    "    print('very good')\n",
    "else:\n",
    "    print('good')"
   ]
  },
  {
   "cell_type": "markdown",
   "id": "32db535d",
   "metadata": {},
   "source": [
    "Break function- break function break the loop.\n",
    "\n",
    "continue function - continue is continue the loop."
   ]
  },
  {
   "cell_type": "code",
   "execution_count": 46,
   "id": "75d221ac",
   "metadata": {},
   "outputs": [
    {
     "name": "stdout",
     "output_type": "stream",
     "text": [
      "1\n",
      "2\n",
      "3\n"
     ]
    }
   ],
   "source": [
    "for j in [1,2,3,4,5]:\n",
    "    if j ==4:\n",
    "        break\n",
    "    print(j)"
   ]
  },
  {
   "cell_type": "code",
   "execution_count": 47,
   "id": "9740eb08",
   "metadata": {},
   "outputs": [],
   "source": [
    "for y in [5,6,7,8,9,10]:\n",
    "    if y==9:\n",
    "        break\n",
    "        print(y)"
   ]
  },
  {
   "cell_type": "code",
   "execution_count": 50,
   "id": "07922649",
   "metadata": {},
   "outputs": [
    {
     "name": "stdout",
     "output_type": "stream",
     "text": [
      "30\n",
      "40\n",
      "50\n"
     ]
    }
   ],
   "source": [
    "for marks in [30,40,50,60,70]:\n",
    "    if marks==60:\n",
    "        break\n",
    "    print(marks)"
   ]
  },
  {
   "cell_type": "code",
   "execution_count": 51,
   "id": "22edfa14",
   "metadata": {},
   "outputs": [
    {
     "name": "stdout",
     "output_type": "stream",
     "text": [
      "30\n",
      "40\n",
      "50\n",
      "60\n"
     ]
    }
   ],
   "source": [
    "for marks in [30,40,50,60,70]:\n",
    "    if marks==70:\n",
    "        break\n",
    "    print(marks)"
   ]
  },
  {
   "cell_type": "code",
   "execution_count": 52,
   "id": "8e85f1c9",
   "metadata": {},
   "outputs": [
    {
     "name": "stdout",
     "output_type": "stream",
     "text": [
      "30\n"
     ]
    }
   ],
   "source": [
    "for marks in [30,40,50,60,70]:\n",
    "    if marks==40:\n",
    "        break\n",
    "    print(marks)"
   ]
  },
  {
   "cell_type": "code",
   "execution_count": 53,
   "id": "fd7a107e",
   "metadata": {},
   "outputs": [
    {
     "name": "stdout",
     "output_type": "stream",
     "text": [
      "1\n",
      "2\n",
      "3\n",
      "5\n"
     ]
    }
   ],
   "source": [
    "for j in [1,2,3,4,5]:\n",
    "    if j ==4:\n",
    "        continue\n",
    "    print(j)"
   ]
  },
  {
   "cell_type": "code",
   "execution_count": 54,
   "id": "6e8dd63f",
   "metadata": {},
   "outputs": [
    {
     "name": "stdout",
     "output_type": "stream",
     "text": [
      "30\n",
      "50\n",
      "60\n",
      "70\n"
     ]
    }
   ],
   "source": [
    "for marks in [30,40,50,60,70]:\n",
    "    if marks==40:\n",
    "        continue\n",
    "    print(marks)"
   ]
  },
  {
   "cell_type": "code",
   "execution_count": 55,
   "id": "6e403082",
   "metadata": {},
   "outputs": [
    {
     "name": "stdout",
     "output_type": "stream",
     "text": [
      "apple\n",
      "mango\n"
     ]
    }
   ],
   "source": [
    "for j in ['apple','mango','banana','orange']:\n",
    "    if j=='banana':\n",
    "        break\n",
    "    print(j)"
   ]
  },
  {
   "cell_type": "code",
   "execution_count": 56,
   "id": "8b7d548e",
   "metadata": {},
   "outputs": [
    {
     "name": "stdout",
     "output_type": "stream",
     "text": [
      "apple\n",
      "mango\n",
      "orange\n"
     ]
    }
   ],
   "source": [
    "for j in ['apple','mango','banana','orange']:\n",
    "    if j=='banana':\n",
    "        continue\n",
    "    print(j)"
   ]
  },
  {
   "cell_type": "code",
   "execution_count": 57,
   "id": "fc8975d2",
   "metadata": {},
   "outputs": [
    {
     "name": "stdout",
     "output_type": "stream",
     "text": [
      "10\n",
      "20\n",
      "30\n"
     ]
    }
   ],
   "source": [
    "for j in [10,20,30,40,50]:\n",
    "    if j==40:\n",
    "        break\n",
    "    print(j)"
   ]
  },
  {
   "cell_type": "code",
   "execution_count": 58,
   "id": "99bf333b",
   "metadata": {},
   "outputs": [
    {
     "name": "stdout",
     "output_type": "stream",
     "text": [
      "10\n",
      "20\n",
      "30\n",
      "50\n"
     ]
    }
   ],
   "source": [
    "for j in [10,20,30,40,50]:\n",
    "    if j==40:\n",
    "        continue\n",
    "    print(j)"
   ]
  },
  {
   "cell_type": "code",
   "execution_count": 59,
   "id": "3fcb8879",
   "metadata": {},
   "outputs": [
    {
     "data": {
      "text/plain": [
       "[0, 1, 2, 3, 4]"
      ]
     },
     "execution_count": 59,
     "metadata": {},
     "output_type": "execute_result"
    }
   ],
   "source": [
    "list(range(0,5))"
   ]
  },
  {
   "cell_type": "code",
   "execution_count": 60,
   "id": "aeb6b589",
   "metadata": {},
   "outputs": [
    {
     "data": {
      "text/plain": [
       "[2, 3, 4, 5, 6, 7, 8, 9, 10, 11, 12, 13, 14, 15, 16, 17, 18, 19]"
      ]
     },
     "execution_count": 60,
     "metadata": {},
     "output_type": "execute_result"
    }
   ],
   "source": [
    "list(range(2,20))"
   ]
  },
  {
   "cell_type": "code",
   "execution_count": 61,
   "id": "4cef4af1",
   "metadata": {},
   "outputs": [
    {
     "name": "stdout",
     "output_type": "stream",
     "text": [
      "2  3  4  5  6  7  8  9  10  11  12  13  14  15  16  17  18  19  "
     ]
    }
   ],
   "source": [
    "for n in range(2,20):\n",
    "    print(n,end=\"  \")"
   ]
  },
  {
   "cell_type": "markdown",
   "id": "d28037c1",
   "metadata": {},
   "source": [
    "jump in range function"
   ]
  },
  {
   "cell_type": "code",
   "execution_count": 62,
   "id": "0892fa6d",
   "metadata": {},
   "outputs": [
    {
     "data": {
      "text/plain": [
       "[2, 7, 12, 17]"
      ]
     },
     "execution_count": 62,
     "metadata": {},
     "output_type": "execute_result"
    }
   ],
   "source": [
    "list(range(2,20,5))"
   ]
  },
  {
   "cell_type": "code",
   "execution_count": 63,
   "id": "5ee5cd98",
   "metadata": {},
   "outputs": [
    {
     "data": {
      "text/plain": [
       "[1, 3, 5, 7, 9, 11, 13, 15, 17, 19]"
      ]
     },
     "execution_count": 63,
     "metadata": {},
     "output_type": "execute_result"
    }
   ],
   "source": [
    "list(range(1,20,2))"
   ]
  },
  {
   "cell_type": "code",
   "execution_count": 64,
   "id": "e4c5e6a5",
   "metadata": {},
   "outputs": [
    {
     "name": "stdout",
     "output_type": "stream",
     "text": [
      "1\n",
      "3\n",
      "5\n",
      "7\n",
      "9\n",
      "11\n",
      "13\n",
      "15\n",
      "17\n",
      "19\n"
     ]
    }
   ],
   "source": [
    "for j in list(range(1,20,2)):\n",
    "    print(j)"
   ]
  },
  {
   "cell_type": "code",
   "execution_count": 65,
   "id": "0f6fb2ab",
   "metadata": {},
   "outputs": [],
   "source": [
    "c=list(range(1,20,2))"
   ]
  },
  {
   "cell_type": "code",
   "execution_count": 66,
   "id": "6a78f77a",
   "metadata": {},
   "outputs": [
    {
     "data": {
      "text/plain": [
       "[1, 3, 5, 7, 9, 11, 13, 15, 17, 19]"
      ]
     },
     "execution_count": 66,
     "metadata": {},
     "output_type": "execute_result"
    }
   ],
   "source": [
    "c"
   ]
  },
  {
   "cell_type": "code",
   "execution_count": 67,
   "id": "8bc4faf1",
   "metadata": {},
   "outputs": [
    {
     "name": "stdout",
     "output_type": "stream",
     "text": [
      "1\n",
      "3\n",
      "5\n",
      "7\n",
      "9\n",
      "11\n",
      "13\n",
      "15\n",
      "17\n",
      "19\n"
     ]
    }
   ],
   "source": [
    "for k in c:\n",
    "    print(k)"
   ]
  },
  {
   "cell_type": "code",
   "execution_count": 71,
   "id": "bde79857",
   "metadata": {},
   "outputs": [
    {
     "name": "stdout",
     "output_type": "stream",
     "text": [
      "10\n",
      "30\n",
      "50\n",
      "70\n",
      "90\n"
     ]
    }
   ],
   "source": [
    "for i in range(10,100,20):\n",
    "    print(i)"
   ]
  },
  {
   "cell_type": "code",
   "execution_count": 72,
   "id": "08c4e2f0",
   "metadata": {},
   "outputs": [],
   "source": [
    "d = (list(range(2,20,2)))"
   ]
  },
  {
   "cell_type": "code",
   "execution_count": 73,
   "id": "5dd769b1",
   "metadata": {},
   "outputs": [
    {
     "data": {
      "text/plain": [
       "[2, 4, 6, 8, 10, 12, 14, 16, 18]"
      ]
     },
     "execution_count": 73,
     "metadata": {},
     "output_type": "execute_result"
    }
   ],
   "source": [
    "d"
   ]
  },
  {
   "cell_type": "code",
   "execution_count": 74,
   "id": "b059b9cb",
   "metadata": {},
   "outputs": [
    {
     "name": "stdout",
     "output_type": "stream",
     "text": [
      "2\n",
      "4\n",
      "6\n",
      "8\n",
      "10\n",
      "12\n",
      "14\n",
      "16\n",
      "18\n"
     ]
    }
   ],
   "source": [
    "for i in d:\n",
    "    print(i)"
   ]
  },
  {
   "cell_type": "code",
   "execution_count": null,
   "id": "49602681",
   "metadata": {},
   "outputs": [],
   "source": []
  }
 ],
 "metadata": {
  "kernelspec": {
   "display_name": "Python 3 (ipykernel)",
   "language": "python",
   "name": "python3"
  },
  "language_info": {
   "codemirror_mode": {
    "name": "ipython",
    "version": 3
   },
   "file_extension": ".py",
   "mimetype": "text/x-python",
   "name": "python",
   "nbconvert_exporter": "python",
   "pygments_lexer": "ipython3",
   "version": "3.9.7"
  }
 },
 "nbformat": 4,
 "nbformat_minor": 5
}
